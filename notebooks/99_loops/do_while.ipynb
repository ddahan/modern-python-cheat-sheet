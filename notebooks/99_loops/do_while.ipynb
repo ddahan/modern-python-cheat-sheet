{
 "cells": [
  {
   "cell_type": "markdown",
   "metadata": {},
   "source": [
    "### Do ... while\n",
    "\n",
    "Python does not have built-in functionality to explicitly create a do while loop like other languages.\n",
    "\n",
    "To simulate this structure, we can use `while True` + `break` statement, being careful to not make an infinite loop."
   ]
  },
  {
   "cell_type": "code",
   "execution_count": 3,
   "metadata": {},
   "outputs": [],
   "source": [
    "secret_word = \"python\"\n",
    "while \"Secret word is not found\":  # equivalent to \"while True\", but more explicit\n",
    "    word = input(\"Enter the secret word: \")\n",
    "    if word == secret_word:\n",
    "        break"
   ]
  }
 ],
 "metadata": {
  "kernelspec": {
   "display_name": "Python 3",
   "language": "python",
   "name": "python3"
  },
  "language_info": {
   "codemirror_mode": {
    "name": "ipython",
    "version": 3
   },
   "file_extension": ".py",
   "mimetype": "text/x-python",
   "name": "python",
   "nbconvert_exporter": "python",
   "pygments_lexer": "ipython3",
   "version": "3.11.5"
  },
  "orig_nbformat": 4
 },
 "nbformat": 4,
 "nbformat_minor": 2
}
