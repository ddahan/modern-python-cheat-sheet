{
 "cells": [
  {
   "cell_type": "markdown",
   "metadata": {},
   "source": [
    "### Formatting strings / concatenation"
   ]
  },
  {
   "cell_type": "markdown",
   "metadata": {},
   "source": [
    "**f-strings**"
   ]
  },
  {
   "cell_type": "markdown",
   "metadata": {},
   "source": [
    "Generally, f-strings are more readable because placeholders and variables are not separated."
   ]
  },
  {
   "cell_type": "code",
   "execution_count": 3,
   "metadata": {},
   "outputs": [
    {
     "name": "stdout",
     "output_type": "stream",
     "text": [
      "My name is John and I am 30.\n",
      "My name is John and I am 30.\n"
     ]
    }
   ],
   "source": [
    "name, age = \"John\", 30\n",
    "print(f\"My name is {name} and I am {age}.\")  # good\n",
    "print(\"My name is {} and I am {}.\".format(name, age))  # meeh"
   ]
  },
  {
   "cell_type": "markdown",
   "metadata": {},
   "source": [
    "**format**"
   ]
  },
  {
   "cell_type": "markdown",
   "metadata": {},
   "source": [
    "However, format strings can be reused or stored for later use, in a \"lazy\" way."
   ]
  },
  {
   "cell_type": "code",
   "execution_count": 6,
   "metadata": {},
   "outputs": [
    {
     "name": "stdout",
     "output_type": "stream",
     "text": [
      "Sorry David, you can't buy this article because it requires 139€.\n"
     ]
    }
   ],
   "source": [
    "# In an file containing all the errors\n",
    "insufficient_amount_error = (\n",
    "    \"Sorry {name}, you can't buy this article because it requires {amount}€.\"\n",
    ")\n",
    "...\n",
    "\n",
    "# Somewhere else in the code\n",
    "print(insufficient_amount_error.format(name=\"David\", amount=139))"
   ]
  },
  {
   "cell_type": "markdown",
   "metadata": {},
   "source": [
    "**+ operator**\n",
    "\n",
    "In some simple cases, it may be easier to use the `+` operator"
   ]
  },
  {
   "cell_type": "code",
   "execution_count": 2,
   "metadata": {},
   "outputs": [
    {
     "name": "stdout",
     "output_type": "stream",
     "text": [
      "hello world!\n"
     ]
    }
   ],
   "source": [
    "print(\"hello \" + \"world!\")"
   ]
  },
  {
   "cell_type": "markdown",
   "metadata": {},
   "source": [
    "However, prefer f-strings as soon as there are multiple strings."
   ]
  }
 ],
 "metadata": {
  "kernelspec": {
   "display_name": "Python 3",
   "language": "python",
   "name": "python3"
  },
  "language_info": {
   "codemirror_mode": {
    "name": "ipython",
    "version": 3
   },
   "file_extension": ".py",
   "mimetype": "text/x-python",
   "name": "python",
   "nbconvert_exporter": "python",
   "pygments_lexer": "ipython3",
   "version": "3.11.5"
  },
  "orig_nbformat": 4
 },
 "nbformat": 4,
 "nbformat_minor": 2
}
