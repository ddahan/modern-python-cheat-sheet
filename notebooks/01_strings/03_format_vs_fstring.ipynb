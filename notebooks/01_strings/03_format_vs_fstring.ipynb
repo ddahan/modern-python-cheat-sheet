{
 "cells": [
  {
   "cell_type": "markdown",
   "metadata": {},
   "source": [
    "### Should I use `format` method or f-strings?"
   ]
  },
  {
   "cell_type": "markdown",
   "metadata": {},
   "source": [
    "Generally, f-strings are more readable because placeholders and variables are not separated."
   ]
  },
  {
   "cell_type": "code",
   "execution_count": 3,
   "metadata": {},
   "outputs": [
    {
     "name": "stdout",
     "output_type": "stream",
     "text": [
      "My name is John and I am 30.\n",
      "My name is John and I am 30.\n"
     ]
    }
   ],
   "source": [
    "name, age = \"John\", 30\n",
    "print(f\"My name is {name} and I am {age}.\")  # good\n",
    "print(\"My name is {} and I am {}.\".format(name, age))  # meeh"
   ]
  },
  {
   "cell_type": "markdown",
   "metadata": {},
   "source": [
    "However, format strings can be reused or stored for later use, in a \"lazy\" way."
   ]
  },
  {
   "cell_type": "code",
   "execution_count": 6,
   "metadata": {},
   "outputs": [
    {
     "name": "stdout",
     "output_type": "stream",
     "text": [
      "Sorry David, you can't buy this article because it requires 139€.\n"
     ]
    }
   ],
   "source": [
    "# In an file containing all the errors\n",
    "insufficient_amount_error = (\n",
    "    \"Sorry {name}, you can't buy this article because it requires {amount}€.\"\n",
    ")\n",
    "...\n",
    "\n",
    "# Somewhere else in the code\n",
    "print(insufficient_amount_error.format(name=\"David\", amount=139))"
   ]
  }
 ],
 "metadata": {
  "kernelspec": {
   "display_name": "Python 3",
   "language": "python",
   "name": "python3"
  },
  "language_info": {
   "codemirror_mode": {
    "name": "ipython",
    "version": 3
   },
   "file_extension": ".py",
   "mimetype": "text/x-python",
   "name": "python",
   "nbconvert_exporter": "python",
   "pygments_lexer": "ipython3",
   "version": "3.11.5"
  },
  "orig_nbformat": 4
 },
 "nbformat": 4,
 "nbformat_minor": 2
}
