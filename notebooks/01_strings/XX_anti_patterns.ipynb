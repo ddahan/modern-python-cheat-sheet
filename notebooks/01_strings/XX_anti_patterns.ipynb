{
 "cells": [
  {
   "cell_type": "markdown",
   "metadata": {},
   "source": [
    "**Manually rounding in a print statement**"
   ]
  },
  {
   "cell_type": "markdown",
   "metadata": {},
   "source": [
    "Don't do this:"
   ]
  },
  {
   "cell_type": "code",
   "execution_count": 1,
   "metadata": {},
   "outputs": [
    {
     "name": "stdout",
     "output_type": "stream",
     "text": [
      "Finished in 1.23 seconds.\n"
     ]
    }
   ],
   "source": [
    "t = 1.234398243  # we don't want to print all that numbers!\n",
    "\n",
    "print(f\"Finished in {round(t, 2)} seconds.\")"
   ]
  },
  {
   "cell_type": "markdown",
   "metadata": {},
   "source": [
    "Use built-in string format specifier: do this instead:"
   ]
  },
  {
   "cell_type": "code",
   "execution_count": 3,
   "metadata": {},
   "outputs": [
    {
     "name": "stdout",
     "output_type": "stream",
     "text": [
      "Finished in 1.23 seconds.\n"
     ]
    }
   ],
   "source": [
    "print(f\"Finished in {t:.2f} seconds.\")"
   ]
  },
  {
   "cell_type": "markdown",
   "metadata": {},
   "source": [
    "**Building a string with +=**\n",
    "\n",
    "Don't do this:"
   ]
  },
  {
   "cell_type": "code",
   "execution_count": 8,
   "metadata": {},
   "outputs": [
    {
     "name": "stdout",
     "output_type": "stream",
     "text": [
      "some string 0some string 1some string 2some string 3some string 4some string 5some string 6some string 7some string 8some string 9some string 10some string 11some string 12some string 13some string 14some string 15some string 16some string 17some string 18some string 19some string 20some string 21some string 22some string 23some string 24some string 25some string 26some string 27some string 28some string 29some string 30some string 31some string 32some string 33some string 34some string 35some string 36some string 37some string 38some string 39some string 40some string 41some string 42some string 43some string 44some string 45some string 46some string 47some string 48some string 49some string 50some string 51some string 52some string 53some string 54some string 55some string 56some string 57some string 58some string 59some string 60some string 61some string 62some string 63some string 64some string 65some string 66some string 67some string 68some string 69some string 70some string 71some string 72some string 73some string 74some string 75some string 76some string 77some string 78some string 79some string 80some string 81some string 82some string 83some string 84some string 85some string 86some string 87some string 88some string 89some string 90some string 91some string 92some string 93some string 94some string 95some string 96some string 97some string 98some string 99\n"
     ]
    }
   ],
   "source": [
    "s = \"\"\n",
    "for i in range(100):\n",
    "    s += f\"some string {i}\"\n",
    "print(s)"
   ]
  },
  {
   "cell_type": "markdown",
   "metadata": {},
   "source": [
    "This makes a hundred copies or a larger and larger string. Use a StringIO object to use a growing in-memory buffer to minimize the number of copies of the string data.\n",
    "\n",
    "Do this instead:"
   ]
  },
  {
   "cell_type": "code",
   "execution_count": 9,
   "metadata": {},
   "outputs": [
    {
     "name": "stdout",
     "output_type": "stream",
     "text": [
      "some string 0some string 1some string 2some string 3some string 4some string 5some string 6some string 7some string 8some string 9some string 10some string 11some string 12some string 13some string 14some string 15some string 16some string 17some string 18some string 19some string 20some string 21some string 22some string 23some string 24some string 25some string 26some string 27some string 28some string 29some string 30some string 31some string 32some string 33some string 34some string 35some string 36some string 37some string 38some string 39some string 40some string 41some string 42some string 43some string 44some string 45some string 46some string 47some string 48some string 49some string 50some string 51some string 52some string 53some string 54some string 55some string 56some string 57some string 58some string 59some string 60some string 61some string 62some string 63some string 64some string 65some string 66some string 67some string 68some string 69some string 70some string 71some string 72some string 73some string 74some string 75some string 76some string 77some string 78some string 79some string 80some string 81some string 82some string 83some string 84some string 85some string 86some string 87some string 88some string 89some string 90some string 91some string 92some string 93some string 94some string 95some string 96some string 97some string 98some string 99\n"
     ]
    }
   ],
   "source": [
    "from io import StringIO\n",
    "\n",
    "ss = StringIO()\n",
    "for i in range(100):\n",
    "    ss.write(f\"some string {i}\")\n",
    "s = ss.getvalue()  # convert the StringIO object back to a string\n",
    "print(s)"
   ]
  }
 ],
 "metadata": {
  "kernelspec": {
   "display_name": "Python 3",
   "language": "python",
   "name": "python3"
  },
  "language_info": {
   "codemirror_mode": {
    "name": "ipython",
    "version": 3
   },
   "file_extension": ".py",
   "mimetype": "text/x-python",
   "name": "python",
   "nbconvert_exporter": "python",
   "pygments_lexer": "ipython3",
   "version": "3.11.5"
  },
  "orig_nbformat": 4
 },
 "nbformat": 4,
 "nbformat_minor": 2
}
