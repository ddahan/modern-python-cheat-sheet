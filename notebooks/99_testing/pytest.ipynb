{
 "cells": [
  {
   "cell_type": "markdown",
   "metadata": {},
   "source": [
    "### Pytest\n",
    "\n",
    "Compared to built-in `unittest` test framework, pytest have numerous benefits:\n",
    "- simpler and more pythonic syntax (less boilerplate, single `assert`)\n",
    "- more human-friendly output\n",
    "- extensible with plugins\n",
    "- native support for parameterized testing"
   ]
  },
  {
   "cell_type": "markdown",
   "metadata": {},
   "source": [
    "**Test Discovery**\n",
    "\n",
    "- Files can be live anywhere in a module, and start with `test_`.\n",
    "- Test functions must start with `test_` too. "
   ]
  },
  {
   "cell_type": "markdown",
   "metadata": {},
   "source": [
    "**Test writing example**"
   ]
  },
  {
   "cell_type": "code",
   "execution_count": 1,
   "metadata": {},
   "outputs": [],
   "source": [
    "def test_always_passes():\n",
    "    assert True\n"
   ]
  },
  {
   "cell_type": "markdown",
   "metadata": {},
   "source": [
    "**Fixtures**"
   ]
  },
  {
   "cell_type": "markdown",
   "metadata": {},
   "source": [
    "Unlike unittest, pytest uses **explicit** dependency declarations via fixtures. Fixtures can create data, or initialize system state for the test suite."
   ]
  },
  {
   "cell_type": "code",
   "execution_count": 4,
   "metadata": {},
   "outputs": [],
   "source": [
    "import pytest\n",
    "\n",
    "\n",
    "@pytest.fixture\n",
    "def example_fixture() -> int:\n",
    "    return 1\n",
    "\n",
    "\n",
    "def test_with_fixture(example_fixture: int):\n",
    "    assert example_fixture == 1\n"
   ]
  },
  {
   "cell_type": "markdown",
   "metadata": {},
   "source": [
    "**Parametrized tests**\n",
    "\n",
    "You can parametrize a single test definition, and pytest will create variants of the test for you with the parameters you specify."
   ]
  },
  {
   "cell_type": "code",
   "execution_count": 5,
   "metadata": {},
   "outputs": [],
   "source": [
    "def is_palindrome(s: str) -> bool:\n",
    "    ...\n"
   ]
  },
  {
   "cell_type": "markdown",
   "metadata": {},
   "source": [
    "Don't do this:"
   ]
  },
  {
   "cell_type": "code",
   "execution_count": null,
   "metadata": {},
   "outputs": [],
   "source": [
    "def test_is_palindrome_empty_string():\n",
    "    assert is_palindrome(\"\")\n",
    "\n",
    "\n",
    "def test_is_palindrome_single_character():\n",
    "    assert is_palindrome(\"a\")\n",
    "\n",
    "\n",
    "def test_is_palindrome_mixed_casing():\n",
    "    assert is_palindrome(\"Bob\")\n",
    "\n",
    "\n",
    "def test_is_palindrome_with_spaces():\n",
    "    assert is_palindrome(\"Never odd or even\")\n",
    "\n",
    "\n",
    "def test_is_palindrome_with_punctuation():\n",
    "    assert is_palindrome(\"Do geese see God?\")\n",
    "\n",
    "\n",
    "def test_is_palindrome_not_palindrome():\n",
    "    assert not is_palindrome(\"abc\")\n",
    "\n",
    "\n",
    "def test_is_palindrome_not_quite():\n",
    "    assert not is_palindrome(\"abab\")\n"
   ]
  },
  {
   "cell_type": "markdown",
   "metadata": {},
   "source": []
  },
  {
   "cell_type": "markdown",
   "metadata": {},
   "source": [
    "Do this instead:"
   ]
  },
  {
   "cell_type": "code",
   "execution_count": null,
   "metadata": {},
   "outputs": [],
   "source": [
    "@pytest.mark.parametrize(\n",
    "    \"maybe_palindrome, expected_result\",\n",
    "    [\n",
    "        (\"\", True),\n",
    "        (\"a\", True),\n",
    "        (\"Bob\", True),\n",
    "        (\"Never odd or even\", True),\n",
    "        (\"Do geese see God?\", True),\n",
    "        (\"abc\", False),\n",
    "        (\"abab\", False),\n",
    "    ],\n",
    ")\n",
    "def test_is_palindrome(maybe_palindrome: str, expected_result: bool):\n",
    "    assert is_palindrome(maybe_palindrome) == expected_result\n"
   ]
  },
  {
   "cell_type": "markdown",
   "metadata": {},
   "source": [
    "**VS Code Integration**\n",
    "\n",
    "See https://code.visualstudio.com/docs/python/testing"
   ]
  }
 ],
 "metadata": {
  "kernelspec": {
   "display_name": "Python 3",
   "language": "python",
   "name": "python3"
  },
  "language_info": {
   "codemirror_mode": {
    "name": "ipython",
    "version": 3
   },
   "file_extension": ".py",
   "mimetype": "text/x-python",
   "name": "python",
   "nbconvert_exporter": "python",
   "pygments_lexer": "ipython3",
   "version": "3.12.0"
  }
 },
 "nbformat": 4,
 "nbformat_minor": 2
}
