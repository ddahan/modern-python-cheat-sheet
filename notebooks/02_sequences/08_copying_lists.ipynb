{
    "cells": [
        {
            "cell_type": "markdown",
            "metadata": {},
            "source": [
                "### Copying lists"
            ]
        },
        {
            "cell_type": "markdown",
            "metadata": {},
            "source": [
                "**Using `copy` method** for a shallow copy"
            ]
        },
        {
            "cell_type": "code",
            "execution_count": 4,
            "metadata": {},
            "outputs": [
                {
                    "name": "stdout",
                    "output_type": "stream",
                    "text": [
                        "[1, 2, 3]\n",
                        "False\n"
                    ]
                }
            ],
            "source": [
                "original_list = [1, 2, 3]\n",
                "copied_list = original_list.copy()\n",
                "print(copied_list)\n",
                "print(original_list is copied_list)"
            ]
        },
        {
            "cell_type": "markdown",
            "metadata": {},
            "source": [
                "**Using `list` constructor** for a shallow copy"
            ]
        },
        {
            "cell_type": "code",
            "execution_count": 5,
            "metadata": {},
            "outputs": [
                {
                    "name": "stdout",
                    "output_type": "stream",
                    "text": [
                        "[1, 2, 3]\n",
                        "False\n"
                    ]
                }
            ],
            "source": [
                "original_list = [1, 2, 3]\n",
                "copied_list = list(original_list)\n",
                "print(copied_list)\n",
                "print(original_list is copied_list)"
            ]
        },
        {
            "cell_type": "markdown",
            "metadata": {},
            "source": [
                "**Using `copy` module** for both shallow copy and deep copy."
            ]
        },
        {
            "cell_type": "code",
            "execution_count": 6,
            "metadata": {},
            "outputs": [],
            "source": [
                "import copy"
            ]
        },
        {
            "cell_type": "code",
            "execution_count": 7,
            "metadata": {},
            "outputs": [
                {
                    "name": "stdout",
                    "output_type": "stream",
                    "text": [
                        "[1, 2, 3]\n",
                        "False\n"
                    ]
                }
            ],
            "source": [
                "original_list = [1, 2, 3]\n",
                "copied_list = copy.copy(original_list)\n",
                "print(copied_list)\n",
                "print(original_list is copied_list)"
            ]
        },
        {
            "cell_type": "code",
            "execution_count": 8,
            "metadata": {},
            "outputs": [
                {
                    "name": "stdout",
                    "output_type": "stream",
                    "text": [
                        "[[1, 2, 3], [4, 5, 6]]\n",
                        "False\n"
                    ]
                }
            ],
            "source": [
                "original_list = [[1, 2, 3], [4, 5, 6]]\n",
                "copied_list = copy.deepcopy(original_list)\n",
                "print(copied_list)\n",
                "print(original_list is copied_list)"
            ]
        },
        {
            "cell_type": "markdown",
            "metadata": {},
            "source": [
                "**The `=` operator does not copy the list!**\n",
                "\n",
                "When the `=` operator is used, a new reference to the original list is created."
            ]
        },
        {
            "cell_type": "code",
            "execution_count": 9,
            "metadata": {},
            "outputs": [
                {
                    "name": "stdout",
                    "output_type": "stream",
                    "text": [
                        "[1, 2, 3]\n",
                        "True\n"
                    ]
                }
            ],
            "source": [
                "original_list = [1, 2, 3]\n",
                "copied_list = original_list\n",
                "print(copied_list)\n",
                "print(copied_list is original_list)"
            ]
        }
    ],
    "metadata": {
        "kernelspec": {
            "display_name": "Python 3",
            "language": "python",
            "name": "python3"
        },
        "language_info": {
            "codemirror_mode": {
                "name": "ipython",
                "version": 3
            },
            "file_extension": ".py",
            "mimetype": "text/x-python",
            "name": "python",
            "nbconvert_exporter": "python",
            "pygments_lexer": "ipython3",
            "version": "3.11.5"
        },
        "orig_nbformat": 4
    },
    "nbformat": 4,
    "nbformat_minor": 2
}
