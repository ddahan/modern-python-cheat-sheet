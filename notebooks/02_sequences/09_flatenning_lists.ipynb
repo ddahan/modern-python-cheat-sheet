{
 "cells": [
  {
   "cell_type": "markdown",
   "metadata": {},
   "source": [
    "### Flatenning lists"
   ]
  },
  {
   "cell_type": "markdown",
   "metadata": {},
   "source": [
    "**Simple flattening** (1 level)"
   ]
  },
  {
   "cell_type": "code",
   "execution_count": 20,
   "metadata": {},
   "outputs": [
    {
     "name": "stdout",
     "output_type": "stream",
     "text": [
      "[1, 2, 3, 4, 5, 6]\n"
     ]
    }
   ],
   "source": [
    "from itertools import chain\n",
    "\n",
    "a_list = [[1, 2], [3, 4], [5, 6]]\n",
    "print(list(chain(*a_list)))"
   ]
  },
  {
   "cell_type": "markdown",
   "metadata": {},
   "source": [
    "**Deep flattening** (n levels)"
   ]
  },
  {
   "cell_type": "code",
   "execution_count": 21,
   "metadata": {},
   "outputs": [],
   "source": [
    "from typing import Any"
   ]
  },
  {
   "cell_type": "markdown",
   "metadata": {},
   "source": [
    "Iterative version"
   ]
  },
  {
   "cell_type": "code",
   "execution_count": 22,
   "metadata": {},
   "outputs": [
    {
     "data": {
      "text/plain": [
       "[1, 2, 3, 4, 5, 6, 7, 8, 9]"
      ]
     },
     "execution_count": 22,
     "metadata": {},
     "output_type": "execute_result"
    }
   ],
   "source": [
    "def deep_flatten_iter(arg: list[Any]) -> list[Any]:\n",
    "    result = []\n",
    "    for elt in arg:\n",
    "        if isinstance(elt, list):\n",
    "            result.extend(elt)  # type: ignore\n",
    "        else:\n",
    "            result.append(elt)  # type: ignore\n",
    "    return result  # type: ignore\n",
    "\n",
    "\n",
    "deep_flatten_iter([1, 2, 3, [4, 5, 6], [7], 8, 9])"
   ]
  },
  {
   "cell_type": "markdown",
   "metadata": {},
   "source": [
    "Recursive version"
   ]
  },
  {
   "cell_type": "code",
   "execution_count": 23,
   "metadata": {},
   "outputs": [
    {
     "data": {
      "text/plain": [
       "[1, 2, 3, 4, 5, 6, 7, 8, 9]"
      ]
     },
     "execution_count": 23,
     "metadata": {},
     "output_type": "execute_result"
    }
   ],
   "source": [
    "def deep_flatten_rec(arg: list[Any], result: list[Any] | None = None) -> list[Any]:\n",
    "    if result is None:\n",
    "        result = []\n",
    "\n",
    "    if not arg:\n",
    "        return result\n",
    "\n",
    "    elt, *rest = arg  # First element and the rest of the list\n",
    "\n",
    "    if isinstance(elt, list):\n",
    "        deep_flatten_rec(elt, result)  # Flatten the nested list  # type: ignore\n",
    "    else:\n",
    "        result.append(elt)\n",
    "\n",
    "    return deep_flatten_rec(rest, result)\n",
    "\n",
    "\n",
    "deep_flatten_rec([1, 2, 3, [4, 5, 6], [7], 8, 9])"
   ]
  }
 ],
 "metadata": {
  "kernelspec": {
   "display_name": "Python 3",
   "language": "python",
   "name": "python3"
  },
  "language_info": {
   "codemirror_mode": {
    "name": "ipython",
    "version": 3
   },
   "file_extension": ".py",
   "mimetype": "text/x-python",
   "name": "python",
   "nbconvert_exporter": "python",
   "pygments_lexer": "ipython3",
   "version": "3.11.5"
  },
  "orig_nbformat": 4
 },
 "nbformat": 4,
 "nbformat_minor": 2
}
