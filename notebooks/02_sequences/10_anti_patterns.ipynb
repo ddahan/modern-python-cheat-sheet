{
 "cells": [
  {
   "cell_type": "markdown",
   "metadata": {},
   "source": [
    "**Don't use a default mutable argument**\n",
    "\n",
    "In the following example, every call to the function is sharing the **same** list.\n",
    "\n",
    "Don't do this:"
   ]
  },
  {
   "cell_type": "code",
   "execution_count": 4,
   "metadata": {},
   "outputs": [
    {
     "name": "stdout",
     "output_type": "stream",
     "text": [
      "[1, 2]\n"
     ]
    }
   ],
   "source": [
    "def my_append(n: int, l: list[int] = []) -> list[int]:\n",
    "    l.append(n)\n",
    "    return l\n",
    "\n",
    "\n",
    "l1 = my_append(1)\n",
    "l2 = my_append(2)\n",
    "print(l2)  # should only contain 2, right?"
   ]
  },
  {
   "cell_type": "markdown",
   "metadata": {},
   "source": [
    "Do this instead:"
   ]
  },
  {
   "cell_type": "code",
   "execution_count": 9,
   "metadata": {},
   "outputs": [
    {
     "name": "stdout",
     "output_type": "stream",
     "text": [
      "[2]\n"
     ]
    }
   ],
   "source": [
    "def my_append(n: int, l: list[int] | None = None) -> list[int]:\n",
    "    if l is None:\n",
    "        l = []\n",
    "    l.append(n)\n",
    "    return l\n",
    "\n",
    "\n",
    "l1 = my_append(1)\n",
    "l2 = my_append(2)\n",
    "print(l2)"
   ]
  }
 ],
 "metadata": {
  "kernelspec": {
   "display_name": "Python 3",
   "language": "python",
   "name": "python3"
  },
  "language_info": {
   "codemirror_mode": {
    "name": "ipython",
    "version": 3
   },
   "file_extension": ".py",
   "mimetype": "text/x-python",
   "name": "python",
   "nbconvert_exporter": "python",
   "pygments_lexer": "ipython3",
   "version": "3.11.5"
  },
  "orig_nbformat": 4
 },
 "nbformat": 4,
 "nbformat_minor": 2
}
