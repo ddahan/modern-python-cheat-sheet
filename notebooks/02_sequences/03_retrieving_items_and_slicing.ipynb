{
 "cells": [
  {
   "cell_type": "markdown",
   "metadata": {},
   "source": [
    "### Retrieving items / Slicing"
   ]
  },
  {
   "cell_type": "markdown",
   "metadata": {},
   "source": [
    "**Retrieving first/last item of an Array**"
   ]
  },
  {
   "cell_type": "code",
   "execution_count": null,
   "metadata": {},
   "outputs": [
    {
     "name": "stdout",
     "output_type": "stream",
     "text": [
      "First item: 0\n",
      "Last item: 5\n",
      "First 3 items: [0, 1, 2]\n",
      "Last 3 items: [3, 4, 5]\n",
      "All items from the 3rd index position [3, 4, 5]\n",
      "All items from the -3rd index position [3, 4, 5]\n"
     ]
    }
   ],
   "source": [
    "my_list = [0, 1, 2, 3, 4, 5]\n",
    "print(\"First item:\", my_list[0])\n",
    "print(\"Last item:\", my_list[-1])\n",
    "print(\"First 3 items:\", my_list[:3])\n",
    "print(\"Last 3 items:\", my_list[-3:])\n",
    "print(\"All items from the 3rd index position\", my_list[3:])\n",
    "print(\"All items from the -3rd index position\", my_list[-3:])"
   ]
  },
  {
   "cell_type": "markdown",
   "metadata": {},
   "source": [
    "> Slicing is quite flexible and won't raise an `IndexError` if the starting index is out of range. It will just return an empty list in that case."
   ]
  },
  {
   "cell_type": "markdown",
   "metadata": {},
   "source": [
    "**Retrieving index in a Sequence with passing the value**"
   ]
  },
  {
   "cell_type": "code",
   "execution_count": null,
   "metadata": {},
   "outputs": [
    {
     "name": "stdout",
     "output_type": "stream",
     "text": [
      "The value 3 is found at index 2.\n"
     ]
    }
   ],
   "source": [
    "my_list = [1, 2, 3, 4, 5]\n",
    "value_to_find = 3\n",
    "\n",
    "try:\n",
    "    index = my_list.index(value_to_find)\n",
    "    print(f\"The value {value_to_find} is found at index {index}.\")\n",
    "except ValueError:\n",
    "    print(f\"The value {value_to_find} is not in the list.\")"
   ]
  }
 ],
 "metadata": {
  "language_info": {
   "name": "python"
  },
  "orig_nbformat": 4
 },
 "nbformat": 4,
 "nbformat_minor": 2
}
