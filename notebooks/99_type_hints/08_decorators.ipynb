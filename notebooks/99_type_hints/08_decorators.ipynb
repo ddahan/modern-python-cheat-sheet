{
 "cells": [
  {
   "cell_type": "markdown",
   "metadata": {},
   "source": [
    "# Decorators\n",
    "\n",
    "Decorator functions can be expressed via **generics**.\n",
    "More info on [this page](https://mypy.readthedocs.io/en/stable/generics.html#declaring-decorators)"
   ]
  },
  {
   "cell_type": "code",
   "execution_count": 14,
   "metadata": {},
   "outputs": [
    {
     "name": "stdout",
     "output_type": "stream",
     "text": [
      "Calling print_something function ...\n",
      "Hello\n",
      "Function has been called.\n"
     ]
    }
   ],
   "source": [
    "from typing import Callable, TypeVar, ParamSpec\n",
    "\n",
    "P = ParamSpec(\"P\")  # new in Python 3.10\n",
    "T = TypeVar(\"T\")\n",
    "\n",
    "\n",
    "def printing_decorator(func: Callable[P, T]) -> Callable[P, T]:\n",
    "    def wrapper(*args: P.args, **kwds: P.kwargs) -> T:\n",
    "        print(f\"Calling {func.__name__} function ...\")\n",
    "        result = func(*args, **kwds)\n",
    "        print(f\"Function has been called.\")\n",
    "        return result\n",
    "\n",
    "    return wrapper\n",
    "\n",
    "\n",
    "@printing_decorator\n",
    "def print_something(s: str):\n",
    "    print(s)\n",
    "\n",
    "\n",
    "print_something(\"Hello\")"
   ]
  }
 ],
 "metadata": {
  "kernelspec": {
   "display_name": "Python 3",
   "language": "python",
   "name": "python3"
  },
  "language_info": {
   "codemirror_mode": {
    "name": "ipython",
    "version": 3
   },
   "file_extension": ".py",
   "mimetype": "text/x-python",
   "name": "python",
   "nbconvert_exporter": "python",
   "pygments_lexer": "ipython3",
   "version": "3.11.5"
  },
  "orig_nbformat": 4
 },
 "nbformat": 4,
 "nbformat_minor": 2
}
