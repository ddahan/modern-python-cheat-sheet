{
 "cells": [
  {
   "cell_type": "markdown",
   "metadata": {},
   "source": [
    "### Classes"
   ]
  },
  {
   "cell_type": "code",
   "execution_count": 2,
   "metadata": {},
   "outputs": [],
   "source": [
    "class BankAccount:\n",
    "    # The \"__init__\" method doesn't return anything, so it gets return\n",
    "    # type \"None\" just like any other method that doesn't return anything\n",
    "    def __init__(self, account_name: str, initial_balance: int = 0) -> None:\n",
    "        # mypy will infer the correct types for these instance variables\n",
    "        # based on the types of the parameters.\n",
    "        self.account_name = account_name\n",
    "        self.balance = initial_balance\n",
    "\n",
    "    # For instance methods, omit type for \"self\"\n",
    "    def deposit(self, amount: int) -> None:\n",
    "        self.balance += amount\n",
    "\n",
    "    def withdraw(self, amount: int) -> None:\n",
    "        self.balance -= amount"
   ]
  },
  {
   "cell_type": "markdown",
   "metadata": {},
   "source": [
    "User-defined classes are valid as types in annotations"
   ]
  },
  {
   "cell_type": "code",
   "execution_count": 3,
   "metadata": {},
   "outputs": [],
   "source": [
    "account: BankAccount = BankAccount(\"Alice\", 400)\n",
    "\n",
    "\n",
    "def transfer(src: BankAccount, dst: BankAccount, amount: int) -> None:\n",
    "    src.withdraw(amount)\n",
    "    dst.deposit(amount)"
   ]
  },
  {
   "cell_type": "markdown",
   "metadata": {},
   "source": [
    "Functions that accept BankAccount also accept any subclass of BankAccount!"
   ]
  },
  {
   "cell_type": "code",
   "execution_count": null,
   "metadata": {},
   "outputs": [],
   "source": [
    "class AuditedBankAccount(BankAccount):\n",
    "    # You can optionally declare instance variables in the class body\n",
    "    audit_log: list[str]\n",
    "\n",
    "    def __init__(self, account_name: str, initial_balance: int = 0) -> None:\n",
    "        super().__init__(account_name, initial_balance)\n",
    "        self.audit_log: list[str] = []\n",
    "\n",
    "    def deposit(self, amount: int) -> None:\n",
    "        self.audit_log.append(f\"Deposited {amount}\")\n",
    "        self.balance += amount\n",
    "\n",
    "    def withdraw(self, amount: int) -> None:\n",
    "        self.audit_log.append(f\"Withdrew {amount}\")\n",
    "        self.balance -= amount\n",
    "\n",
    "\n",
    "audited = AuditedBankAccount(\"Bob\", 300)\n",
    "transfer(audited, account, 100)  # type checks!"
   ]
  },
  {
   "cell_type": "markdown",
   "metadata": {},
   "source": [
    "You can use the ClassVar annotation to declare a class variable\n"
   ]
  },
  {
   "cell_type": "code",
   "execution_count": null,
   "metadata": {},
   "outputs": [],
   "source": [
    "from typing import ClassVar\n",
    "\n",
    "\n",
    "class Car:\n",
    "    seats: ClassVar[int] = 4\n",
    "    passengers: ClassVar[list[str]]"
   ]
  },
  {
   "cell_type": "markdown",
   "metadata": {},
   "source": [
    "If you want dynamic attributes on your class, have it override `__setattr__` or `__getattr__`"
   ]
  },
  {
   "cell_type": "code",
   "execution_count": 5,
   "metadata": {},
   "outputs": [],
   "source": [
    "class A:\n",
    "    # This will allow assignment to any A.x, if x is the same type as \"value\"\n",
    "    # (use \"value: Any\" to allow arbitrary types)\n",
    "    def __setattr__(self, name: str, value: int) -> None:\n",
    "        ...\n",
    "\n",
    "    # This will allow access to any A.x, if x is compatible with the return type\n",
    "    def __getattr__(self, name: str) -> int:\n",
    "        ...\n",
    "\n",
    "\n",
    "a = A()\n",
    "a.foo = 42\n",
    "# a.foo = \"thing\" -> does not work!"
   ]
  }
 ],
 "metadata": {
  "kernelspec": {
   "display_name": "Python 3",
   "language": "python",
   "name": "python3"
  },
  "language_info": {
   "codemirror_mode": {
    "name": "ipython",
    "version": 3
   },
   "file_extension": ".py",
   "mimetype": "text/x-python",
   "name": "python",
   "nbconvert_exporter": "python",
   "pygments_lexer": "ipython3",
   "version": "3.11.5"
  },
  "orig_nbformat": 4
 },
 "nbformat": 4,
 "nbformat_minor": 2
}
