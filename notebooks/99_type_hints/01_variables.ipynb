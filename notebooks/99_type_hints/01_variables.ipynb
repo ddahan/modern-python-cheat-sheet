{
 "cells": [
  {
   "cell_type": "markdown",
   "metadata": {},
   "source": [
    "### Variables\n",
    "\n",
    "Technically many of the type annotations shown below are redundant, since mypy can usually infer the type of a variable from its value."
   ]
  },
  {
   "cell_type": "code",
   "execution_count": null,
   "metadata": {},
   "outputs": [],
   "source": [
    "# This is how you declare the type of a variable\n",
    "age: int = 1\n",
    "\n",
    "# You don't need to initialize a variable to annotate it\n",
    "a: int  # Ok (no value at runtime until assigned)\n",
    "\n",
    "# Doing so can be useful in conditional branches\n",
    "child: bool\n",
    "if age < 18:\n",
    "    child = True\n",
    "else:\n",
    "    child = False"
   ]
  }
 ],
 "metadata": {
  "language_info": {
   "name": "python"
  },
  "orig_nbformat": 4
 },
 "nbformat": 4,
 "nbformat_minor": 2
}
