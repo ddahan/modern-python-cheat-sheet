{
 "cells": [
  {
   "cell_type": "markdown",
   "metadata": {},
   "source": [
    "# When you’re puzzled or when things are complicated"
   ]
  },
  {
   "cell_type": "markdown",
   "metadata": {},
   "source": [
    "**Reveal Type**\n",
    "\n",
    "To find out what type mypy infers for an expression anywhere in your program, wrap it in reveal_type().  Mypy will print an error message with the type; remove it again before running the code."
   ]
  },
  {
   "cell_type": "code",
   "execution_count": null,
   "metadata": {},
   "outputs": [],
   "source": [
    "from typing import reveal_type\n",
    "\n",
    "\n",
    "reveal_type(123)\n",
    "reveal_type([\"a\", \"b\", 1])"
   ]
  },
  {
   "cell_type": "markdown",
   "metadata": {},
   "source": [
    "**Explicit type annotation for empty or None**\n",
    "\n",
    "If you initialize a variable with an empty container or \"None\", you may have to help mypy a bit by providing an explicit type annotation"
   ]
  },
  {
   "cell_type": "code",
   "execution_count": null,
   "metadata": {},
   "outputs": [],
   "source": [
    "from typing import Optional\n",
    "\n",
    "a: list[str] = []\n",
    "b: Optional[str] = None"
   ]
  },
  {
   "cell_type": "markdown",
   "metadata": {},
   "source": [
    "**Type ignore**\n",
    "\n",
    "Use a `# type: ignore` comment to suppress errors on a given line"
   ]
  },
  {
   "cell_type": "code",
   "execution_count": null,
   "metadata": {},
   "outputs": [],
   "source": [
    "x: int = \"not an int\"  # type: ignore"
   ]
  },
  {
   "cell_type": "markdown",
   "metadata": {},
   "source": [
    "**Cast**\n",
    "\n",
    "`cast()` is a helper function that lets you override the inferred type of an expression. It's only for mypy -- there's no runtime check."
   ]
  },
  {
   "cell_type": "code",
   "execution_count": 2,
   "metadata": {},
   "outputs": [
    {
     "name": "stdout",
     "output_type": "stream",
     "text": [
      "[4]\n"
     ]
    },
    {
     "name": "stderr",
     "output_type": "stream",
     "text": [
      "Runtime type is 'list'\n"
     ]
    }
   ],
   "source": [
    "from typing import cast, reveal_type\n",
    "\n",
    "\n",
    "a = [4]\n",
    "c = cast(list[str], a)  # Passes fine despite being a lie (no runtime check)\n",
    "reveal_type(c)  # The lie is trust :)\n",
    "print(c)  # Still prints [4] ... the object is not changed or casted at runtime"
   ]
  },
  {
   "cell_type": "markdown",
   "metadata": {},
   "source": [
    "**TYPE_CHECKING**\n",
    "\n",
    "Use \"TYPE_CHECKING\" if you want to have code that mypy can see but will not be executed at runtime (or to have code that mypy can't see)"
   ]
  },
  {
   "cell_type": "code",
   "execution_count": null,
   "metadata": {},
   "outputs": [],
   "source": [
    "from typing import TYPE_CHECKING\n",
    "\n",
    "if TYPE_CHECKING:\n",
    "    import json\n",
    "else:\n",
    "    import orjson as json  # mypy is unaware of this"
   ]
  }
 ],
 "metadata": {
  "kernelspec": {
   "display_name": "Python 3",
   "language": "python",
   "name": "python3"
  },
  "language_info": {
   "codemirror_mode": {
    "name": "ipython",
    "version": 3
   },
   "file_extension": ".py",
   "mimetype": "text/x-python",
   "name": "python",
   "nbconvert_exporter": "python",
   "pygments_lexer": "ipython3",
   "version": "3.11.5"
  },
  "orig_nbformat": 4
 },
 "nbformat": 4,
 "nbformat_minor": 2
}
