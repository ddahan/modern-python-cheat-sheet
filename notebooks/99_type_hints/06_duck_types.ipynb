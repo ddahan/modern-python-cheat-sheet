{
 "cells": [
  {
   "cell_type": "markdown",
   "metadata": {},
   "source": [
    "# Standard “duck types”\n",
    "\n",
    "In typical Python code, many functions that can take a list or a dict as an argument only need their argument to be somehow “list-like” or “dict-like”. A specific meaning of “list-like” or “dict-like” (or something-else-like) is called a “duck type”, and several duck types that are common in idiomatic Python are standardized."
   ]
  },
  {
   "cell_type": "code",
   "execution_count": 22,
   "metadata": {},
   "outputs": [],
   "source": [
    "import sys\n",
    "from typing import MutableMapping, Iterable, IO"
   ]
  },
  {
   "cell_type": "markdown",
   "metadata": {},
   "source": [
    "**Iterable**\n",
    "\n",
    "Use Iterable for generic iterables (anything usable in \"for\"), and Sequence where a sequence (supporting `len` and `__getitem__`) is required"
   ]
  },
  {
   "cell_type": "code",
   "execution_count": 23,
   "metadata": {},
   "outputs": [
    {
     "name": "stdout",
     "output_type": "stream",
     "text": [
      "['1', '2']\n",
      "['3', '4']\n"
     ]
    }
   ],
   "source": [
    "def f(ints: Iterable[int]) -> list[str]:\n",
    "    return [str(x) for x in ints]\n",
    "\n",
    "\n",
    "print(f(range(1, 3)))\n",
    "print(f((3, 4)))"
   ]
  },
  {
   "cell_type": "markdown",
   "metadata": {},
   "source": [
    "**Mapping / MutableMapping**\n",
    "\n",
    "Mapping describes a dict-like object (with \"__getitem__\") that we won't mutate, and MutableMapping one (with \"__setitem__\") that we might"
   ]
  },
  {
   "cell_type": "code",
   "execution_count": 24,
   "metadata": {},
   "outputs": [
    {
     "data": {
      "text/plain": [
       "{'maybe', 'no', 'yes'}"
      ]
     },
     "execution_count": 24,
     "metadata": {},
     "output_type": "execute_result"
    }
   ],
   "source": [
    "def f(my_mapping: MutableMapping[int, str]) -> set[str]:\n",
    "    my_mapping[5] = \"maybe\"  # my^y would complain with `Mapping`\n",
    "    return set(my_mapping.values())\n",
    "\n",
    "\n",
    "f({3: \"yes\", 4: \"no\"})"
   ]
  },
  {
   "cell_type": "markdown",
   "metadata": {},
   "source": [
    "**IO**\n",
    "\n",
    "Use `IO[str]` or `IO[bytes]` for functions that should accept or return objects that come from an `open()` call (note that IO does not distinguish between reading, writing or other modes)"
   ]
  },
  {
   "cell_type": "code",
   "execution_count": 25,
   "metadata": {},
   "outputs": [],
   "source": [
    "def get_sys_IO(mode: str = \"w\") -> IO[str]:\n",
    "    if mode == \"w\":\n",
    "        return sys.stdout\n",
    "    elif mode == \"r\":\n",
    "        return sys.stdin\n",
    "    else:\n",
    "        return sys.stdout"
   ]
  }
 ],
 "metadata": {
  "kernelspec": {
   "display_name": "Python 3",
   "language": "python",
   "name": "python3"
  },
  "language_info": {
   "codemirror_mode": {
    "name": "ipython",
    "version": 3
   },
   "file_extension": ".py",
   "mimetype": "text/x-python",
   "name": "python",
   "nbconvert_exporter": "python",
   "pygments_lexer": "ipython3",
   "version": "3.11.5"
  },
  "orig_nbformat": 4
 },
 "nbformat": 4,
 "nbformat_minor": 2
}
