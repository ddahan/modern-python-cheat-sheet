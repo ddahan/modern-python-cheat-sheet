{
 "cells": [
  {
   "cell_type": "markdown",
   "metadata": {},
   "source": [
    "### Functions"
   ]
  },
  {
   "cell_type": "code",
   "execution_count": 1,
   "metadata": {},
   "outputs": [],
   "source": [
    "from typing import Callable, Iterator\n"
   ]
  },
  {
   "cell_type": "markdown",
   "metadata": {},
   "source": [
    "This is how you annotate a function definition"
   ]
  },
  {
   "cell_type": "code",
   "execution_count": 2,
   "metadata": {},
   "outputs": [],
   "source": [
    "def plus(num1: int, num2: int) -> int:\n",
    "    return num1 + num2\n"
   ]
  },
  {
   "cell_type": "markdown",
   "metadata": {},
   "source": [
    "If a function does not return a value, use None as the return type. Default value for an argument goes after the type annotation"
   ]
  },
  {
   "cell_type": "code",
   "execution_count": 3,
   "metadata": {},
   "outputs": [],
   "source": [
    "def show(value: str, excitement: int = 10) -> None:\n",
    "    print(value + \"!\" * excitement)\n"
   ]
  },
  {
   "cell_type": "markdown",
   "metadata": {},
   "source": [
    "This is how you annotate a callable (function) value"
   ]
  },
  {
   "cell_type": "code",
   "execution_count": 4,
   "metadata": {},
   "outputs": [],
   "source": [
    "x: Callable[[int, float], float]\n"
   ]
  },
  {
   "cell_type": "markdown",
   "metadata": {},
   "source": [
    "A generator function that yields ints is secretly just a function that returns an iterator of ints, so that's how we annotate it"
   ]
  },
  {
   "cell_type": "code",
   "execution_count": 5,
   "metadata": {},
   "outputs": [],
   "source": [
    "def gen(n: int) -> Iterator[int]:\n",
    "    i = 0\n",
    "    while i < n:\n",
    "        yield i\n",
    "        i += 1\n"
   ]
  },
  {
   "cell_type": "markdown",
   "metadata": {},
   "source": [
    "This says each positional arg and each keyword arg should be an `int`"
   ]
  },
  {
   "cell_type": "code",
   "execution_count": 6,
   "metadata": {},
   "outputs": [
    {
     "name": "stdout",
     "output_type": "stream",
     "text": [
      "42\n",
      "43\n",
      "heigth:10\n",
      "width:20\n"
     ]
    }
   ],
   "source": [
    "def some_function(*args: int, **kwargs: int) -> None:\n",
    "    for arg in args:\n",
    "        print(arg)\n",
    "    for k, v in kwargs.items():\n",
    "        print(f\"{k}:{v}\")\n",
    "\n",
    "\n",
    "some_function(42, 43, heigth=10, width=20)\n"
   ]
  },
  {
   "cell_type": "markdown",
   "metadata": {},
   "source": [
    "**Unpack** for kwargs (Python 3.12)\n",
    "\n",
    "Typing **kwargs in a function signature allowed for valid annotations only in cases where all of the **kwargs were of the same type. There is now a more precise way of typing **kwargs by relying on typed dictionaries:"
   ]
  },
  {
   "cell_type": "code",
   "execution_count": 7,
   "metadata": {},
   "outputs": [
    {
     "name": "stdout",
     "output_type": "stream",
     "text": [
      "Movie name is Jurassic Park\n",
      "Movie year publication is 1993\n"
     ]
    }
   ],
   "source": [
    "from typing import TypedDict, Unpack\n",
    "\n",
    "\n",
    "class Movie(TypedDict):\n",
    "    name: str\n",
    "    year: int\n",
    "\n",
    "\n",
    "def print_movie_info(**kwargs: Unpack[Movie]):\n",
    "    print(f\"Movie name is {kwargs[\"name\"]}\")\n",
    "    print(f\"Movie year publication is {kwargs[\"year\"]}\")\n",
    "\n",
    "\n",
    "movie: Movie = {\"name\": \"Jurassic Park\", \"year\": 1993}\n",
    "print_movie_info(**movie) # no error type because it has exactly a name (string) and a year (int)\n"
   ]
  }
 ],
 "metadata": {
  "kernelspec": {
   "display_name": "Python 3",
   "language": "python",
   "name": "python3"
  },
  "language_info": {
   "codemirror_mode": {
    "name": "ipython",
    "version": 3
   },
   "file_extension": ".py",
   "mimetype": "text/x-python",
   "name": "python",
   "nbconvert_exporter": "python",
   "pygments_lexer": "ipython3",
   "version": "3.12.0"
  },
  "orig_nbformat": 4
 },
 "nbformat": 4,
 "nbformat_minor": 2
}
