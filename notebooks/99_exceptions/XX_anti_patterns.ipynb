{
 "cells": [
  {
   "cell_type": "markdown",
   "metadata": {},
   "source": [
    "### Anti Patterns"
   ]
  },
  {
   "cell_type": "markdown",
   "metadata": {},
   "source": [
    "**Not being specific**\n",
    "\n",
    "When handling exceptions, be as specific as possible, **don't do this**:"
   ]
  },
  {
   "cell_type": "markdown",
   "metadata": {},
   "source": [
    "Don't do this:"
   ]
  },
  {
   "cell_type": "code",
   "execution_count": 3,
   "metadata": {},
   "outputs": [
    {
     "name": "stdout",
     "output_type": "stream",
     "text": [
      "I have no idea what's happening?\n"
     ]
    }
   ],
   "source": [
    "try:\n",
    "    file = open(\"test.txt\", \"rb\")\n",
    "except:  # equivalent to `Except Exception`\n",
    "    print(\"I have no idea what's happening?\")"
   ]
  },
  {
   "cell_type": "markdown",
   "metadata": {},
   "source": [
    "Not being specific leads to multiple problems:\n",
    "\n",
    "- When something bad happened but it could for any reason, and you probably should handle different reasons with different solutions!\n",
    "\n",
    "- Catching all exceptions may have unintended consequences like catching the ones you want to occur like `KeyboardInterrupt`. In that case you won't be able to terminate the program by pressin `ctrl + C`."
   ]
  },
  {
   "cell_type": "markdown",
   "metadata": {},
   "source": [
    "Do this instead:"
   ]
  },
  {
   "cell_type": "code",
   "execution_count": null,
   "metadata": {},
   "outputs": [],
   "source": [
    "try:\n",
    "    file = open(\"test.txt\", \"rb\")\n",
    "except FileExistsError:\n",
    "    ...\n",
    "except PermissionError:\n",
    "    ...\n",
    "except Exception as e:  # only if you want to catch the error no matter what\n",
    "    ..."
   ]
  },
  {
   "cell_type": "markdown",
   "metadata": {},
   "source": [
    "**Having `try` clause containing code that should not be tried itself**"
   ]
  },
  {
   "cell_type": "markdown",
   "metadata": {},
   "source": [
    "Don't do this:"
   ]
  },
  {
   "cell_type": "code",
   "execution_count": null,
   "metadata": {},
   "outputs": [],
   "source": [
    "try:\n",
    "    ...  # code that should be tested against the exception\n",
    "    ...  # code that will be executed if no exception occured\n",
    "except ValueError:\n",
    "    ...  # handle the exception"
   ]
  },
  {
   "cell_type": "markdown",
   "metadata": {},
   "source": [
    "Do this instead:"
   ]
  },
  {
   "cell_type": "code",
   "execution_count": null,
   "metadata": {},
   "outputs": [],
   "source": [
    "try:\n",
    "    ...  # code that should be tested against the exception\n",
    "except ValueError:\n",
    "    ...  # handle the exception\n",
    "else:\n",
    "    ...  # code that will be executed if no exception occured"
   ]
  },
  {
   "cell_type": "markdown",
   "metadata": {},
   "source": [
    "The reason is: the \"code to execute if no exception occured\" could raise an exception itself! In that case you would have tested the wrong part of your code."
   ]
  }
 ],
 "metadata": {
  "kernelspec": {
   "display_name": "Python 3",
   "language": "python",
   "name": "python3"
  },
  "language_info": {
   "codemirror_mode": {
    "name": "ipython",
    "version": 3
   },
   "file_extension": ".py",
   "mimetype": "text/x-python",
   "name": "python",
   "nbconvert_exporter": "python",
   "pygments_lexer": "ipython3",
   "version": "3.11.5"
  },
  "orig_nbformat": 4
 },
 "nbformat": 4,
 "nbformat_minor": 2
}
