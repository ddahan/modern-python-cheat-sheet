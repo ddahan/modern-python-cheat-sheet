{
 "cells": [
  {
   "cell_type": "markdown",
   "metadata": {},
   "source": [
    "### User-defined exceptions\n",
    "\n",
    "User-defined Exceptions should be derived from the `Exception` class, directly or indirectly.\n"
   ]
  },
  {
   "cell_type": "markdown",
   "metadata": {},
   "source": [
    "**Basic custom exceptions**\n",
    "\n",
    "They can be created, just to make your errors more specific in your code."
   ]
  },
  {
   "cell_type": "code",
   "execution_count": null,
   "metadata": {},
   "outputs": [],
   "source": [
    "class MyProgramError(Exception):\n",
    "    ...\n",
    "\n",
    "\n",
    "class PaymentError(MyProgramError):\n",
    "    ...\n",
    "\n",
    "\n",
    "class EmptyWallet(PaymentError):\n",
    "    ..."
   ]
  },
  {
   "cell_type": "markdown",
   "metadata": {},
   "source": [
    "**Advanced custom exceptions**\n",
    "\n",
    "Or you can create advanced custom exceptions with additional attributes and methods."
   ]
  },
  {
   "cell_type": "code",
   "execution_count": 2,
   "metadata": {},
   "outputs": [
    {
     "name": "stdout",
     "output_type": "stream",
     "text": [
      "Logging error with code 500\n",
      "Caught an exception: Critical failure\n"
     ]
    }
   ],
   "source": [
    "class MyAdvancedError(Exception):\n",
    "    def __init__(self, message: str, code: int):\n",
    "        super().__init__(message)\n",
    "        self.code = code\n",
    "\n",
    "    def log_error(self):\n",
    "        print(f\"Logging error with code {self.code}\")\n",
    "\n",
    "\n",
    "# Using the custom exception\n",
    "try:\n",
    "    raise MyAdvancedError(\"Critical failure\", 500)\n",
    "except MyAdvancedError as e:\n",
    "    e.log_error()\n",
    "    print(f\"Caught an exception: {e}\")"
   ]
  }
 ],
 "metadata": {
  "kernelspec": {
   "display_name": "Python 3",
   "language": "python",
   "name": "python3"
  },
  "language_info": {
   "codemirror_mode": {
    "name": "ipython",
    "version": 3
   },
   "file_extension": ".py",
   "mimetype": "text/x-python",
   "name": "python",
   "nbconvert_exporter": "python",
   "pygments_lexer": "ipython3",
   "version": "3.11.5"
  },
  "orig_nbformat": 4
 },
 "nbformat": 4,
 "nbformat_minor": 2
}
