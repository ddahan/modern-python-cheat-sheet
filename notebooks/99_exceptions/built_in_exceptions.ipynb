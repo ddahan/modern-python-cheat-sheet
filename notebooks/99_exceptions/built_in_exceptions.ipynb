{
 "cells": [
  {
   "cell_type": "markdown",
   "metadata": {},
   "source": [
    "### Most common Python Exceptions"
   ]
  },
  {
   "cell_type": "markdown",
   "metadata": {},
   "source": [
    "| Name  | Description  |\n",
    "|---|---|\n",
    "| `Assertion Error` | Raised when an assert statement fails. |\n",
    "| `AttributeError`  | Raised when an attribute reference or assignment fails.  |\n",
    "| `ImportError`  | Raised when an import statement cannot locate the module definition.  |\n",
    "| `IndexError`  | Raised when a sequence subscript is out of range.  |\n",
    "| `KeyboardInterrupt`  | Raised when the user hits the interrupt key (such as Control-C or Delete).  |\n",
    "| `KeyError`  |  Raised when a dictionary key isn’t found in the set of existing keys.  |\n",
    "| `NameError`  | Raised when a local or global name can’t be found.  |\n",
    "| `NotImplementedError` |  Raised to indicate that a method or function should be overridden in subclass. |\n",
    "| `OSError`  | Raised for operating system-related errors like file not found, disk full, etc. |\n",
    "| `SyntaxError`  | Raised when when a parser encounters a syntax error.  |\n",
    "| `TypeError`  | Raised when an operation or function is applied to an object of inappropriate type.  |\n",
    "| `ValueError`  |  Raised when a built-in operation/function gets an argument that has the right type but not an appropriate value.\n",
    "\n"
   ]
  }
 ],
 "metadata": {
  "language_info": {
   "name": "python"
  },
  "orig_nbformat": 4
 },
 "nbformat": 4,
 "nbformat_minor": 2
}
