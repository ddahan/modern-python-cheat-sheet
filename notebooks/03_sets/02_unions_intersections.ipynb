{
 "cells": [
  {
   "cell_type": "markdown",
   "metadata": {},
   "source": [
    "### Union, intersection, difference, symetric difference"
   ]
  },
  {
   "cell_type": "code",
   "execution_count": 1,
   "metadata": {},
   "outputs": [
    {
     "name": "stdout",
     "output_type": "stream",
     "text": [
      "union -> {1, 2, 3, 4, 5}\n",
      "intersection -> {3}\n",
      "difference -> {1, 2}\n",
      "symetric difference -> {1, 2, 4, 5}\n"
     ]
    }
   ],
   "source": [
    "a = {1, 2, 3}\n",
    "b = {3, 4, 5}\n",
    "\n",
    "# union -> present in either a, b, or both\n",
    "print(\"union ->\", (a | b))  # or a.union(b)\n",
    "\n",
    "# intersection -> present in both a and b\n",
    "print(\"intersection ->\", a & b)  # or a.intersection(b)\n",
    "\n",
    "# difference a - b -> only present in a, not in b\n",
    "print(\"difference ->\", a - b)  # or a.difference(b)\n",
    "\n",
    "# symetric difference a ^ b -> either present in a or b, but not in their intersection\n",
    "print(\"symetric difference ->\", a ^ b)"
   ]
  },
  {
   "cell_type": "markdown",
   "metadata": {},
   "source": [
    "### Subset, Superset, Disjoint sets"
   ]
  },
  {
   "cell_type": "code",
   "execution_count": 2,
   "metadata": {},
   "outputs": [
    {
     "name": "stdout",
     "output_type": "stream",
     "text": [
      "True\n",
      "True\n",
      "True\n"
     ]
    }
   ],
   "source": [
    "a = {1, 2, 3}\n",
    "b = {5, 4, 3, 2, 1}\n",
    "c = {12, 13}\n",
    "\n",
    "# Check if a is a subset of b\n",
    "print(a.issubset(b))\n",
    "\n",
    "# Check if b is a superset of a\n",
    "print(b.issuperset(a))\n",
    "\n",
    "# Check if c has no common elements with a\n",
    "print(a.isdisjoint(c))"
   ]
  }
 ],
 "metadata": {
  "kernelspec": {
   "display_name": "Python 3",
   "language": "python",
   "name": "python3"
  },
  "language_info": {
   "codemirror_mode": {
    "name": "ipython",
    "version": 3
   },
   "file_extension": ".py",
   "mimetype": "text/x-python",
   "name": "python",
   "nbconvert_exporter": "python",
   "pygments_lexer": "ipython3",
   "version": "3.11.5"
  },
  "orig_nbformat": 4
 },
 "nbformat": 4,
 "nbformat_minor": 2
}
