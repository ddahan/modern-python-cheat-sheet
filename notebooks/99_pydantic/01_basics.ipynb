{
 "cells": [
  {
   "cell_type": "markdown",
   "metadata": {},
   "source": [
    "### Pydantic\n",
    "\n",
    "Pydantic is  a data validation library using type hints."
   ]
  },
  {
   "cell_type": "markdown",
   "metadata": {},
   "source": [
    "**Basic Example**"
   ]
  },
  {
   "cell_type": "code",
   "execution_count": 3,
   "metadata": {},
   "outputs": [
    {
     "name": "stdout",
     "output_type": "stream",
     "text": [
      "id=123 name='John Doe' signup_ts=datetime.datetime(2017, 6, 1, 12, 22) friends=[1, 2, 3]\n"
     ]
    }
   ],
   "source": [
    "from datetime import datetime\n",
    "from typing import List, Optional\n",
    "from pydantic import BaseModel\n",
    "\n",
    "\n",
    "class User(BaseModel):\n",
    "    id: int\n",
    "    name: str = \"John Doe\"\n",
    "    signup_ts: Optional[datetime] = None\n",
    "    friends: List[int] = []\n",
    "\n",
    "\n",
    "external_data = {\n",
    "    \"id\": 123,\n",
    "    \"signup_ts\": \"2017-06-01 12:22\",\n",
    "    \"friends\": [1, \"2\", b\"3\"],\n",
    "}\n",
    "# wrong typing inference but will coerce to type without error\n",
    "user = User(**external_data)\n",
    "print(user)"
   ]
  },
  {
   "cell_type": "markdown",
   "metadata": {},
   "source": [
    "**Wrong data Example**"
   ]
  },
  {
   "cell_type": "code",
   "execution_count": 6,
   "metadata": {},
   "outputs": [
    {
     "name": "stdout",
     "output_type": "stream",
     "text": [
      "[{'input': 'hey there',\n",
      "  'loc': ('id',),\n",
      "  'msg': 'Input should be a valid integer, unable to parse string as an '\n",
      "         'integer',\n",
      "  'type': 'int_parsing',\n",
      "  'url': 'https://errors.pydantic.dev/2.4/v/int_parsing'}]\n"
     ]
    }
   ],
   "source": [
    "from pprint import pprint\n",
    "from pydantic import ValidationError\n",
    "\n",
    "\n",
    "external_data = {\"id\": \"hey there\"}\n",
    "try:\n",
    "    User(**external_data)\n",
    "except ValidationError as e:\n",
    "    pprint(e.errors())"
   ]
  },
  {
   "cell_type": "markdown",
   "metadata": {},
   "source": [
    "**Annotated types example**"
   ]
  },
  {
   "cell_type": "code",
   "execution_count": 23,
   "metadata": {},
   "outputs": [
    {
     "name": "stdout",
     "output_type": "stream",
     "text": [
      "name='apple' color='red' weight=5.2\n"
     ]
    }
   ],
   "source": [
    "from typing import Annotated\n",
    "from annotated_types import Predicate, Gt\n",
    "\n",
    "\n",
    "class Fruit(BaseModel):\n",
    "    name: Annotated[str, Predicate(lambda x: x.startswith(\"appl\"))]\n",
    "    color: str\n",
    "    weight: Annotated[float, Gt(0)]\n",
    "\n",
    "\n",
    "print(\n",
    "    Fruit(\n",
    "        name=\"apple\",\n",
    "        color=\"red\",\n",
    "        weight=5.2,\n",
    "    )\n",
    ")"
   ]
  }
 ],
 "metadata": {
  "kernelspec": {
   "display_name": "Python 3",
   "language": "python",
   "name": "python3"
  },
  "language_info": {
   "codemirror_mode": {
    "name": "ipython",
    "version": 3
   },
   "file_extension": ".py",
   "mimetype": "text/x-python",
   "name": "python",
   "nbconvert_exporter": "python",
   "pygments_lexer": "ipython3",
   "version": "3.12.0"
  }
 },
 "nbformat": 4,
 "nbformat_minor": 2
}
