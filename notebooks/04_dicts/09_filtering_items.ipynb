{
 "cells": [
  {
   "cell_type": "markdown",
   "metadata": {},
   "source": [
    "### Filtering items\n",
    "\n",
    "There is no built-in method for this, so dict comprehension is generally the right way to do."
   ]
  },
  {
   "cell_type": "code",
   "execution_count": 5,
   "metadata": {},
   "outputs": [
    {
     "name": "stdout",
     "output_type": "stream",
     "text": [
      "{'key1': 'value1'}\n"
     ]
    }
   ],
   "source": [
    "original_dict = {\"key1\": \"value1\", \"key2\": \"value2\"}\n",
    "# This example using key to exclude (but it could be about a value, or about inclusion)\n",
    "filtered_dict = {k: v for k, v in original_dict.items() if k not in [\"key2\"]}\n",
    "\n",
    "print(filtered_dict)"
   ]
  },
  {
   "cell_type": "markdown",
   "metadata": {},
   "source": [
    "**Complex filtering** using a custom function.\n",
    "\n",
    "If your filtering logic is more complex, you can use a function to determine inclusion."
   ]
  },
  {
   "cell_type": "code",
   "execution_count": 6,
   "metadata": {},
   "outputs": [
    {
     "name": "stdout",
     "output_type": "stream",
     "text": [
      "{'key3': 'value3'}\n"
     ]
    }
   ],
   "source": [
    "def should_include(key: str, value: str) -> bool:\n",
    "    return key.startswith(\"key\") and value.endswith(\"3\")\n",
    "\n",
    "\n",
    "original_dict = {\n",
    "    \"key1\": \"value1\",\n",
    "    \"key2\": \"value2\",\n",
    "    \"key3\": \"value3\",\n",
    "    \"_key4\": \"value3\",\n",
    "}\n",
    "\n",
    "filtered_dict = {k: v for k, v in original_dict.items() if should_include(k, v)}\n",
    "print(filtered_dict)"
   ]
  }
 ],
 "metadata": {
  "kernelspec": {
   "display_name": "Python 3",
   "language": "python",
   "name": "python3"
  },
  "language_info": {
   "codemirror_mode": {
    "name": "ipython",
    "version": 3
   },
   "file_extension": ".py",
   "mimetype": "text/x-python",
   "name": "python",
   "nbconvert_exporter": "python",
   "pygments_lexer": "ipython3",
   "version": "3.11.5"
  },
  "orig_nbformat": 4
 },
 "nbformat": 4,
 "nbformat_minor": 2
}
