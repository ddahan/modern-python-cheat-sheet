{
 "cells": [
  {
   "cell_type": "markdown",
   "metadata": {},
   "source": [
    "### TypedDict\n",
    "\n",
    "The `TypedDict` type is used to describe dictionaries with a fixed set of keys, where each key is associated with a specific type. This feature is particularly useful for static type checking and helps catch type errors that could otherwise be missed when dealing with dictionaries."
   ]
  },
  {
   "cell_type": "code",
   "execution_count": 1,
   "metadata": {},
   "outputs": [],
   "source": [
    "from typing import TypedDict"
   ]
  },
  {
   "cell_type": "code",
   "execution_count": 2,
   "metadata": {},
   "outputs": [
    {
     "data": {
      "text/plain": [
       "dict"
      ]
     },
     "execution_count": 2,
     "metadata": {},
     "output_type": "execute_result"
    }
   ],
   "source": [
    "class Person(TypedDict):\n",
    "    name: str\n",
    "    age: int\n",
    "\n",
    "\n",
    "person: Person = {\"name\": \"John\", \"age\": 30}\n",
    "type(person)"
   ]
  },
  {
   "cell_type": "markdown",
   "metadata": {},
   "source": [
    "If `total=False` is set, dict keys are not forced to be all defined."
   ]
  },
  {
   "cell_type": "code",
   "execution_count": 3,
   "metadata": {},
   "outputs": [
    {
     "data": {
      "text/plain": [
       "dict"
      ]
     },
     "execution_count": 3,
     "metadata": {},
     "output_type": "execute_result"
    }
   ],
   "source": [
    "class Person(TypedDict, total=False):\n",
    "    name: str\n",
    "    age: int\n",
    "\n",
    "\n",
    "person: Person = {\"name\": \"John\"}  # no problem\n",
    "type(person)"
   ]
  },
  {
   "cell_type": "markdown",
   "metadata": {},
   "source": [
    "**Comparing typed dicts to dataclasses**"
   ]
  },
  {
   "cell_type": "markdown",
   "metadata": {},
   "source": [
    "|  | `TypedDict`                                              | `dataclass`                                                                                     |\n",
    "|---------------------|----------------------------------------------------------|-------------------------------------------------------------------------------------------------|\n",
    "| **Purpose**         | Describe dictionaries with fixed set of keys.            | Create classes mainly used to store values.                                                     |\n",
    "| **Type Checking**   | Used for static type checking.                           | Optional but can be used for static type checking.                                              |\n",
    "| **Mutability**      | Mutable by default.                                      | Can be mutable or immutable (via `frozen` parameter).                                            |\n",
    "| **Type Annotations**| Supports type annotations for dictionary keys.           | Supports type annotations for attributes.                                                       |\n",
    "| **Inheritance**     | Allows multiple inheritance but not from normal classes. | Allows inheritance, including from normal classes.                                               |\n",
    "| **Runtime Behavior**| No runtime behavior changes, purely for type checking.   | Adds special methods like `__init__()`, `__repr__()`, and `__eq__()` at runtime.                |\n",
    "| **Fields**          | Specifies types of fields but does not store data.       | Stores data in instances; instances can be treated like objects.                                |\n",
    "| **Common Use-cases**| JSON objects, APIs, or configurations.                   | General-purpose, broader range of object-oriented programming contexts.                         |\n"
   ]
  }
 ],
 "metadata": {
  "kernelspec": {
   "display_name": "Python 3",
   "language": "python",
   "name": "python3"
  },
  "language_info": {
   "codemirror_mode": {
    "name": "ipython",
    "version": 3
   },
   "file_extension": ".py",
   "mimetype": "text/x-python",
   "name": "python",
   "nbconvert_exporter": "python",
   "pygments_lexer": "ipython3",
   "version": "3.11.5"
  },
  "orig_nbformat": 4
 },
 "nbformat": 4,
 "nbformat_minor": 2
}
