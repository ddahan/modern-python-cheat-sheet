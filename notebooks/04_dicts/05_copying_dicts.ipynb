{
 "cells": [
  {
   "cell_type": "markdown",
   "metadata": {},
   "source": [
    "### Copying dicts"
   ]
  },
  {
   "cell_type": "markdown",
   "metadata": {},
   "source": [
    "**Using `copy` method** for a shallow copy"
   ]
  },
  {
   "cell_type": "code",
   "execution_count": 23,
   "metadata": {},
   "outputs": [
    {
     "name": "stdout",
     "output_type": "stream",
     "text": [
      "{1: 'one', 2: 'two'}\n",
      "False\n"
     ]
    }
   ],
   "source": [
    "original_dict = {1: \"one\", 2: \"two\"}\n",
    "copied_dict = original_dict.copy()\n",
    "print(copied_dict)\n",
    "print(original_dict is copied_dict)"
   ]
  },
  {
   "cell_type": "markdown",
   "metadata": {},
   "source": [
    "**Using `dict` constructor** for a shallow copy"
   ]
  },
  {
   "cell_type": "code",
   "execution_count": 24,
   "metadata": {},
   "outputs": [
    {
     "name": "stdout",
     "output_type": "stream",
     "text": [
      "{1: 'one', 2: 'two'}\n",
      "False\n"
     ]
    }
   ],
   "source": [
    "original_dict = {1: \"one\", 2: \"two\"}\n",
    "copied_dict = dict(original_dict)\n",
    "print(copied_dict)\n",
    "print(original_dict is copied_dict)"
   ]
  },
  {
   "cell_type": "markdown",
   "metadata": {},
   "source": [
    "**Using `copy` module** for both shallow copy and deep copy."
   ]
  },
  {
   "cell_type": "code",
   "execution_count": 25,
   "metadata": {},
   "outputs": [],
   "source": [
    "import copy"
   ]
  },
  {
   "cell_type": "code",
   "execution_count": 26,
   "metadata": {},
   "outputs": [
    {
     "name": "stdout",
     "output_type": "stream",
     "text": [
      "{1: 'one', 2: 'two'}\n",
      "False\n"
     ]
    }
   ],
   "source": [
    "original_dict = {1: \"one\", 2: \"two\"}\n",
    "copied_dict = copy.copy(original_dict)\n",
    "print(copied_dict)\n",
    "print(original_dict is copied_dict)"
   ]
  },
  {
   "cell_type": "code",
   "execution_count": 27,
   "metadata": {},
   "outputs": [
    {
     "name": "stdout",
     "output_type": "stream",
     "text": [
      "{1: {'A': 'one'}, 2: {'B': 'two'}}\n",
      "False\n"
     ]
    }
   ],
   "source": [
    "original_dict = {1: {\"A\": \"one\"}, 2: {\"B\": \"two\"}}\n",
    "copied_dict = copy.deepcopy(original_dict)\n",
    "print(copied_dict)\n",
    "print(original_dict is copied_dict)"
   ]
  },
  {
   "cell_type": "markdown",
   "metadata": {},
   "source": [
    "**The `=` operator does not copy the dict!**\n",
    "\n",
    "When the `=` operator is used, a new reference to the original dict is created."
   ]
  },
  {
   "cell_type": "code",
   "execution_count": 28,
   "metadata": {},
   "outputs": [
    {
     "name": "stdout",
     "output_type": "stream",
     "text": [
      "{1: 'one', 2: 'two'}\n",
      "True\n"
     ]
    }
   ],
   "source": [
    "original_dict = {1: \"one\", 2: \"two\"}\n",
    "copied_dict = original_dict\n",
    "print(copied_dict)\n",
    "print(original_dict is copied_dict)"
   ]
  }
 ],
 "metadata": {
  "kernelspec": {
   "display_name": "Python 3",
   "language": "python",
   "name": "python3"
  },
  "language_info": {
   "codemirror_mode": {
    "name": "ipython",
    "version": 3
   },
   "file_extension": ".py",
   "mimetype": "text/x-python",
   "name": "python",
   "nbconvert_exporter": "python",
   "pygments_lexer": "ipython3",
   "version": "3.11.5"
  },
  "orig_nbformat": 4
 },
 "nbformat": 4,
 "nbformat_minor": 2
}
