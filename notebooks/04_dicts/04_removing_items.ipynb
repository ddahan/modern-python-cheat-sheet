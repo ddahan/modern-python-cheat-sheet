{
 "cells": [
  {
   "cell_type": "markdown",
   "metadata": {},
   "source": [
    "### Removing items"
   ]
  },
  {
   "cell_type": "markdown",
   "metadata": {},
   "source": [
    "**`del` keyword**\n",
    "\n",
    "- returns `None`\n",
    "- directly modifies the original dictionary (in-place operation)"
   ]
  },
  {
   "cell_type": "code",
   "execution_count": 6,
   "metadata": {},
   "outputs": [
    {
     "name": "stdout",
     "output_type": "stream",
     "text": [
      "{'name': 'David', 'age': '35'}\n"
     ]
    }
   ],
   "source": [
    "my_dict = dict(name=\"David\", age=\"35\", sex=\"male\")\n",
    "del my_dict[\"sex\"]\n",
    "print(my_dict)"
   ]
  },
  {
   "cell_type": "markdown",
   "metadata": {},
   "source": [
    "**`pop` method**\n",
    "\n",
    "- returns the removed key\n",
    "- directly modifies the original dictionary (in-place operation)"
   ]
  },
  {
   "cell_type": "code",
   "execution_count": 7,
   "metadata": {},
   "outputs": [
    {
     "name": "stdout",
     "output_type": "stream",
     "text": [
      "male\n",
      "{'name': 'David', 'age': '35'}\n"
     ]
    }
   ],
   "source": [
    "my_dict = dict(name=\"David\", age=\"35\", sex=\"male\")\n",
    "result = my_dict.pop(\"sex\")\n",
    "print(result)\n",
    "print(my_dict)"
   ]
  },
  {
   "cell_type": "markdown",
   "metadata": {},
   "source": [
    "**`popitem` method**\n",
    "\n",
    "Removes (in-place) and returns the last inserted item in a dict."
   ]
  },
  {
   "cell_type": "code",
   "execution_count": 3,
   "metadata": {},
   "outputs": [
    {
     "name": "stdout",
     "output_type": "stream",
     "text": [
      "Removed: Key - key3, Value - value3\n",
      "Updated Dictionary: {'key1': 'value1', 'key2': 42}\n"
     ]
    }
   ],
   "source": [
    "my_dict = {\"key1\": \"value1\", \"key2\": \"value2\", \"key3\": \"value3\"}\n",
    "key, value = my_dict.popitem()\n",
    "\n",
    "print(f\"Removed: Key - {key}, Value - {value}\")\n",
    "print(f\"Updated Dictionary: {my_dict}\")"
   ]
  },
  {
   "cell_type": "markdown",
   "metadata": {},
   "source": [
    "**`clear` method**\n",
    "\n",
    "Removes all the items of the dict, and returns nothing."
   ]
  },
  {
   "cell_type": "code",
   "execution_count": 4,
   "metadata": {},
   "outputs": [
    {
     "name": "stdout",
     "output_type": "stream",
     "text": [
      "{}\n"
     ]
    }
   ],
   "source": [
    "my_dict = {\"key1\": \"value1\", \"key2\": \"value2\", \"key3\": \"value3\"}\n",
    "my_dict.clear()\n",
    "print(my_dict)"
   ]
  }
 ],
 "metadata": {
  "kernelspec": {
   "display_name": "Python 3",
   "language": "python",
   "name": "python3"
  },
  "language_info": {
   "codemirror_mode": {
    "name": "ipython",
    "version": 3
   },
   "file_extension": ".py",
   "mimetype": "text/x-python",
   "name": "python",
   "nbconvert_exporter": "python",
   "pygments_lexer": "ipython3",
   "version": "3.11.5"
  },
  "orig_nbformat": 4
 },
 "nbformat": 4,
 "nbformat_minor": 2
}
