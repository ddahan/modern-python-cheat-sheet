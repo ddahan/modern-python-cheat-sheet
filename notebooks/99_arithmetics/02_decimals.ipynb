{
 "cells": [
  {
   "cell_type": "markdown",
   "metadata": {},
   "source": [
    "### Decimals"
   ]
  },
  {
   "cell_type": "markdown",
   "metadata": {},
   "source": [
    "This built-in type provides arbitrary precision arithmetic using decimal arithmetic. This is useful when you need to perform calculations with a higher degree of accuracy than what's provided by Python's built-in `float` type, which uses binary floating-point arithmetic and can suffer from rounding errors."
   ]
  }
 ],
 "metadata": {
  "language_info": {
   "name": "python"
  },
  "orig_nbformat": 4
 },
 "nbformat": 4,
 "nbformat_minor": 2
}
