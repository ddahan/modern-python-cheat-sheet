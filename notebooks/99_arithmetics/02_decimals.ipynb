{
 "cells": [
  {
   "cell_type": "markdown",
   "metadata": {},
   "source": [
    "### Decimals"
   ]
  },
  {
   "cell_type": "markdown",
   "metadata": {},
   "source": [
    "This built-in type provides arbitrary precision arithmetic using decimal arithmetic. This is useful when you need to perform calculations with a higher degree of accuracy than what's provided by Python's built-in `float` type, which uses binary floating-point arithmetic and can suffer from rounding errors."
   ]
  },
  {
   "cell_type": "code",
   "execution_count": 22,
   "metadata": {},
   "outputs": [
    {
     "name": "stdout",
     "output_type": "stream",
     "text": [
      "Adding floats: 0.30000000000000004\n",
      "Adding decimals: 0.3\n"
     ]
    }
   ],
   "source": [
    "from decimal import Decimal\n",
    "\n",
    "\n",
    "print(f\"Adding floats: {0.1 + 0.2}\")\n",
    "print(f\"Adding decimals: {Decimal(\"0.1\") + Decimal(\"0.2\")}\")\n"
   ]
  },
  {
   "cell_type": "markdown",
   "metadata": {},
   "source": [
    "**Context Settings**\n",
    "\n",
    "Decimal arithmetic is controlled by a **global context**, which can specify precision, rounding rules, and more. For example, to set the precision:"
   ]
  },
  {
   "cell_type": "code",
   "execution_count": 23,
   "metadata": {},
   "outputs": [
    {
     "name": "stdout",
     "output_type": "stream",
     "text": [
      "0.142857\n"
     ]
    }
   ],
   "source": [
    "from decimal import Decimal, getcontext\n",
    "\n",
    "getcontext().prec = 6  # Set precision to 6 decimal places\n",
    "result = Decimal(\"1\") / Decimal(\"7\")\n",
    "print(result)\n"
   ]
  },
  {
   "cell_type": "markdown",
   "metadata": {},
   "source": [
    "A **local context** can be created too for temporary purpose:"
   ]
  },
  {
   "cell_type": "code",
   "execution_count": 24,
   "metadata": {},
   "outputs": [
    {
     "name": "stdout",
     "output_type": "stream",
     "text": [
      "0.143\n"
     ]
    }
   ],
   "source": [
    "import decimal\n",
    "\n",
    "\n",
    "with decimal.localcontext() as ctx:\n",
    "    ctx.prec = 3\n",
    "    result = Decimal(\"1\") / Decimal(\"7\")\n",
    "    print(result)\n"
   ]
  },
  {
   "cell_type": "markdown",
   "metadata": {},
   "source": [
    "Notice that the decimal context precision only affects the arithmetic operation, not the Decimal constructor."
   ]
  },
  {
   "cell_type": "code",
   "execution_count": 25,
   "metadata": {},
   "outputs": [
    {
     "name": "stdout",
     "output_type": "stream",
     "text": [
      "3.14159\n",
      "3.1\n"
     ]
    }
   ],
   "source": [
    "import decimal\n",
    "from decimal import Decimal\n",
    "\n",
    "\n",
    "decimal.getcontext().prec = 2\n",
    "\n",
    "pi = Decimal(\"3.14159\")\n",
    "print(pi)  # Still has 5 digits after comma despite the context\n",
    "\n",
    "radius = 1\n",
    "area = pi * radius * radius\n",
    "print(area)  # Initial precision has been lost\n"
   ]
  },
  {
   "cell_type": "markdown",
   "metadata": {},
   "source": [
    "**Anti-patterns**\n",
    "\n",
    "When you use a float that doesn’t have an exact binary float representation, the Decimal constructor cannot create an accurate decimal representation."
   ]
  },
  {
   "cell_type": "code",
   "execution_count": 26,
   "metadata": {},
   "outputs": [
    {
     "name": "stdout",
     "output_type": "stream",
     "text": [
      "0.3\n",
      "0.30000000000000001665\n"
     ]
    }
   ],
   "source": [
    "getcontext().prec = 20\n",
    "print(Decimal(\"0.1\") + Decimal(\"0.2\"))  # expected\n",
    "print(Decimal(0.1) + Decimal(0.2))  # probably not what is expected here\n"
   ]
  }
 ],
 "metadata": {
  "kernelspec": {
   "display_name": "Python 3",
   "language": "python",
   "name": "python3"
  },
  "language_info": {
   "codemirror_mode": {
    "name": "ipython",
    "version": 3
   },
   "file_extension": ".py",
   "mimetype": "text/x-python",
   "name": "python",
   "nbconvert_exporter": "python",
   "pygments_lexer": "ipython3",
   "version": "3.12.0"
  },
  "orig_nbformat": 4
 },
 "nbformat": 4,
 "nbformat_minor": 2
}
