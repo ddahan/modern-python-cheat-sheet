{
 "cells": [
  {
   "cell_type": "markdown",
   "metadata": {},
   "source": [
    "### Statistics\n",
    "\n",
    "Python provides a built-in statistics module that offers a range of basic statistical functions. It's useful for quickly performing basic operations without any external dependencies."
   ]
  },
  {
   "cell_type": "code",
   "execution_count": 9,
   "metadata": {},
   "outputs": [
    {
     "name": "stdout",
     "output_type": "stream",
     "text": [
      "2.6666666666666665\n",
      "2.5\n",
      "2.6666666666666665\n",
      "1.632993161855452\n"
     ]
    }
   ],
   "source": [
    "from statistics import mean, median, stdev, variance\n",
    "\n",
    "data = [1, 1, 2, 3, 4, 5]\n",
    "\n",
    "print(mean(data))  # Arithmetic mean (\"average\") of data.\n",
    "print(median(data))  # Median (middle value) of data.\n",
    "print(variance(data))  # Variance of a sample.\n",
    "print(stdev(data))  # Standard deviation of a sample."
   ]
  },
  {
   "cell_type": "markdown",
   "metadata": {},
   "source": [
    "For more advanced usages, take a look to external libraries like NumPy, SciPy, or Pandas"
   ]
  }
 ],
 "metadata": {
  "kernelspec": {
   "display_name": "Python 3",
   "language": "python",
   "name": "python3"
  },
  "language_info": {
   "codemirror_mode": {
    "name": "ipython",
    "version": 3
   },
   "file_extension": ".py",
   "mimetype": "text/x-python",
   "name": "python",
   "nbconvert_exporter": "python",
   "pygments_lexer": "ipython3",
   "version": "3.11.5"
  },
  "orig_nbformat": 4
 },
 "nbformat": 4,
 "nbformat_minor": 2
}
