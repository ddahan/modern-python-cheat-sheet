{
 "cells": [
  {
   "cell_type": "markdown",
   "metadata": {},
   "source": [
    "**Math Operators**"
   ]
  },
  {
   "cell_type": "code",
   "execution_count": 1,
   "metadata": {},
   "outputs": [
    {
     "name": "stdout",
     "output_type": "stream",
     "text": [
      "2.6\n",
      "2\n",
      "3\n",
      "(2, 3)\n",
      "256\n"
     ]
    }
   ],
   "source": [
    "print(13 / 5)  # Division\n",
    "print(13 // 5)  # Integer Division\n",
    "print(13 % 5)  # Modulus (remainder)\n",
    "print(divmod(13, 5))  # Divmod\n",
    "print(2**8)  # Exponent"
   ]
  },
  {
   "cell_type": "markdown",
   "metadata": {},
   "source": [
    "**Basic Functions**"
   ]
  },
  {
   "cell_type": "code",
   "execution_count": 2,
   "metadata": {},
   "outputs": [
    {
     "name": "stdout",
     "output_type": "stream",
     "text": [
      "4\n",
      "3\n",
      "2.3\n",
      "24\n"
     ]
    }
   ],
   "source": [
    "from math import ceil, floor, fabs, factorial\n",
    "\n",
    "print(ceil(3.66))  # Return the smallest integer greater than or equal to x\n",
    "print(floor(3.66))  # Return the largest integer less than or equal to x\n",
    "print(fabs(-2.3))  # Return the absolute value of x\n",
    "print(factorial(4))  # Return 4*3*2*1"
   ]
  },
  {
   "cell_type": "markdown",
   "metadata": {},
   "source": [
    "**Combining functions**"
   ]
  },
  {
   "cell_type": "code",
   "execution_count": 3,
   "metadata": {},
   "outputs": [
    {
     "name": "stdout",
     "output_type": "stream",
     "text": [
      "8.0\n",
      "256\n"
     ]
    }
   ],
   "source": [
    "from math import sqrt\n",
    "\n",
    "print(sqrt(64))  # Return the square root of x\n",
    "print(pow(2, 8))  # Return x pow y"
   ]
  }
 ],
 "metadata": {
  "kernelspec": {
   "display_name": "Python 3",
   "language": "python",
   "name": "python3"
  },
  "language_info": {
   "codemirror_mode": {
    "name": "ipython",
    "version": 3
   },
   "file_extension": ".py",
   "mimetype": "text/x-python",
   "name": "python",
   "nbconvert_exporter": "python",
   "pygments_lexer": "ipython3",
   "version": "3.11.5"
  },
  "orig_nbformat": 4
 },
 "nbformat": 4,
 "nbformat_minor": 2
}
