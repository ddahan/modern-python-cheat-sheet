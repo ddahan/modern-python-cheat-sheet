{
 "cells": [
  {
   "cell_type": "markdown",
   "metadata": {},
   "source": [
    "### Formatting and Parsing"
   ]
  },
  {
   "cell_type": "markdown",
   "metadata": {},
   "source": [
    "**`datetime` to `string`**"
   ]
  },
  {
   "cell_type": "code",
   "execution_count": 7,
   "metadata": {},
   "outputs": [
    {
     "name": "stdout",
     "output_type": "stream",
     "text": [
      "2023-10-05 12:34:56\n",
      "Thursday\n"
     ]
    }
   ],
   "source": [
    "from datetime import datetime\n",
    "\n",
    "dt = datetime(2023, 10, 5, 12, 34, 56)\n",
    "print(dt.strftime(\"%Y-%m-%d %H:%M:%S\"))\n",
    "print(dt.strftime(\"%A\"))\n"
   ]
  },
  {
   "cell_type": "markdown",
   "metadata": {},
   "source": [
    "**`string` to `datetime`**"
   ]
  },
  {
   "cell_type": "code",
   "execution_count": 4,
   "metadata": {},
   "outputs": [
    {
     "data": {
      "text/plain": [
       "datetime.datetime"
      ]
     },
     "execution_count": 4,
     "metadata": {},
     "output_type": "execute_result"
    }
   ],
   "source": [
    "dt_str = \"2023-10-05 12:34:56\"\n",
    "dt = datetime.strptime(dt_str, \"%Y-%m-%d %H:%M:%S\")\n",
    "type(dt)\n"
   ]
  },
  {
   "cell_type": "markdown",
   "metadata": {},
   "source": [
    "**Legal format codes**\n",
    "\n",
    "| Format Code | Description                                   | Example                      |\n",
    "|-------------|-----------------------------------------------|------------------------------|\n",
    "| `%a`        | Abbreviated weekday name                      | Sun, Mon, ...                |\n",
    "| `%A`        | Full weekday name                             | Sunday, Monday, ...          |\n",
    "| `%w`        | Weekday as a decimal number [0(Sunday),6]     | 0, 1, ...                    |\n",
    "| `%d`        | Day of the month as zero-padded decimal       | 01, 02, ...                  |\n",
    "| `%b`        | Abbreviated month name                        | Jan, Feb, ...                |\n",
    "| `%B`        | Full month name                               | January, February, ...       |\n",
    "| `%m`        | Month as a zero-padded decimal                | 01, 02, ...                  |\n",
    "| `%y`        | Year without century as zero-padded decimal   | 00, 01, ...                  |\n",
    "| `%Y`        | Year with century                             | 2022, 2023, ...              |\n",
    "| `%H`        | Hour (24-hour clock) as zero-padded decimal   | 00, 01, ...                  |\n",
    "| `%I`        | Hour (12-hour clock) as zero-padded decimal   | 00, 01, ...                  |\n",
    "| `%p`        | AM or PM                                      | AM, PM                       |\n",
    "| `%M`        | Minute as zero-padded decimal                 | 00, 01, ...                  |\n",
    "| `%S`        | Second as zero-padded decimal                 | 00, 01, ...                  |\n",
    "| `%f`        | Microsecond as zero-padded decimal            | 000000, 000001, ...          |\n",
    "| `%z`        | UTC offset in the form +HHMM or -HHMM         | +0000, -0400, ...            |\n",
    "| `%Z`        | Time zone name                                | UTC, EST, ...                |\n",
    "| `%j`        | Day of the year as zero-padded decimal        | 001, 002, ...                |\n",
    "| `%U`        | Week number of the year (Sun as first day)    | 00, 01, ...                  |\n",
    "| `%W`        | Week number of the year (Mon as first day)    | 00, 01, ...                  |\n",
    "| `%c`        | Locale-appropriate date and time              | Tue Aug 16 21:30:00 1988     |\n",
    "| `%x`        | Locale-appropriate date                       | 08/16/88 (USA), 16.08.1988   |\n",
    "| `%X`        | Locale-appropriate time                       | 21:30:00                     |\n",
    "| `%%`        | Literal '%' character                         | %                            |\n"
   ]
  }
 ],
 "metadata": {
  "kernelspec": {
   "display_name": "Python 3",
   "language": "python",
   "name": "python3"
  },
  "language_info": {
   "codemirror_mode": {
    "name": "ipython",
    "version": 3
   },
   "file_extension": ".py",
   "mimetype": "text/x-python",
   "name": "python",
   "nbconvert_exporter": "python",
   "pygments_lexer": "ipython3",
   "version": "3.12.0"
  }
 },
 "nbformat": 4,
 "nbformat_minor": 2
}
