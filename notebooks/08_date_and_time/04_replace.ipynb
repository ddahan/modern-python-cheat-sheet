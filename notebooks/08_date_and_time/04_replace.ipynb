{
 "cells": [
  {
   "cell_type": "markdown",
   "metadata": {},
   "source": [
    "### `Replace` Method\n",
    "\n",
    "If you want to change any component (year, month, day, etc.) of a datetime object, you can use the `replace` method:"
   ]
  },
  {
   "cell_type": "code",
   "execution_count": 9,
   "metadata": {},
   "outputs": [
    {
     "data": {
      "text/plain": [
       "datetime.datetime(2021, 2, 28, 0, 0)"
      ]
     },
     "execution_count": 9,
     "metadata": {},
     "output_type": "execute_result"
    }
   ],
   "source": [
    "from datetime import datetime\n",
    "\n",
    "dt = datetime(2021, 2, 27)\n",
    "dt.replace(day=28)\n"
   ]
  },
  {
   "cell_type": "markdown",
   "metadata": {},
   "source": [
    "It will raise an `ValueError` if the date is wrong:"
   ]
  },
  {
   "cell_type": "code",
   "execution_count": 10,
   "metadata": {},
   "outputs": [
    {
     "ename": "ValueError",
     "evalue": "day is out of range for month",
     "output_type": "error",
     "traceback": [
      "\u001b[0;31m---------------------------------------------------------------------------\u001b[0m",
      "\u001b[0;31mValueError\u001b[0m                                Traceback (most recent call last)",
      "\u001b[1;32m/workspaces/modern-python-cheat-sheet/notebooks/08_date_and_time/04_replace.ipynb Cell 4\u001b[0m line \u001b[0;36m1\n\u001b[0;32m----> <a href='vscode-notebook-cell://dev-container%2B7b227265706f7369746f727950617468223a2268747470733a2f2f6769746875622e636f6d2f64646168616e2f6d6f6465726e2d707974686f6e2d63686561742d73686565742e6769742f747265652f6d61696e222c22766f6c756d654e616d65223a225f5f554e495155455f5f222c22666f6c646572223a226d6f6465726e2d707974686f6e2d63686561742d7368656574222c2273657474696e6773223a7b22636f6e74657874223a226465736b746f702d6c696e7578227d2c22636c6f6e65496e666f223a7b2275726c546f436c6f6e65223a2268747470733a2f2f6769746875622e636f6d2f64646168616e2f6d6f6465726e2d707974686f6e2d63686561742d73686565742e676974222c22726566223a226d61696e227d2c22696e7370656374566f6c756d65223a66616c73657d/workspaces/modern-python-cheat-sheet/notebooks/08_date_and_time/04_replace.ipynb#W3sdnNjb2RlLXJlbW90ZQ%3D%3D?line=0'>1</a>\u001b[0m dt\u001b[39m.\u001b[39;49mreplace(day\u001b[39m=\u001b[39;49m\u001b[39m29\u001b[39;49m)\n",
      "\u001b[0;31mValueError\u001b[0m: day is out of range for month"
     ]
    }
   ],
   "source": [
    "dt.replace(day=29)\n"
   ]
  }
 ],
 "metadata": {
  "kernelspec": {
   "display_name": "Python 3",
   "language": "python",
   "name": "python3"
  },
  "language_info": {
   "codemirror_mode": {
    "name": "ipython",
    "version": 3
   },
   "file_extension": ".py",
   "mimetype": "text/x-python",
   "name": "python",
   "nbconvert_exporter": "python",
   "pygments_lexer": "ipython3",
   "version": "3.12.0"
  }
 },
 "nbformat": 4,
 "nbformat_minor": 2
}
