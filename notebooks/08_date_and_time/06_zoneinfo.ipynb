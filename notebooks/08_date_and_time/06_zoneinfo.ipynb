{
 "cells": [
  {
   "cell_type": "markdown",
   "metadata": {},
   "source": [
    "### Zoneinfo\n",
    "\n",
    "The zoneinfo module (Python 3.9+) provides a concrete time zone implementation using the [IANA time zone database](https://en.wikipedia.org/wiki/List_of_tz_database_time_zones)."
   ]
  },
  {
   "cell_type": "code",
   "execution_count": 24,
   "metadata": {},
   "outputs": [],
   "source": [
    "from zoneinfo import ZoneInfo\n",
    "from datetime import datetime, timedelta\n"
   ]
  },
  {
   "cell_type": "markdown",
   "metadata": {},
   "source": [
    "**Creating a timezone aware datetime**"
   ]
  },
  {
   "cell_type": "code",
   "execution_count": 25,
   "metadata": {},
   "outputs": [
    {
     "name": "stdout",
     "output_type": "stream",
     "text": [
      "2023-10-05 14:00:00+02:00\n",
      "2023-10-05 14:00:00+00:00\n"
     ]
    }
   ],
   "source": [
    "# Create a ZoneInfo object for Paris using the IANA time zone name as a string\n",
    "paris_tz = ZoneInfo(\"Europe/Paris\")\n",
    "dt_paris = datetime(2023, 10, 5, 14, 0, tzinfo=paris_tz)\n",
    "print(dt_paris)\n",
    "\n",
    "# Create a UTC datetime\n",
    "utc_tz = ZoneInfo(\"UTC\")\n",
    "dt_utc = datetime(2023, 10, 5, 14, 0, tzinfo=utc_tz)\n",
    "print(dt_utc)\n"
   ]
  },
  {
   "cell_type": "markdown",
   "metadata": {},
   "source": [
    "**Converting a datetime to a specific timezone**\n",
    "\n",
    "Making a \"naïve\" datetime \"aware\", or converting a datetime to another timezone uses the same `astimezone` method."
   ]
  },
  {
   "cell_type": "code",
   "execution_count": 26,
   "metadata": {},
   "outputs": [
    {
     "name": "stdout",
     "output_type": "stream",
     "text": [
      "2023-10-05 15:42:03.630163\n",
      "2023-10-05 17:42:03.630163+02:00\n",
      "2023-10-05 15:42:03.630163+00:00\n",
      "2023-10-05 15:42:03.630163\n"
     ]
    }
   ],
   "source": [
    "# Here is a naive datetime\n",
    "naive_dt = datetime.now()\n",
    "print(naive_dt)  # no tzinfo\n",
    "\n",
    "# Making the datetime \"aware\"\n",
    "dt_paris = naive_dt.astimezone(paris_tz)\n",
    "print(dt_paris)\n",
    "\n",
    "# Converting it to UTC\n",
    "dt_utc = dt_paris.astimezone(utc_tz)\n",
    "print(dt_utc)\n",
    "\n",
    "# Making it naïve again\n",
    "naive_again_dt = dt_utc.replace(tzinfo=None)\n",
    "print(naive_again_dt)\n"
   ]
  },
  {
   "cell_type": "markdown",
   "metadata": {},
   "source": [
    "zoneinfo integrates seamlessly with timedelta, allowing for arithmetic with time zone aware datetime objects:\n",
    "\n"
   ]
  },
  {
   "cell_type": "code",
   "execution_count": 27,
   "metadata": {},
   "outputs": [
    {
     "name": "stdout",
     "output_type": "stream",
     "text": [
      "2023-10-07 17:42:03.630163+02:00\n"
     ]
    }
   ],
   "source": [
    "# Add 2 days to the current Paris time\n",
    "dt_paris_future = dt_paris + timedelta(days=2)\n",
    "print(dt_paris_future)\n"
   ]
  }
 ],
 "metadata": {
  "kernelspec": {
   "display_name": "Python 3",
   "language": "python",
   "name": "python3"
  },
  "language_info": {
   "codemirror_mode": {
    "name": "ipython",
    "version": 3
   },
   "file_extension": ".py",
   "mimetype": "text/x-python",
   "name": "python",
   "nbconvert_exporter": "python",
   "pygments_lexer": "ipython3",
   "version": "3.12.0"
  }
 },
 "nbformat": 4,
 "nbformat_minor": 2
}
