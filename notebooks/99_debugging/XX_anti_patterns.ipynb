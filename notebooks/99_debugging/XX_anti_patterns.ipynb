{
 "cells": [
  {
   "cell_type": "markdown",
   "metadata": {},
   "source": [
    "**Using print instead of logging**"
   ]
  },
  {
   "cell_type": "markdown",
   "metadata": {},
   "source": [
    "Logging has several advantages over printing:\n",
    "\n",
    "- **Log Levels**: Logging libraries often provide different severity levels (DEBUG, INFO, WARNING, ERROR, CRITICAL), allowing you to easily categorize your log messages and filter them accordingly.\n",
    "\n",
    "- **Log Targets**: You can direct your log messages to various outputs like files, sockets, or even external logging services, without changing the actual logging calls in your code.\n",
    "\n",
    "- **Log Formatting**: Logging libraries allow you to include additional data in log entries, like timestamps, line numbers, or other contextual information.\n",
    "\n",
    "- **Scalability**: In production systems, logging libraries can be configured to aggregate logs from multiple services, something that is extremely hard to do with plain print statements."
   ]
  }
 ],
 "metadata": {
  "language_info": {
   "name": "python"
  },
  "orig_nbformat": 4
 },
 "nbformat": 4,
 "nbformat_minor": 2
}
