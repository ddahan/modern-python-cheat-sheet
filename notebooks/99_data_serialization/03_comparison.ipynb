{
 "cells": [
  {
   "cell_type": "markdown",
   "metadata": {},
   "source": [
    "### JSON vs Pickle?"
   ]
  },
  {
   "cell_type": "markdown",
   "metadata": {},
   "source": [
    "|   | JSON  | Pickle  |\n",
    "|:-:|---|---|\n",
    "| **Interoperability**  |  Text-based, language-agnostic format. Can be used in many languages. | Python-Specific. Not suitable for cross-language data interchange  |\n",
    "| **Human-readability**  | Yes (text-based format)  |   No (binary serialization format) |\n",
    "|  **Speed** | Generally slower than Pickle for large datasets  | Generally faster than JSON for large datasets  |\n",
    "| **Supported data types**  | Only basic data types like integers, floats, strings, arrays, and objects (maps)  | A wider range of Python objects like custom classes, methods, sets, and more.  |\n",
    "| **Security Risk**  | Safe  | Loading data from an untrusted source can execute arbitrary code  |"
   ]
  }
 ],
 "metadata": {
  "language_info": {
   "name": "python"
  },
  "orig_nbformat": 4
 },
 "nbformat": 4,
 "nbformat_minor": 2
}
