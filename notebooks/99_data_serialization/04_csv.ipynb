{
 "cells": [
  {
   "cell_type": "markdown",
   "metadata": {},
   "source": [
    "### CSV"
   ]
  },
  {
   "cell_type": "code",
   "execution_count": 15,
   "metadata": {},
   "outputs": [],
   "source": [
    "import csv\n",
    "\n",
    "FILEPATH = \"/tmp/data.csv\"\n"
   ]
  },
  {
   "cell_type": "markdown",
   "metadata": {},
   "source": [
    "**Serialization**"
   ]
  },
  {
   "cell_type": "code",
   "execution_count": 16,
   "metadata": {},
   "outputs": [],
   "source": [
    "# Data to be written\n",
    "data = [\n",
    "    {\"Name\": \"Alice\", \"Age\": 25, \"Email\": \"alice@example.com\"},\n",
    "    {\"Name\": \"Bob\", \"Age\": 30, \"Email\": \"bob@example.com\"},\n",
    "    {\"Name\": \"Charlie\", \"Age\": 35, \"Email\": \"charlie@example.com\"},\n",
    "]\n",
    "\n",
    "# Open or create a file to write data\n",
    "with open(FILEPATH, \"w\", newline=\"\") as csv_file:\n",
    "    writer = csv.DictWriter(\n",
    "        csv_file, delimiter=\";\", fieldnames=[\"Name\", \"Age\", \"Email\"]\n",
    "    )\n",
    "\n",
    "    # Write the header\n",
    "    writer.writeheader()\n",
    "\n",
    "    # Write the data\n",
    "    for row in data:\n",
    "        writer.writerow(row)\n"
   ]
  },
  {
   "cell_type": "markdown",
   "metadata": {},
   "source": [
    "**Deserialization**"
   ]
  },
  {
   "cell_type": "code",
   "execution_count": 17,
   "metadata": {},
   "outputs": [
    {
     "name": "stdout",
     "output_type": "stream",
     "text": [
      "[{'Name;Age;Email': 'Alice;25;alice@example.com'},\n",
      " {'Name;Age;Email': 'Bob;30;bob@example.com'},\n",
      " {'Name;Age;Email': 'Charlie;35;charlie@example.com'}]\n"
     ]
    }
   ],
   "source": [
    "# Initialize an empty list to store the data\n",
    "from pprint import pprint\n",
    "from typing import Any\n",
    "\n",
    "data: list[Any] = []\n",
    "\n",
    "# Open the file to read data\n",
    "with open(FILEPATH, \"r\") as csv_file:\n",
    "    reader = csv.DictReader(csv_file)\n",
    "\n",
    "    # Read data row by row\n",
    "    for row in reader:\n",
    "        data.append(row)\n",
    "\n",
    "pprint(data)\n"
   ]
  }
 ],
 "metadata": {
  "kernelspec": {
   "display_name": "Python 3",
   "language": "python",
   "name": "python3"
  },
  "language_info": {
   "codemirror_mode": {
    "name": "ipython",
    "version": 3
   },
   "file_extension": ".py",
   "mimetype": "text/x-python",
   "name": "python",
   "nbconvert_exporter": "python",
   "pygments_lexer": "ipython3",
   "version": "3.12.0"
  }
 },
 "nbformat": 4,
 "nbformat_minor": 2
}
