{
 "cells": [
  {
   "cell_type": "markdown",
   "metadata": {},
   "source": [
    "### User Dict\n",
    "\n",
    " `UserDict` provides a convenient way to build upon the functionality of Python dictionaries without the risks associated with subclassing native Python data types. It's especially useful when you need specialized or custom behavior from a dictionary-like object."
   ]
  },
  {
   "cell_type": "code",
   "execution_count": 1,
   "metadata": {},
   "outputs": [
    {
     "name": "stdout",
     "output_type": "stream",
     "text": [
      "1\n",
      "True\n"
     ]
    }
   ],
   "source": [
    "from collections import UserDict\n",
    "from typing import Any, Hashable\n",
    "\n",
    "\n",
    "class CaseInsensitiveDict(UserDict[str, Any]):\n",
    "    def __setitem__(self, key: str, value: Any) -> None:\n",
    "        super().__setitem__(key.lower(), value)\n",
    "\n",
    "    def __getitem__(self, key: str) -> Any:\n",
    "        return super().__getitem__(key.lower())\n",
    "\n",
    "    # if key is not Hashable, it creates a warning for not marching parent UserClass\n",
    "    def __contains__(self, key: Hashable) -> bool:\n",
    "        if isinstance(key, str):\n",
    "            return super().__contains__(key.lower())\n",
    "        else:\n",
    "            return super().__contains__(key)\n",
    "\n",
    "\n",
    "# Test the custom dictionary\n",
    "d = CaseInsensitiveDict({\"One\": 1})\n",
    "print(d[\"one\"])  # Output: 1\n",
    "print(\"ONE\" in d)  # Output: True"
   ]
  },
  {
   "cell_type": "markdown",
   "metadata": {},
   "source": [
    " ### UserList\n",
    " \n",
    " *Same logic*\n",
    "\n",
    " ### UserString\n",
    "\n",
    "  *Same logic*"
   ]
  }
 ],
 "metadata": {
  "kernelspec": {
   "display_name": "Python 3",
   "language": "python",
   "name": "python3"
  },
  "language_info": {
   "codemirror_mode": {
    "name": "ipython",
    "version": 3
   },
   "file_extension": ".py",
   "mimetype": "text/x-python",
   "name": "python",
   "nbconvert_exporter": "python",
   "pygments_lexer": "ipython3",
   "version": "3.11.5"
  },
  "orig_nbformat": 4
 },
 "nbformat": 4,
 "nbformat_minor": 2
}
