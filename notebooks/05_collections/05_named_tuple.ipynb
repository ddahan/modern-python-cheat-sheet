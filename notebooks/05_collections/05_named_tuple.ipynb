{
 "cells": [
  {
   "cell_type": "markdown",
   "metadata": {},
   "source": [
    "### Named Tuples\n",
    "\n",
    "They used to be really useful but now they can be replaced by Dataclasses, as explained [here](https://stackoverflow.com/questions/51671699/data-classes-vs-typing-namedtuple-primary-use-cases).\n",
    "\n",
    "Natural Tuple Immutability is achieved with dataclasses using `frozen=True`.\n",
    "\n",
    "However, named tuples can still be used, with a cleaner syntax than before:"
   ]
  },
  {
   "cell_type": "code",
   "execution_count": 1,
   "metadata": {},
   "outputs": [],
   "source": [
    "from typing import NamedTuple\n",
    "\n",
    "\n",
    "class Point(NamedTuple):\n",
    "    x: float\n",
    "    y: float\n",
    "\n",
    "\n",
    "p = Point(1, 2)"
   ]
  }
 ],
 "metadata": {
  "kernelspec": {
   "display_name": "Python 3",
   "language": "python",
   "name": "python3"
  },
  "language_info": {
   "codemirror_mode": {
    "name": "ipython",
    "version": 3
   },
   "file_extension": ".py",
   "mimetype": "text/x-python",
   "name": "python",
   "nbconvert_exporter": "python",
   "pygments_lexer": "ipython3",
   "version": "3.11.5"
  },
  "orig_nbformat": 4
 },
 "nbformat": 4,
 "nbformat_minor": 2
}
