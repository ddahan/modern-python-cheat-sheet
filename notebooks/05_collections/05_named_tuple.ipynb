{
 "cells": [
  {
   "cell_type": "markdown",
   "metadata": {},
   "source": [
    "### Named Tuples\n",
    "\n",
    "They used to be really useful but are now basically useless as they can be replaced by Dataclasses, as explained [here](https://stackoverflow.com/questions/51671699/data-classes-vs-typing-namedtuple-primary-use-cases).\n",
    "\n",
    "Natural Tuple Immutability is achieved with dataclasses using `frozen=True`."
   ]
  }
 ],
 "metadata": {
  "language_info": {
   "name": "python"
  },
  "orig_nbformat": 4
 },
 "nbformat": 4,
 "nbformat_minor": 2
}
