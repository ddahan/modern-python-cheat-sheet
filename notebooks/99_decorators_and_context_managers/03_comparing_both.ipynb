{
 "cells": [
  {
   "cell_type": "markdown",
   "metadata": {},
   "source": [
    "### Comparing decorators and context managers\n",
    "\n",
    "Both context managers and decorators have similarities, but they serve different purposes and are applied in different ways.\n",
    "\n",
    "**Similarities**\n",
    "- Both can be implemented using functions or classes.\n",
    "- Both can yield or return another function or object.\n",
    "- Both can be used to encapsulate reusable behavior.\n",
    "\n",
    "\n",
    "\n",
    "**Differences**\n",
    "\n",
    "|   | **Decorators**  | **Context Managers**  |\n",
    "|:-:|---|---|\n",
    "| **Scope** | Affect the entire function they're applied to.  | Affect a localized block of code, explicitly defined by a `with` statement. |\n",
    "| **Change** | Persistent. Once a function is decorated, changes are generally applicable every time the function is called. | Temporary. Changes apply only within the with block. |\n",
    "| **Activation** | Implicit. Automatically applied when the decorated function is called. | Explicit. Must use with keyword to activate. |\n",
    "| **Use cases** | Often used to modify or enhance functions or methods, such as adding logging, memoization, or access control.  | Often used for setup and teardown of resources like files, network connections, or database transactions. |"
   ]
  }
 ],
 "metadata": {
  "language_info": {
   "name": "python"
  },
  "orig_nbformat": 4
 },
 "nbformat": 4,
 "nbformat_minor": 2
}
