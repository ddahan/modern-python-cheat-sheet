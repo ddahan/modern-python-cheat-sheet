{
 "cells": [
  {
   "cell_type": "markdown",
   "metadata": {},
   "source": [
    "### Decorators\n",
    "\n",
    "*NOTE: for example with type hints, go to type hints section of this cheat sheet*.\n",
    "\n",
    "Decorators are a powerful and flexible feature that allow you to execute code before and after a function or method.\n",
    "\n",
    "A decorator is essentially a function that takes another function as an argument and returns a new function that usually extends or modifies the behavior of the original function."
   ]
  },
  {
   "cell_type": "markdown",
   "metadata": {},
   "source": [
    "**Basic Syntax**\n"
   ]
  },
  {
   "cell_type": "code",
   "execution_count": 12,
   "metadata": {},
   "outputs": [
    {
     "name": "stdout",
     "output_type": "stream",
     "text": [
      "Something is happening before the function is called.\n",
      "Hello!\n",
      "Something is happening after the function is called.\n"
     ]
    }
   ],
   "source": [
    "from typing import Any\n",
    "\n",
    "\n",
    "def my_decorator(func: Any):\n",
    "    def wrapper():\n",
    "        print(\"Something is happening before the function is called.\")\n",
    "        func()\n",
    "        print(\"Something is happening after the function is called.\")\n",
    "\n",
    "    return wrapper\n",
    "\n",
    "\n",
    "@my_decorator\n",
    "def say_hello():\n",
    "    print(\"Hello!\")\n",
    "\n",
    "\n",
    "say_hello()"
   ]
  },
  {
   "cell_type": "markdown",
   "metadata": {},
   "source": [
    "**How it works?**\n",
    "\n",
    "1. `my_decorator` is a function that takes a function (`func`) as its argument.\n",
    "2. Inside `my_decorator`, we define another function (`wrapper`), which wraps the behavior we want to inject.\n",
    "3. The `wrapper` function calls the original func, augmenting its behavior.\n",
    "4. `my_decorator` returns this new wrapper function."
   ]
  },
  {
   "cell_type": "markdown",
   "metadata": {},
   "source": [
    "The `@my_decorator` syntax is just a shorthand. Here is another version without it:"
   ]
  },
  {
   "cell_type": "code",
   "execution_count": 9,
   "metadata": {},
   "outputs": [
    {
     "name": "stdout",
     "output_type": "stream",
     "text": [
      "Something is happening before the function is called.\n",
      "Hello\n",
      "Something is happening after the function is called.\n"
     ]
    }
   ],
   "source": [
    "def say_hello_2():\n",
    "    print(\"Hello\")\n",
    "\n",
    "\n",
    "say_hello_2 = my_decorator(say_hello_2)\n",
    "say_hello_2()"
   ]
  },
  {
   "cell_type": "markdown",
   "metadata": {},
   "source": [
    "**Using Arguments and Return values**\n",
    "\n",
    "Decorators can also pass arguments to the function they decorate and handle its return value. Here's an example:"
   ]
  },
  {
   "cell_type": "code",
   "execution_count": 11,
   "metadata": {},
   "outputs": [
    {
     "name": "stdout",
     "output_type": "stream",
     "text": [
      "16\n"
     ]
    }
   ],
   "source": [
    "def multiply_decorator(factor: int):\n",
    "    def decorator(func: Any):\n",
    "        def wrapper(*args: Any, **kwargs: Any):\n",
    "            result = func(*args, **kwargs)\n",
    "            return result * factor\n",
    "\n",
    "        return wrapper\n",
    "\n",
    "    return decorator\n",
    "\n",
    "\n",
    "@multiply_decorator(2)\n",
    "def add(a: int, b: int):\n",
    "    return a + b\n",
    "\n",
    "\n",
    "print(add(5, 3))  # 5 x 2 + 3 x 2"
   ]
  },
  {
   "cell_type": "markdown",
   "metadata": {},
   "source": [
    "**Real-world applications**\n",
    "\n",
    "- Logging: To log information about function execution\n",
    "- Monitoring: To collect data for profiling functions\n",
    "- Caching/memoization: To save and reuse function return values\n",
    "- Access control: To restrict who can call a function\n",
    "- Data validation: To check the arguments or return value"
   ]
  }
 ],
 "metadata": {
  "kernelspec": {
   "display_name": "Python 3",
   "language": "python",
   "name": "python3"
  },
  "language_info": {
   "codemirror_mode": {
    "name": "ipython",
    "version": 3
   },
   "file_extension": ".py",
   "mimetype": "text/x-python",
   "name": "python",
   "nbconvert_exporter": "python",
   "pygments_lexer": "ipython3",
   "version": "3.11.5"
  },
  "orig_nbformat": 4
 },
 "nbformat": 4,
 "nbformat_minor": 2
}
