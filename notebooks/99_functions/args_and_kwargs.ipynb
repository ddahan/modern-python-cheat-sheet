{
 "cells": [
  {
   "cell_type": "markdown",
   "metadata": {},
   "source": [
    "**Usage**\n",
    "\n",
    "`*args` and `**kwargs` allow you to pass an unspecified number of arguments to a function, so when writing the function definition, you do not need to know how many arguments will be passed to your function."
   ]
  },
  {
   "cell_type": "markdown",
   "metadata": {},
   "source": [
    "**Usage of `*args`**\n",
    "\n",
    "`*args` is used to send a **non-keyworded** variable length argument list to the function"
   ]
  },
  {
   "cell_type": "code",
   "execution_count": 5,
   "metadata": {},
   "outputs": [
    {
     "name": "stdout",
     "output_type": "stream",
     "text": [
      "first normal arg: a\n",
      "another arg through *args: b\n",
      "another arg through *args: c\n"
     ]
    }
   ],
   "source": [
    "def test_var_args(f_arg: str, *args: str):\n",
    "    print(\"first normal arg:\", f_arg)\n",
    "    for arg in args:\n",
    "        print(\"another arg through *args:\", arg)\n",
    "\n",
    "\n",
    "test_var_args(\"a\", \"b\", \"c\")"
   ]
  },
  {
   "cell_type": "markdown",
   "metadata": {},
   "source": [
    "**Usage of `kwargs`**\n",
    "\n",
    "**`kwargs` allows you to pass **keyworded** variable length of arguments to a function. You should use **kwargs if you want to handle named arguments in a function.\n",
    "\n"
   ]
  },
  {
   "cell_type": "code",
   "execution_count": 6,
   "metadata": {},
   "outputs": [
    {
     "name": "stdout",
     "output_type": "stream",
     "text": [
      "name → yasoob\n",
      "age → 18\n"
     ]
    }
   ],
   "source": [
    "from typing import Any\n",
    "\n",
    "\n",
    "def greet_me(**kwargs: Any):\n",
    "    for key, value in kwargs.items():\n",
    "        print(f\"{key} → {value}\")\n",
    "\n",
    "\n",
    "greet_me(name=\"yasoob\", age=18)"
   ]
  }
 ],
 "metadata": {
  "kernelspec": {
   "display_name": "Python 3",
   "language": "python",
   "name": "python3"
  },
  "language_info": {
   "codemirror_mode": {
    "name": "ipython",
    "version": 3
   },
   "file_extension": ".py",
   "mimetype": "text/x-python",
   "name": "python",
   "nbconvert_exporter": "python",
   "pygments_lexer": "ipython3",
   "version": "3.11.5"
  },
  "orig_nbformat": 4
 },
 "nbformat": 4,
 "nbformat_minor": 2
}
