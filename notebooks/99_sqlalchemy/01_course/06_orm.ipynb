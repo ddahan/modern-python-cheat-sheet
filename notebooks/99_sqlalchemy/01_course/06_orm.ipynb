{
 "cells": [
  {
   "cell_type": "markdown",
   "metadata": {},
   "source": [
    "# ORM\n",
    "\n",
    "- We now cross into a new dimension of everything thus far, using the ORM.\n",
    "\n"
   ]
  },
  {
   "cell_type": "code",
   "execution_count": 353,
   "metadata": {},
   "outputs": [
    {
     "name": "stdout",
     "output_type": "stream",
     "text": [
      "2024-12-09 15:33:42,029 INFO sqlalchemy.engine.Engine BEGIN (implicit)\n",
      "2024-12-09 15:33:42,030 INFO sqlalchemy.engine.Engine PRAGMA main.table_info(\"user_account\")\n",
      "2024-12-09 15:33:42,030 INFO sqlalchemy.engine.Engine [raw sql] ()\n",
      "2024-12-09 15:33:42,031 INFO sqlalchemy.engine.Engine PRAGMA temp.table_info(\"user_account\")\n",
      "2024-12-09 15:33:42,031 INFO sqlalchemy.engine.Engine [raw sql] ()\n",
      "2024-12-09 15:33:42,032 INFO sqlalchemy.engine.Engine \n",
      "CREATE TABLE user_account (\n",
      "\tid INTEGER NOT NULL, \n",
      "\tname VARCHAR NOT NULL, \n",
      "\tfull_name VARCHAR, \n",
      "\tcreated_at DATETIME DEFAULT (CURRENT_TIMESTAMP) NOT NULL, \n",
      "\tPRIMARY KEY (id)\n",
      ")\n",
      "\n",
      "\n",
      "2024-12-09 15:33:42,033 INFO sqlalchemy.engine.Engine [no key 0.00139s] ()\n",
      "2024-12-09 15:33:42,034 INFO sqlalchemy.engine.Engine COMMIT\n"
     ]
    }
   ],
   "source": [
    "from datetime import datetime\n",
    "from sqlalchemy import create_engine, func\n",
    "from sqlalchemy.orm import Mapped, mapped_column, DeclarativeBase, MappedAsDataclass\n",
    "\n",
    "\n",
    "class Base(MappedAsDataclass, DeclarativeBase):\n",
    "    pass\n",
    "\n",
    "\n",
    "class User(Base):  # class can be called whatever we want, no impact on the table name\n",
    "    __tablename__ = \"user_account\"\n",
    "\n",
    "    id: Mapped[int] = mapped_column(primary_key=True, init=False)\n",
    "    name: Mapped[str]\n",
    "    full_name: Mapped[str | None]\n",
    "    created_at: Mapped[datetime] = mapped_column(init=False, server_default=func.now())\n",
    "\n",
    "\n",
    "engine = create_engine(\"sqlite://\", echo=True)\n",
    "with engine.begin() as conn:\n",
    "    Base.metadata.create_all(conn)"
   ]
  },
  {
   "cell_type": "markdown",
   "metadata": {},
   "source": [
    "- We've already been working with ORM-Centric Metadata models, but weren't really using \"the ORM\".\n",
    "- To use real ORM-centric patters, we'll add the use of **instances** of our mappes classes.\n",
    "- Both are super important in the ORM - SQLAlchemy add rich behaviours to both classes AND instances of those classes"
   ]
  },
  {
   "cell_type": "markdown",
   "metadata": {},
   "source": [
    "### The Session\n",
    "\n",
    "- To save and retrieve data from a database, we use a special tool that acts as a bridge between your objects (instances), SQL queries (DML statements), and the rows returned by the database.\n",
    "- It ensures all these actions happen within an active database transaction.\n",
    "- This object is the `Session` : the `Session` is to the ORM what the `Connection` is to the code - the thing that interacts with the transaction.\n",
    "- In a similar way as `Connection` objects come from a factory called `Engine`, the `Session` comes from a factory called `sessionMaker()`\n",
    "- `sessionmaker()` is instanciated with an `Engine`.\n",
    "- This `Engine` is passed along to `Session` objects, which then use it to get database connections behind the scenes."
   ]
  },
  {
   "cell_type": "code",
   "execution_count": 354,
   "metadata": {},
   "outputs": [],
   "source": [
    "from sqlalchemy.orm import sessionmaker\n",
    "\n",
    "session_factory = sessionmaker(bind=engine)"
   ]
  },
  {
   "cell_type": "markdown",
   "metadata": {},
   "source": [
    "- Like `Engine`, `session_factory` aims to be a \"long-lived\", \"**application scoped**\" variable accross your program. You create it once, an then using it everywhere.\n",
    "- The `sessionmaker()` creates a `Session` object when we just call it, like a callable:"
   ]
  },
  {
   "cell_type": "code",
   "execution_count": 355,
   "metadata": {},
   "outputs": [
    {
     "name": "stdout",
     "output_type": "stream",
     "text": [
      "<sqlalchemy.orm.session.Session object at 0xffff8c53e450>\n"
     ]
    }
   ],
   "source": [
    "session = session_factory()  # it isn't connected to a database yet\n",
    "print(session)"
   ]
  },
  {
   "cell_type": "markdown",
   "metadata": {},
   "source": [
    "### Session is connected, now what?\n",
    "\n",
    "- The `Session` connects to database engines **on demand**, after it was instanciated.\n",
    "- Once the `Session` has established a connection, it's considered to be **in a transaction**.\n",
    "- The same `Connection` object will continue to be used until the transaction ends.\n",
    "- We can run any Core or ORM SQL satement using methods like `Session.execute()` or `Session.scalars()`. We can still use `Select` but `Session` will do more special things (like returning objects)"
   ]
  },
  {
   "cell_type": "code",
   "execution_count": 356,
   "metadata": {},
   "outputs": [
    {
     "name": "stdout",
     "output_type": "stream",
     "text": [
      "2024-12-09 15:33:42,064 INFO sqlalchemy.engine.Engine BEGIN (implicit)\n",
      "2024-12-09 15:33:42,066 INFO sqlalchemy.engine.Engine select 'hello'\n",
      "2024-12-09 15:33:42,066 INFO sqlalchemy.engine.Engine [generated in 0.00058s] ()\n",
      "<sqlalchemy.engine.cursor.CursorResult object at 0xffff8c550590>\n"
     ]
    }
   ],
   "source": [
    "from sqlalchemy import text\n",
    "\n",
    "result = session.execute(text(\"select 'hello'\"))\n",
    "print(result)"
   ]
  },
  {
   "cell_type": "markdown",
   "metadata": {},
   "source": [
    "- `Session.execute()` returns a `Result` object, just like `Connexion.execute()` does as well.\n",
    "- To end the transaction and **release** the `Connection`, call `Session.commit()`, `Session.rollback()`, or `Session.close()`\n",
    "\n",
    "### Properly managing Session scope\n",
    "\n",
    "- Since `Session` has connect/close and begin/commit cycles, we want to use Python conext manager pattern again:\n"
   ]
  },
  {
   "cell_type": "code",
   "execution_count": 357,
   "metadata": {},
   "outputs": [
    {
     "name": "stdout",
     "output_type": "stream",
     "text": [
      "2024-12-09 15:33:42,073 INFO sqlalchemy.engine.Engine BEGIN (implicit)\n",
      "2024-12-09 15:33:42,075 INFO sqlalchemy.engine.Engine SELECT user_account.id \n",
      "FROM user_account\n",
      "2024-12-09 15:33:42,075 INFO sqlalchemy.engine.Engine [generated in 0.00047s] ()\n",
      "[]\n",
      "2024-12-09 15:33:42,076 INFO sqlalchemy.engine.Engine ROLLBACK\n"
     ]
    }
   ],
   "source": [
    "from sqlalchemy import select\n",
    "\n",
    "with session_factory() as sess:\n",
    "    print(sess.execute(select(User.id)).all())"
   ]
  },
  {
   "cell_type": "markdown",
   "metadata": {},
   "source": [
    "- `sessionmaker() / Session` supports the same transaction patterns as `Engine / Connection`\n",
    "1. \"commit as you go\" where we call `Session.commit()` any number of times:"
   ]
  },
  {
   "cell_type": "code",
   "execution_count": 358,
   "metadata": {},
   "outputs": [
    {
     "name": "stdout",
     "output_type": "stream",
     "text": [
      "2024-12-09 15:33:42,082 INFO sqlalchemy.engine.Engine BEGIN (implicit)\n",
      "2024-12-09 15:33:42,084 INFO sqlalchemy.engine.Engine INSERT INTO user_account (name, full_name) VALUES (?, ?)\n",
      "2024-12-09 15:33:42,084 INFO sqlalchemy.engine.Engine [generated in 0.00031s] [('Sandy', 'Sandy Kilo'), ('Gary', 'Gary Gareau')]\n",
      "2024-12-09 15:33:42,085 INFO sqlalchemy.engine.Engine COMMIT\n"
     ]
    }
   ],
   "source": [
    "from sqlalchemy import insert\n",
    "\n",
    "\n",
    "with session_factory() as sess:\n",
    "    sess.execute(\n",
    "        insert(User),\n",
    "        [\n",
    "            {\"name\": \"Sandy\", \"full_name\": \"Sandy Kilo\"},\n",
    "            {\"name\": \"Gary\", \"full_name\": \"Gary Gareau\"},\n",
    "        ],\n",
    "    )\n",
    "    sess.commit()"
   ]
  },
  {
   "cell_type": "markdown",
   "metadata": {},
   "source": [
    "2. \"begin once\" where we call `sessionmaker.begin()` which establishes a new `Session` and provides a transaction-committing block:\n"
   ]
  },
  {
   "cell_type": "code",
   "execution_count": 359,
   "metadata": {},
   "outputs": [
    {
     "name": "stdout",
     "output_type": "stream",
     "text": [
      "2024-12-09 15:33:42,090 INFO sqlalchemy.engine.Engine BEGIN (implicit)\n",
      "2024-12-09 15:33:42,091 INFO sqlalchemy.engine.Engine DELETE FROM user_account\n",
      "2024-12-09 15:33:42,092 INFO sqlalchemy.engine.Engine [generated in 0.00038s] ()\n",
      "2024-12-09 15:33:42,092 INFO sqlalchemy.engine.Engine COMMIT\n"
     ]
    }
   ],
   "source": [
    "from sqlalchemy import delete\n",
    "\n",
    "with session_factory.begin() as sess:\n",
    "    sess.execute(delete(User))"
   ]
  },
  {
   "cell_type": "markdown",
   "metadata": {},
   "source": [
    "### Unit of work patterns with the Session\n",
    "\n",
    "- For the purpose of the following examples, we will use a session without context manager, but this is only for example."
   ]
  },
  {
   "cell_type": "code",
   "execution_count": 360,
   "metadata": {},
   "outputs": [
    {
     "name": "stdout",
     "output_type": "stream",
     "text": [
      "User(id=None, name='Dave', full_name='Daveey Dee', created_at=None)\n"
     ]
    }
   ],
   "source": [
    "session = session_factory()  # we should not do this\n",
    "\n",
    "# Let's build an object\n",
    "dave = User(name=\"Dave\", full_name=\"Daveey Dee\")\n",
    "print(dave)\n",
    "\n",
    "# We want to persist the data into a new row in the \"user_account\" table\n",
    "# For this, we use Session.add()\n",
    "session.add(dave)"
   ]
  },
  {
   "cell_type": "markdown",
   "metadata": {},
   "source": [
    "- This did not yet modify the database, but the object is now referred towards as **pending**. It means \"this is a Python oject that will be used to populate an `INSERT` statement.\n",
    "- We can see the pending objects by looking at the `session.new` attribute:"
   ]
  },
  {
   "cell_type": "code",
   "execution_count": 361,
   "metadata": {},
   "outputs": [
    {
     "data": {
      "text/plain": [
       "IdentitySet([User(id=None, name='Dave', full_name='Daveey Dee', created_at=None)])"
      ]
     },
     "execution_count": 361,
     "metadata": {},
     "output_type": "execute_result"
    }
   ],
   "source": [
    "session.new"
   ]
  },
  {
   "cell_type": "markdown",
   "metadata": {},
   "source": [
    "- The process by which the `Session`emits `INSERT`, `UPDATE`, and `DELETE` statements for objects such as these is known as the **flush**\n",
    "- The flush process occurs:\n",
    "    - when we run an SQL statement with `Session.execute()` or similar, before that SQL statement is executed (known as **autoflush**)\n",
    "    - when any ORM instance runs a process known as \"lazy loading\" (also part of autoflash; more on that later)\n",
    "    - when we call an explicit method `Session.flush()`\n",
    "    - when we commit the transaction with Session.commit(), before the actual `COMMIT` occurs."
   ]
  },
  {
   "cell_type": "code",
   "execution_count": 362,
   "metadata": {},
   "outputs": [
    {
     "name": "stdout",
     "output_type": "stream",
     "text": [
      "2024-12-09 15:33:42,111 INFO sqlalchemy.engine.Engine BEGIN (implicit)\n",
      "2024-12-09 15:33:42,113 INFO sqlalchemy.engine.Engine INSERT INTO user_account (name, full_name) VALUES (?, ?) RETURNING id, created_at\n",
      "2024-12-09 15:33:42,114 INFO sqlalchemy.engine.Engine [generated in 0.00066s] ('Dave', 'Daveey Dee')\n",
      "2024-12-09 15:33:42,115 INFO sqlalchemy.engine.Engine SELECT user_account.id, user_account.name, user_account.full_name, user_account.created_at \n",
      "FROM user_account \n",
      "WHERE user_account.name = ?\n",
      "2024-12-09 15:33:42,115 INFO sqlalchemy.engine.Engine [generated in 0.00040s] ('Dave',)\n"
     ]
    }
   ],
   "source": [
    "select_stmt = select(User).where(User.name == \"Dave\")\n",
    "result = session.execute(select_stmt)  # insert of previously added user will occur here"
   ]
  },
  {
   "cell_type": "markdown",
   "metadata": {},
   "source": [
    "The `Result` that we get back from `Session.execute()` has a single row"
   ]
  },
  {
   "cell_type": "code",
   "execution_count": 363,
   "metadata": {},
   "outputs": [
    {
     "name": "stdout",
     "output_type": "stream",
     "text": [
      "<sqlalchemy.engine.result.ChunkedIteratorResult object at 0xffff8c55ec90>\n",
      "(User(id=1, name='Dave', full_name='Daveey Dee', created_at=datetime.datetime(2024, 12, 9, 15, 33, 42)),)\n",
      "True\n"
     ]
    }
   ],
   "source": [
    "print(result)\n",
    "row = result.first()  # the result has a single row\n",
    "print(row)\n",
    "\n",
    "if row:\n",
    "    print(isinstance(row[0], User))"
   ]
  },
  {
   "cell_type": "markdown",
   "metadata": {},
   "source": [
    "- On this `User` object, we see that server generated attributes `.id` and `.created_at`\n",
    "- The `User` object we got back is also the same Python object in memory as the original one we used with `Session.add()`:"
   ]
  },
  {
   "cell_type": "code",
   "execution_count": 364,
   "metadata": {},
   "outputs": [
    {
     "name": "stdout",
     "output_type": "stream",
     "text": [
      "True\n",
      "User(id=1, name='Dave', full_name='Daveey Dee', created_at=datetime.datetime(2024, 12, 9, 15, 33, 42))\n"
     ]
    }
   ],
   "source": [
    "if row:\n",
    "    print(id(dave) == id(row[0]))\n",
    "\n",
    "print(dave)  # as a consequence, we can see that `dave` is also updated!"
   ]
  },
  {
   "cell_type": "markdown",
   "metadata": {},
   "source": [
    "### The Identity Map\n",
    "\n",
    "- The way we got back the same object as the one we added is because the `Session` used an **Identity Map**\n",
    "- An Identity Map is a design pattern used to ensure that each object in your program corresponds to exactly one database record during a single transaction or session. It prevents multiple instances of the same entity from being loaded into memory, maintaining a \"one-to-one correspondence\" between the in-memory representation and the database row."
   ]
  },
  {
   "cell_type": "code",
   "execution_count": 365,
   "metadata": {},
   "outputs": [
    {
     "data": {
      "text/plain": [
       "{(__main__.User,\n",
       "  (1,),\n",
       "  None): User(id=1, name='Dave', full_name='Daveey Dee', created_at=datetime.datetime(2024, 12, 9, 15, 33, 42))}"
      ]
     },
     "execution_count": 365,
     "metadata": {},
     "output_type": "execute_result"
    }
   ],
   "source": [
    "dict(session.identity_map)"
   ]
  },
  {
   "cell_type": "markdown",
   "metadata": {},
   "source": [
    "- All objects that are persisted bu the `Session` using flush, as well as all objects that we load using `Session.scalars()` or `Session.execute()`,etc are place in the identity map.\n",
    "- An object that is present in the identity map is said to be in a **persistent** state.\n",
    "- This means: \"there is a row in the current database transaction that matches this objects primary key identity\"."
   ]
  },
  {
   "cell_type": "markdown",
   "metadata": {},
   "source": [
    "### Selecting objects with scalars\n",
    "\n",
    "- Remember how we had to extract our `User` object from a row?"
   ]
  },
  {
   "cell_type": "code",
   "execution_count": 366,
   "metadata": {},
   "outputs": [
    {
     "data": {
      "text/plain": [
       "User(id=1, name='Dave', full_name='Daveey Dee', created_at=datetime.datetime(2024, 12, 9, 15, 33, 42))"
      ]
     },
     "execution_count": 366,
     "metadata": {},
     "output_type": "execute_result"
    }
   ],
   "source": [
    "row[0]  # type: ignore"
   ]
  },
  {
   "cell_type": "markdown",
   "metadata": {},
   "source": [
    "- We will often want to load objects alone from our `SELECT` statements, not rows.\n",
    "- So, for everyday ORM \"load objects\" use, we will use `Session.scalars()` (always return Python objects) more often than `Session.execute()` (always return rows)"
   ]
  },
  {
   "cell_type": "code",
   "execution_count": 367,
   "metadata": {},
   "outputs": [
    {
     "name": "stdout",
     "output_type": "stream",
     "text": [
      "2024-12-09 15:33:42,263 INFO sqlalchemy.engine.Engine SELECT user_account.id, user_account.name, user_account.full_name, user_account.created_at \n",
      "FROM user_account \n",
      "WHERE user_account.name = ?\n",
      "2024-12-09 15:33:42,264 INFO sqlalchemy.engine.Engine [cached since 0.1487s ago] ('Dave',)\n",
      "User(id=1, name='Dave', full_name='Daveey Dee', created_at=datetime.datetime(2024, 12, 9, 15, 33, 42))\n"
     ]
    }
   ],
   "source": [
    "my_dave_user = session.scalars(select(User).where(User.name == \"Dave\")).first()\n",
    "print(my_dave_user)"
   ]
  },
  {
   "cell_type": "markdown",
   "metadata": {},
   "source": [
    "### Making changes\n",
    "\n",
    "`Session.add_all()` lets is ad more objects into the pending state."
   ]
  },
  {
   "cell_type": "code",
   "execution_count": 368,
   "metadata": {},
   "outputs": [
    {
     "name": "stdout",
     "output_type": "stream",
     "text": [
      "IdentitySet([User(id=None, name='patrick', full_name='Patrick Fiori', created_at=None), User(id=None, name='Tom', full_name='Cook', created_at=None)])\n"
     ]
    }
   ],
   "source": [
    "session.add_all([User(\"patrick\", \"Patrick Fiori\"), User(\"Tom\", \"Cook\")])\n",
    "\n",
    "print(session.new)  # as before, we can these pending objects in Session.new"
   ]
  },
  {
   "cell_type": "markdown",
   "metadata": {},
   "source": [
    "- For objects that are **already persistent**, we can modify their attributes:"
   ]
  },
  {
   "cell_type": "code",
   "execution_count": 369,
   "metadata": {},
   "outputs": [],
   "source": [
    "dave.name = \"Dayyyyve\""
   ]
  },
  {
   "cell_type": "markdown",
   "metadata": {},
   "source": [
    "- Persistent objects that have Python-side changes on them are referred as **dirty**\n",
    "- They can be seen with `Session.dirty`"
   ]
  },
  {
   "cell_type": "code",
   "execution_count": 370,
   "metadata": {},
   "outputs": [
    {
     "name": "stdout",
     "output_type": "stream",
     "text": [
      "IdentitySet([User(id=1, name='Dayyyyve', full_name='Daveey Dee', created_at=datetime.datetime(2024, 12, 9, 15, 33, 42))])\n"
     ]
    }
   ],
   "source": [
    "print(session.dirty)"
   ]
  },
  {
   "cell_type": "code",
   "execution_count": 371,
   "metadata": {},
   "outputs": [
    {
     "name": "stdout",
     "output_type": "stream",
     "text": [
      "2024-12-09 15:33:42,288 INFO sqlalchemy.engine.Engine UPDATE user_account SET name=? WHERE user_account.id = ?\n",
      "2024-12-09 15:33:42,289 INFO sqlalchemy.engine.Engine [generated in 0.00083s] ('Dayyyyve', 1)\n",
      "2024-12-09 15:33:42,289 INFO sqlalchemy.engine.Engine INSERT INTO user_account (name, full_name) VALUES (?, ?) RETURNING id, created_at\n",
      "2024-12-09 15:33:42,290 INFO sqlalchemy.engine.Engine [generated in 0.00005s (insertmanyvalues) 1/2 (ordered; batch not supported)] ('patrick', 'Patrick Fiori')\n",
      "2024-12-09 15:33:42,291 INFO sqlalchemy.engine.Engine INSERT INTO user_account (name, full_name) VALUES (?, ?) RETURNING id, created_at\n",
      "2024-12-09 15:33:42,291 INFO sqlalchemy.engine.Engine [insertmanyvalues 2/2 (ordered; batch not supported)] ('Tom', 'Cook')\n",
      "2024-12-09 15:33:42,291 INFO sqlalchemy.engine.Engine COMMIT\n",
      "IdentitySet([])\n",
      "IdentitySet([])\n"
     ]
    }
   ],
   "source": [
    "session.commit()\n",
    "print(session.new)\n",
    "print(session.dirty)"
   ]
  }
 ],
 "metadata": {
  "kernelspec": {
   "display_name": "Python 3",
   "language": "python",
   "name": "python3"
  },
  "language_info": {
   "codemirror_mode": {
    "name": "ipython",
    "version": 3
   },
   "file_extension": ".py",
   "mimetype": "text/x-python",
   "name": "python",
   "nbconvert_exporter": "python",
   "pygments_lexer": "ipython3",
   "version": "3.12.8"
  }
 },
 "nbformat": 4,
 "nbformat_minor": 2
}
