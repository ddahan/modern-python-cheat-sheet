{
 "cells": [
  {
   "cell_type": "markdown",
   "metadata": {},
   "source": [
    "# Engine Basics\n",
    "\n",
    "\n",
    "An **engine** is the core component that establishes a connection between your Python application and a database. It acts as the interface for issuing SQL commands and managing the communication with the database."
   ]
  },
  {
   "cell_type": "code",
   "execution_count": 1,
   "metadata": {},
   "outputs": [
    {
     "name": "stdout",
     "output_type": "stream",
     "text": [
      "Engine(sqlite://)\n"
     ]
    }
   ],
   "source": [
    "# Creating an engine\n",
    "\n",
    "from sqlalchemy import Engine, create_engine\n",
    "\n",
    "# Make a engine that will connect to SQLite in-memory database.\n",
    "# echo=True turn SQLAlchemy logging on.\n",
    "engine: Engine = create_engine(\"sqlite://\", echo=True)\n",
    "\n",
    "print(engine)"
   ]
  },
  {
   "cell_type": "markdown",
   "metadata": {},
   "source": [
    "- The Engine is a **factory** that makes new connection when used.\n",
    "- The engine also stores a **connection pool**, where connections we use will be reused for subsequent operations.\n",
    "- We didn't actually connect yet! We need to use the `connect()` method for this. "
   ]
  },
  {
   "cell_type": "markdown",
   "metadata": {},
   "source": [
    "## Our First Connection"
   ]
  },
  {
   "cell_type": "code",
   "execution_count": 2,
   "metadata": {},
   "outputs": [
    {
     "name": "stdout",
     "output_type": "stream",
     "text": [
      "<sqlalchemy.engine.base.Connection object at 0xffffacb86ea0>\n"
     ]
    }
   ],
   "source": [
    "from sqlalchemy import Connection\n",
    "\n",
    "\n",
    "connection: Connection = engine.connect()\n",
    "\n",
    "print(connection)"
   ]
  },
  {
   "cell_type": "markdown",
   "metadata": {},
   "source": [
    "- The connection is a **proxy** for a DBAPI connection (⚠️ same word used for 2 different things)\n",
    "- In this case, the DBAPI is Python's sqlite3 module."
   ]
  },
  {
   "cell_type": "code",
   "execution_count": 3,
   "metadata": {},
   "outputs": [
    {
     "name": "stdout",
     "output_type": "stream",
     "text": [
      "<sqlite3.Connection object at 0xffffa57e33d0>\n"
     ]
    }
   ],
   "source": [
    "print(connection.connection.driver_connection)"
   ]
  },
  {
   "cell_type": "markdown",
   "metadata": {},
   "source": [
    "## Execute a SQL String\n",
    "\n",
    "- The SQLAlchemy connection feature an `execute()` method to run queries, using the underlying DBAPI connection and cursor behind the scenes\n",
    "- To invoke a textual query, we use the `text()` construct, passed to `execute()`."
   ]
  },
  {
   "cell_type": "code",
   "execution_count": 4,
   "metadata": {},
   "outputs": [
    {
     "name": "stdout",
     "output_type": "stream",
     "text": [
      "2024-12-08 20:47:27,469 INFO sqlalchemy.engine.Engine BEGIN (implicit)\n",
      "2024-12-08 20:47:27,470 INFO sqlalchemy.engine.Engine CREATE TABLE users (id INTEGER, name TEXT)\n",
      "2024-12-08 20:47:27,470 INFO sqlalchemy.engine.Engine [generated in 0.00111s] ()\n",
      "2024-12-08 20:47:27,470 INFO sqlalchemy.engine.Engine INSERT INTO users (id, name) VALUES (1, 'Alice'), (2, 'Bob')\n",
      "2024-12-08 20:47:27,471 INFO sqlalchemy.engine.Engine [generated in 0.00036s] ()\n",
      "<sqlalchemy.engine.cursor.CursorResult object at 0xffffa57ed550>\n"
     ]
    }
   ],
   "source": [
    "from sqlalchemy import text\n",
    "\n",
    "stmt_1 = text(\"CREATE TABLE users (id INTEGER, name TEXT)\")\n",
    "stmt_2 = text(\"INSERT INTO users (id, name) VALUES (1, 'Alice'), (2, 'Bob')\")\n",
    "connection.execute(stmt_1)\n",
    "result = connection.execute(stmt_2)\n",
    "print(result)"
   ]
  },
  {
   "cell_type": "markdown",
   "metadata": {},
   "source": [
    "- The returned result is a `CursorResult`, a `Result` that is representing state from a DBAPI cursor.\n",
    "- `Result` and `CursorResult` have methods, for example to fetch rows"
   ]
  },
  {
   "cell_type": "markdown",
   "metadata": {},
   "source": [
    "## Getting results\n",
    "\n",
    "The `first()` method returns the first row, or None is no row, and close the result set."
   ]
  },
  {
   "cell_type": "code",
   "execution_count": 5,
   "metadata": {},
   "outputs": [
    {
     "name": "stdout",
     "output_type": "stream",
     "text": [
      "2024-12-08 20:47:27,478 INFO sqlalchemy.engine.Engine SELECT * from users\n",
      "2024-12-08 20:47:27,478 INFO sqlalchemy.engine.Engine [generated in 0.00092s] ()\n"
     ]
    }
   ],
   "source": [
    "from typing import Any\n",
    "from sqlalchemy import Row\n",
    "\n",
    "result = connection.execute(text(\"SELECT * from users\"))\n",
    "row: Row[Any] | None = result.first()"
   ]
  },
  {
   "cell_type": "markdown",
   "metadata": {},
   "source": [
    "### The Row object\n",
    "\n",
    "- Looks and acts mostly like a named tuple:"
   ]
  },
  {
   "cell_type": "code",
   "execution_count": 6,
   "metadata": {},
   "outputs": [
    {
     "name": "stdout",
     "output_type": "stream",
     "text": [
      "(1, 'Alice')\n",
      "Alice\n",
      "Alice\n"
     ]
    }
   ],
   "source": [
    "print(row)\n",
    "if row:\n",
    "    print(row[1])  # access the \"name\" column with index\n",
    "    print(row.name)  # same thing using named tuple"
   ]
  },
  {
   "cell_type": "markdown",
   "metadata": {},
   "source": [
    "- We can also have a dictionnary interface, available with an accessors called `_mapping`:"
   ]
  },
  {
   "cell_type": "code",
   "execution_count": 7,
   "metadata": {},
   "outputs": [
    {
     "name": "stdout",
     "output_type": "stream",
     "text": [
      "{'id': 1, 'name': 'Alice'}\n"
     ]
    }
   ],
   "source": [
    "if row:\n",
    "    print(row._mapping)  # type: ignore (access to protected attribute)"
   ]
  },
  {
   "cell_type": "markdown",
   "metadata": {},
   "source": [
    "### What Does \"Closing the Result Set\" Mean?\n",
    "\n",
    "- When a result set is closed, the underlying database cursor and connection resources associated with the query are released. This prevents resource leaks, especially in long-running applications.\n",
    "\n",
    "- Once the result set is closed, you can **no longer fetch additional rows** or iterate over the results. The result set is finalized and discarded.\n",
    "\n",
    "- SQLAlchemy handles this automatically with first() and similar convenience methods, so you don't need to manually manage the lifecycle of the result set."
   ]
  },
  {
   "cell_type": "code",
   "execution_count": 8,
   "metadata": {},
   "outputs": [
    {
     "name": "stdout",
     "output_type": "stream",
     "text": [
      "Error: This result object is closed.\n"
     ]
    }
   ],
   "source": [
    "# Attempting to fetch more data will fail because the result set is closed\n",
    "try:\n",
    "    for row in result:\n",
    "        print(row)\n",
    "except Exception as e:\n",
    "    print(\"Error:\", e)"
   ]
  },
  {
   "cell_type": "markdown",
   "metadata": {},
   "source": [
    "### Different patterns to iterate over rows\n",
    "\n",
    "- A `CursorResult` is a **forward-only iterator**. Once you iterate over the result, the cursor is advanced, and the data is consumed. Afterward, the result object no longer retains the data, and attempting to iterate over it again won't produce any output. This design keeps memory usage low when dealing with large datasets.\n",
    "\n",
    "- A simple way to keep data in memory is: ` rows = list(result)`\n",
    "\n",
    "#### Iterating on rows"
   ]
  },
  {
   "cell_type": "code",
   "execution_count": 9,
   "metadata": {},
   "outputs": [
    {
     "name": "stdout",
     "output_type": "stream",
     "text": [
      "2024-12-08 20:47:27,504 INFO sqlalchemy.engine.Engine SELECT * from users\n",
      "2024-12-08 20:47:27,506 INFO sqlalchemy.engine.Engine [cached since 0.02864s ago] ()\n",
      "(1, 'Alice')\n",
      "(2, 'Bob')\n"
     ]
    }
   ],
   "source": [
    "result = connection.execute(text(\"SELECT * from users\"))  # reset the result\n",
    "\n",
    "for row in result:\n",
    "    print(row)"
   ]
  },
  {
   "cell_type": "markdown",
   "metadata": {},
   "source": [
    "#### Iterating with tuple assignment"
   ]
  },
  {
   "cell_type": "code",
   "execution_count": 10,
   "metadata": {},
   "outputs": [
    {
     "name": "stdout",
     "output_type": "stream",
     "text": [
      "2024-12-08 20:47:27,512 INFO sqlalchemy.engine.Engine SELECT * from users\n",
      "2024-12-08 20:47:27,513 INFO sqlalchemy.engine.Engine [cached since 0.03514s ago] ()\n",
      "The user 1 is named Alice.\n",
      "The user 2 is named Bob.\n"
     ]
    }
   ],
   "source": [
    "result = connection.execute(text(\"SELECT * from users\"))  # reset the result\n",
    "\n",
    "for id, name in result:\n",
    "    print(f\"The user {id} is named {name}.\")"
   ]
  },
  {
   "cell_type": "markdown",
   "metadata": {},
   "source": [
    "#### Iterating through the first column of each row\n",
    "\n",
    "- The `scalars()` method extracts the first column of each row from the query result when the query returns multiple columns.\n",
    "- It is commonly used when your query returns rows but you're only interested in the values from a single column.\n",
    "- It returns an iterable, which can be converted to list, used in loops, or consumed lazily."
   ]
  },
  {
   "cell_type": "code",
   "execution_count": 11,
   "metadata": {},
   "outputs": [
    {
     "name": "stdout",
     "output_type": "stream",
     "text": [
      "2024-12-08 20:47:27,519 INFO sqlalchemy.engine.Engine SELECT * from users\n",
      "2024-12-08 20:47:27,520 INFO sqlalchemy.engine.Engine [cached since 0.04195s ago] ()\n",
      "1\n",
      "2\n"
     ]
    }
   ],
   "source": [
    "result = connection.execute(text(\"SELECT * from users\"))  # reset the result\n",
    "\n",
    "\n",
    "for id in result.scalars():\n",
    "    print(id)"
   ]
  },
  {
   "cell_type": "markdown",
   "metadata": {},
   "source": [
    "#### Getting all rows in a list"
   ]
  },
  {
   "cell_type": "code",
   "execution_count": 12,
   "metadata": {},
   "outputs": [
    {
     "name": "stdout",
     "output_type": "stream",
     "text": [
      "2024-12-08 20:47:27,525 INFO sqlalchemy.engine.Engine SELECT * from users\n",
      "2024-12-08 20:47:27,526 INFO sqlalchemy.engine.Engine [cached since 0.04866s ago] ()\n"
     ]
    },
    {
     "data": {
      "text/plain": [
       "[(1, 'Alice'), (2, 'Bob')]"
      ]
     },
     "execution_count": 12,
     "metadata": {},
     "output_type": "execute_result"
    }
   ],
   "source": [
    "result = connection.execute(text(\"SELECT * from users\"))\n",
    "\n",
    "result.all()"
   ]
  },
  {
   "cell_type": "markdown",
   "metadata": {},
   "source": [
    "#### Getting all first columns in a list"
   ]
  },
  {
   "cell_type": "code",
   "execution_count": 13,
   "metadata": {},
   "outputs": [
    {
     "name": "stdout",
     "output_type": "stream",
     "text": [
      "2024-12-08 20:47:27,535 INFO sqlalchemy.engine.Engine SELECT * from users\n",
      "2024-12-08 20:47:27,536 INFO sqlalchemy.engine.Engine [cached since 0.05823s ago] ()\n"
     ]
    },
    {
     "data": {
      "text/plain": [
       "[1, 2]"
      ]
     },
     "execution_count": 13,
     "metadata": {},
     "output_type": "execute_result"
    }
   ],
   "source": [
    "result = connection.execute(text(\"SELECT * from users\"))\n",
    "\n",
    "result.scalars().all()"
   ]
  },
  {
   "cell_type": "markdown",
   "metadata": {},
   "source": [
    "## Closing connections\n",
    "\n",
    "- `close()` method **releases** the DBADI connection back to the connection pool. \"releases\" means the pool may hold onto the connection, ot close it if it's part of overflow (over the limit).\n",
    "- To avoid unintended behavior or side effects, SQLAlchemy automatically issues a ROLLBACK to discard any uncommitted changes. And After close() is called, the connection is returned to the pool. SQLAlchemy ensures the connection is clean and ready for the next use by rolling back any active transaction."
   ]
  },
  {
   "cell_type": "code",
   "execution_count": 14,
   "metadata": {},
   "outputs": [
    {
     "name": "stdout",
     "output_type": "stream",
     "text": [
      "2024-12-08 20:47:27,543 INFO sqlalchemy.engine.Engine ROLLBACK\n"
     ]
    }
   ],
   "source": [
    "connection.close()"
   ]
  },
  {
   "cell_type": "markdown",
   "metadata": {},
   "source": [
    "- Modern use should favor **context managers** to manage the connect/release process instead of calling `close()` method:"
   ]
  },
  {
   "cell_type": "code",
   "execution_count": 15,
   "metadata": {},
   "outputs": [
    {
     "name": "stdout",
     "output_type": "stream",
     "text": [
      "2024-12-08 20:47:27,549 INFO sqlalchemy.engine.Engine BEGIN (implicit)\n",
      "2024-12-08 20:47:27,550 INFO sqlalchemy.engine.Engine select 'toto'\n",
      "2024-12-08 20:47:27,550 INFO sqlalchemy.engine.Engine [generated in 0.00126s] ()\n",
      "[('toto',)]\n",
      "2024-12-08 20:47:27,551 INFO sqlalchemy.engine.Engine ROLLBACK\n"
     ]
    }
   ],
   "source": [
    "with engine.connect() as connection:\n",
    "    result = connection.execute(text(\"select 'toto'\"))\n",
    "    print(result.all())"
   ]
  },
  {
   "cell_type": "markdown",
   "metadata": {},
   "source": [
    "- If you have lots of thing to do with a connection, create a function and pass the connection to it.\n",
    "- When you deal with SQLAlchemy objects, you want to make sure that when opening something, you release it correctly. Lots of problems can come from this.\n",
    "- As we can see in the logs, the context managers handle the whole process with a BEGIN and a ROLLBACK in the end"
   ]
  },
  {
   "cell_type": "markdown",
   "metadata": {},
   "source": [
    "## Transactions, committing\n",
    "\n",
    "- SQLAlchemy always assumes an explicit or implicit \"begin\" of a transaction, at the start of some SQL operations. This behavior ensures **consistency**, as all operations are part of a transaction and subject to rollback or commit.\n",
    "\n",
    "- Transaction Lifecycle: a transaction remains open until:\n",
    "  - You explicitly commit it (`commit()`) or roll it back (`rollback()`).\n",
    "  - SQLAlchemy closes the connection or session, at which point it issues a ROLLBACK to discard uncommitted changes.\n",
    "\n",
    "- SQLAlchemy never COMMIT implicitely. It expects the user to be explicit about this.\n",
    "- Note: I did not `commit()` in previous example but uncommitted transactions are visible within the same connection, in sqlite."
   ]
  },
  {
   "cell_type": "markdown",
   "metadata": {},
   "source": [
    "### Two styles to start a transaction\n",
    "\n",
    "#### Style 1: \"Commit as you go\"\n",
    "\n",
    "You write operations and commit when you are ready."
   ]
  },
  {
   "cell_type": "code",
   "execution_count": 16,
   "metadata": {},
   "outputs": [
    {
     "name": "stdout",
     "output_type": "stream",
     "text": [
      "2024-12-08 20:47:27,557 INFO sqlalchemy.engine.Engine BEGIN (implicit)\n",
      "2024-12-08 20:47:27,558 INFO sqlalchemy.engine.Engine INSERT INTO users (id, name) VALUES (3, 'Robert')\n",
      "2024-12-08 20:47:27,558 INFO sqlalchemy.engine.Engine [generated in 0.00101s] ()\n",
      "2024-12-08 20:47:27,559 INFO sqlalchemy.engine.Engine COMMIT\n"
     ]
    }
   ],
   "source": [
    "insert_stmt = text(\"INSERT INTO users (id, name) VALUES (3, 'Robert')\")\n",
    "\n",
    "with engine.connect() as connection:\n",
    "    connection.execute(insert_stmt)\n",
    "    connection.commit()"
   ]
  },
  {
   "cell_type": "markdown",
   "metadata": {},
   "source": [
    "#### Style 2: \"begin once\"\n",
    "\n",
    "Here the transaction start as an explicit block that commits when complete. Here you want to run a single transaction."
   ]
  },
  {
   "cell_type": "code",
   "execution_count": 17,
   "metadata": {},
   "outputs": [
    {
     "name": "stdout",
     "output_type": "stream",
     "text": [
      "2024-12-08 20:47:27,565 INFO sqlalchemy.engine.Engine BEGIN (implicit)\n",
      "2024-12-08 20:47:27,566 INFO sqlalchemy.engine.Engine INSERT INTO users (id, name) VALUES (3, 'Robert')\n",
      "2024-12-08 20:47:27,566 INFO sqlalchemy.engine.Engine [cached since 0.008641s ago] ()\n",
      "2024-12-08 20:47:27,566 INFO sqlalchemy.engine.Engine COMMIT\n"
     ]
    }
   ],
   "source": [
    "with engine.begin() as connection:\n",
    "    connection.execute(insert_stmt)\n",
    "\n",
    "# end of block: commits transaction, releases connection back to the connection pool.\n",
    "# rolls back if there is an exception"
   ]
  },
  {
   "cell_type": "markdown",
   "metadata": {},
   "source": [
    "### engine.connect() can also be used with connection.begin()"
   ]
  },
  {
   "cell_type": "code",
   "execution_count": 18,
   "metadata": {},
   "outputs": [
    {
     "name": "stdout",
     "output_type": "stream",
     "text": [
      "2024-12-08 20:47:27,572 INFO sqlalchemy.engine.Engine BEGIN (implicit)\n",
      "2024-12-08 20:47:27,573 INFO sqlalchemy.engine.Engine INSERT INTO users (id, name) VALUES (3, 'Robert')\n",
      "2024-12-08 20:47:27,573 INFO sqlalchemy.engine.Engine [cached since 0.01613s ago] ()\n",
      "2024-12-08 20:47:27,574 INFO sqlalchemy.engine.Engine COMMIT\n"
     ]
    }
   ],
   "source": [
    "with engine.connect() as connection:\n",
    "    with connection.begin():\n",
    "        connection.execute(insert_stmt)\n",
    "    # end of inner block: commits transaction, or rollback if exception\n",
    "# end of outer block: releases connection to the connection pool"
   ]
  },
  {
   "cell_type": "markdown",
   "metadata": {},
   "source": [
    "### Notes\n",
    "\n",
    "- Engine aims to be a \"long-lived\", \"application scoped\" variable accross your program. You create it once, an then using it everywhere."
   ]
  }
 ],
 "metadata": {
  "kernelspec": {
   "display_name": "Python 3",
   "language": "python",
   "name": "python3"
  },
  "language_info": {
   "codemirror_mode": {
    "name": "ipython",
    "version": 3
   },
   "file_extension": ".py",
   "mimetype": "text/x-python",
   "name": "python",
   "nbconvert_exporter": "python",
   "pygments_lexer": "ipython3",
   "version": "3.12.8"
  }
 },
 "nbformat": 4,
 "nbformat_minor": 2
}
