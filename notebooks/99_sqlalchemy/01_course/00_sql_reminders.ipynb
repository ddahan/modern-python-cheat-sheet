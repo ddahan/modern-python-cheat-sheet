{
 "cells": [
  {
   "cell_type": "markdown",
   "metadata": {},
   "source": [
    "### Random notes\n",
    "\n",
    "- A **schema** is a logical structure or container that organizes and groups database objects, such as tables, views, indexes, functions, and stored procedures. It provides a way to categorize and isolate objects within a database. By default, most databases use a `public` schema unless otherwise specified.\n",
    "\n",
    "- A **connection pool** in PostgreSQL is a mechanism to manage and reuse database connections efficiently. It maintains a \"pool\" of open connections to the database that can be reused by applications, reducing the overhead of repeatedly establishing and closing connections.\n",
    "\n",
    "- A **subquery** in SQL is a query nested within another SQL query. It is used to perform intermediate calculations or filtering that can then be used by the enclosing query. Subqueries are often referred to as \"inner queries,\" while the query that contains them is called the \"outer query.\"\n",
    "\n",
    "- **DDL** stands for Data Definition Language, which is a subset of SQL (Structured Query Language) used to define, modify, and manage the structure of a database and its objects. This includes creating, altering, and deleting database schemas, tables, indexes, constraints, and more."
   ]
  }
 ],
 "metadata": {
  "language_info": {
   "name": "python"
  }
 },
 "nbformat": 4,
 "nbformat_minor": 2
}
