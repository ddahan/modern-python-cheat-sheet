{
 "cells": [
  {
   "cell_type": "markdown",
   "metadata": {},
   "source": [
    "# Inserts\n",
    "\n",
    "\n",
    "### The `insert()` construct\n",
    "\n",
    "- the `insert()` constructs directly corresponds to a SQL `INSERT` statement."
   ]
  },
  {
   "cell_type": "code",
   "execution_count": 63,
   "metadata": {},
   "outputs": [
    {
     "name": "stdout",
     "output_type": "stream",
     "text": [
      "2024-12-08 22:01:44,959 INFO sqlalchemy.engine.Engine BEGIN (implicit)\n",
      "2024-12-08 22:01:44,960 INFO sqlalchemy.engine.Engine PRAGMA main.table_info(\"user_account\")\n",
      "2024-12-08 22:01:44,960 INFO sqlalchemy.engine.Engine [raw sql] ()\n",
      "2024-12-08 22:01:44,961 INFO sqlalchemy.engine.Engine PRAGMA temp.table_info(\"user_account\")\n",
      "2024-12-08 22:01:44,962 INFO sqlalchemy.engine.Engine [raw sql] ()\n",
      "2024-12-08 22:01:44,963 INFO sqlalchemy.engine.Engine \n",
      "CREATE TABLE user_account (\n",
      "\tid INTEGER NOT NULL, \n",
      "\tname VARCHAR NOT NULL, \n",
      "\tfull_name VARCHAR, \n",
      "\tcreated_at DATETIME DEFAULT (CURRENT_TIMESTAMP) NOT NULL, \n",
      "\tPRIMARY KEY (id)\n",
      ")\n",
      "\n",
      "\n",
      "2024-12-08 22:01:44,963 INFO sqlalchemy.engine.Engine [no key 0.00049s] ()\n",
      "2024-12-08 22:01:44,964 INFO sqlalchemy.engine.Engine COMMIT\n"
     ]
    }
   ],
   "source": [
    "from datetime import datetime\n",
    "from sqlalchemy import create_engine, func\n",
    "from sqlalchemy.orm import Mapped, mapped_column, DeclarativeBase, MappedAsDataclass\n",
    "\n",
    "\n",
    "class Base(MappedAsDataclass, DeclarativeBase):\n",
    "    pass\n",
    "\n",
    "\n",
    "class User(Base):  # class can be called whatever we want, no impact on the table name\n",
    "    __tablename__ = \"user_account\"\n",
    "\n",
    "    id: Mapped[int] = mapped_column(primary_key=True, init=False)\n",
    "    name: Mapped[str]\n",
    "    full_name: Mapped[str | None]\n",
    "    created_at: Mapped[datetime] = mapped_column(init=False, server_default=func.now())\n",
    "\n",
    "\n",
    "engine = create_engine(\"sqlite://\", echo=True)\n",
    "with engine.begin() as conn:\n",
    "    Base.metadata.create_all(conn)"
   ]
  },
  {
   "cell_type": "markdown",
   "metadata": {},
   "source": [
    "**About `func`**\n",
    "\n",
    "- `func` is a namespace that provides a way to generate SQL function expressions. It allows you to call SQL functions (both built-in and custom functions) within SQLAlchemy queries\n",
    "- Examples: `COUNT`, `AVG`, `MAX`, `MIN`, `SUM`.\n",
    "- You can use func expressions as part of SQLAlchemy query filters, columns, or other clauses."
   ]
  },
  {
   "cell_type": "markdown",
   "metadata": {},
   "source": [
    "\n",
    "- the `insert()` function starts with a single argument: the table, or table-representing ORM entity.\n",
    "- in this case, it's the `User` class"
   ]
  },
  {
   "cell_type": "code",
   "execution_count": 64,
   "metadata": {},
   "outputs": [
    {
     "name": "stdout",
     "output_type": "stream",
     "text": [
      "INSERT INTO user_account (id, name, full_name, created_at) VALUES (:id, :name, :full_name, :created_at)\n"
     ]
    }
   ],
   "source": [
    "from sqlalchemy import insert\n",
    "\n",
    "insert_stmt = insert(User)\n",
    "\n",
    "print(insert_stmt)  # get this generic insert with columns"
   ]
  },
  {
   "cell_type": "markdown",
   "metadata": {},
   "source": [
    "- next we further indicate a VALUES clause to be included in the `INSERT` statement, usin the `insert.values()` method, which accepts keys that match database column names"
   ]
  },
  {
   "cell_type": "code",
   "execution_count": 65,
   "metadata": {},
   "outputs": [
    {
     "name": "stdout",
     "output_type": "stream",
     "text": [
      "2024-12-08 22:01:44,979 INFO sqlalchemy.engine.Engine BEGIN (implicit)\n",
      "2024-12-08 22:01:44,980 INFO sqlalchemy.engine.Engine INSERT INTO user_account (name, full_name) VALUES (?, ?)\n",
      "2024-12-08 22:01:44,980 INFO sqlalchemy.engine.Engine [generated in 0.00084s] ('Walt', 'Walther White')\n",
      "2024-12-08 22:01:44,981 INFO sqlalchemy.engine.Engine COMMIT\n"
     ]
    }
   ],
   "source": [
    "insert_stmt = insert_stmt.values(name=\"Walt\", full_name=\"Walther White\")\n",
    "\n",
    "with engine.begin() as conn:\n",
    "    conn.execute(insert_stmt)"
   ]
  },
  {
   "cell_type": "markdown",
   "metadata": {},
   "source": [
    "_Note that the `?` are placeholders used to represent values that will be bound to the query at **execution time**. They can be displayed differtly according to the chosen database."
   ]
  },
  {
   "cell_type": "markdown",
   "metadata": {},
   "source": [
    "### INSERT using `execute()`"
   ]
  },
  {
   "cell_type": "markdown",
   "metadata": {},
   "source": [
    "- `.values()` is used to produce a specific VALUES clause.\n",
    "- For simple cases, we usually rely opon SQLAlchemy itself to generate this for us.\n",
    "- For this, we can pass a `dict` or `list[dict]` to the `.execute()` method to accompany the statement.\n",
    "- SQLAlchemy will then INSERT lists of dictionnaties **in bulk**.\n",
    "- The convention of \"keys match column names\" is the same as that if the `insert.values()`"
   ]
  },
  {
   "cell_type": "code",
   "execution_count": 66,
   "metadata": {},
   "outputs": [
    {
     "name": "stdout",
     "output_type": "stream",
     "text": [
      "2024-12-08 22:01:44,987 INFO sqlalchemy.engine.Engine BEGIN (implicit)\n",
      "2024-12-08 22:01:44,988 INFO sqlalchemy.engine.Engine INSERT INTO user_account (name, full_name) VALUES (?, ?)\n",
      "2024-12-08 22:01:44,989 INFO sqlalchemy.engine.Engine [generated in 0.00039s] [('Sandy', 'Sandy Kilo'), ('Gary', 'Gary Gareau')]\n",
      "2024-12-08 22:01:44,990 INFO sqlalchemy.engine.Engine COMMIT\n"
     ]
    }
   ],
   "source": [
    "with engine.begin() as conn:\n",
    "    conn.execute(\n",
    "        insert(User),\n",
    "        [\n",
    "            {\"name\": \"Sandy\", \"full_name\": \"Sandy Kilo\"},\n",
    "            {\"name\": \"Gary\", \"full_name\": \"Gary Gareau\"},\n",
    "        ],\n",
    "    )"
   ]
  }
 ],
 "metadata": {
  "kernelspec": {
   "display_name": "Python 3",
   "language": "python",
   "name": "python3"
  },
  "language_info": {
   "codemirror_mode": {
    "name": "ipython",
    "version": 3
   },
   "file_extension": ".py",
   "mimetype": "text/x-python",
   "name": "python",
   "nbconvert_exporter": "python",
   "pygments_lexer": "ipython3",
   "version": "3.12.8"
  }
 },
 "nbformat": 4,
 "nbformat_minor": 2
}
