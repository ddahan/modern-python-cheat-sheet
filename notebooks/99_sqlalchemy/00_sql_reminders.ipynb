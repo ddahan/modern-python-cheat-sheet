{
 "cells": [
  {
   "cell_type": "markdown",
   "metadata": {},
   "source": [
    "### Random notes\n",
    "\n",
    "- A **schema** is a logical structure or container that organizes and groups database objects, such as tables, views, indexes, functions, and stored procedures. It provides a way to categorize and isolate objects within a database. By default, most databases use a `public` schema unless otherwise specified.\n",
    "\n",
    "- A **connection pool** in PostgreSQL is a mechanism to manage and reuse database connections efficiently. It maintains a \"pool\" of open connections to the database that can be reused by applications, reducing the overhead of repeatedly establishing and closing connections."
   ]
  }
 ],
 "metadata": {
  "language_info": {
   "name": "python"
  }
 },
 "nbformat": 4,
 "nbformat_minor": 2
}
