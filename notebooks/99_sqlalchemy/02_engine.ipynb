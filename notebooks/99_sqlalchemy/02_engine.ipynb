{
 "cells": [
  {
   "cell_type": "markdown",
   "metadata": {},
   "source": [
    "# Engine usage\n",
    "\n",
    "## Engine\n",
    "\n",
    "An **engine** is the core component that establishes a connection between your Python application and a database. It acts as the interface for issuing SQL commands and managing the communication with the database."
   ]
  },
  {
   "cell_type": "code",
   "execution_count": 1003,
   "metadata": {},
   "outputs": [
    {
     "name": "stdout",
     "output_type": "stream",
     "text": [
      "Engine(sqlite://)\n"
     ]
    }
   ],
   "source": [
    "# Creating an engine\n",
    "\n",
    "from sqlalchemy import Engine, create_engine\n",
    "\n",
    "# Make a engine that will connect to SQLite in-memory database.\n",
    "# echo=True turn SQLAlchemy logging on.\n",
    "engine: Engine = create_engine(\"sqlite://\", echo=True)\n",
    "\n",
    "print(engine)"
   ]
  },
  {
   "cell_type": "markdown",
   "metadata": {},
   "source": [
    "- The Engine is a **factory** that makes new connection when used.\n",
    "\n",
    "- The engine also stores a **connection pool**, where connections we use will be reused for subsequent operations.\n",
    "\n",
    "- We didn't actually connect yet! We need to use the `connect()` method for this. "
   ]
  },
  {
   "cell_type": "markdown",
   "metadata": {},
   "source": [
    "## Connection"
   ]
  },
  {
   "cell_type": "code",
   "execution_count": 1004,
   "metadata": {},
   "outputs": [
    {
     "name": "stdout",
     "output_type": "stream",
     "text": [
      "<sqlalchemy.engine.base.Connection object at 0xffff6aad0200>\n"
     ]
    }
   ],
   "source": [
    "from sqlalchemy import Connection\n",
    "\n",
    "\n",
    "connection: Connection = engine.connect()\n",
    "\n",
    "print(connection)"
   ]
  },
  {
   "cell_type": "markdown",
   "metadata": {},
   "source": [
    "- The connection is a **proxy** for a DBAPI connection (⚠️ same word used for 2 different things)\n",
    "- In this case, the DBAPI is Python's sqlite3 module."
   ]
  },
  {
   "cell_type": "code",
   "execution_count": 1005,
   "metadata": {},
   "outputs": [
    {
     "name": "stdout",
     "output_type": "stream",
     "text": [
      "<sqlite3.Connection object at 0xffff6a817010>\n"
     ]
    }
   ],
   "source": [
    "print(connection.connection.driver_connection)"
   ]
  },
  {
   "cell_type": "markdown",
   "metadata": {},
   "source": [
    "## Execute\n",
    "\n",
    "- The SQLAlchemy connection feature an `execute()` method to run queries, using the underlying DBAPI connection and cursor behind the scenes\n",
    "- To invoke a textual query, we use the `sqlalchemy.text()` construct, passed to `execute()`."
   ]
  },
  {
   "cell_type": "code",
   "execution_count": 1006,
   "metadata": {},
   "outputs": [
    {
     "name": "stdout",
     "output_type": "stream",
     "text": [
      "2024-12-07 18:23:53,671 INFO sqlalchemy.engine.Engine BEGIN (implicit)\n",
      "2024-12-07 18:23:53,672 INFO sqlalchemy.engine.Engine CREATE TABLE users (id INTEGER, name TEXT)\n",
      "2024-12-07 18:23:53,673 INFO sqlalchemy.engine.Engine [generated in 0.00158s] ()\n",
      "2024-12-07 18:23:53,673 INFO sqlalchemy.engine.Engine INSERT INTO users (id, name) VALUES (1, 'Alice'), (2, 'Bob')\n",
      "2024-12-07 18:23:53,674 INFO sqlalchemy.engine.Engine [generated in 0.00045s] ()\n",
      "<sqlalchemy.engine.cursor.CursorResult object at 0xffff6a83e820>\n"
     ]
    }
   ],
   "source": [
    "from sqlalchemy import text\n",
    "\n",
    "stmt_1 = text(\"CREATE TABLE users (id INTEGER, name TEXT)\")\n",
    "stmt_2 = text(\"INSERT INTO users (id, name) VALUES (1, 'Alice'), (2, 'Bob')\")\n",
    "connection.execute(stmt_1)\n",
    "result = connection.execute(stmt_2)\n",
    "print(result)"
   ]
  },
  {
   "cell_type": "markdown",
   "metadata": {},
   "source": [
    "- The returned result is a `CursorResult`, a `Result` that is representing state from a DBAPI cursor.\n",
    "- `Result` and `CursorResult` have methods, for example to fetch rows"
   ]
  },
  {
   "cell_type": "markdown",
   "metadata": {},
   "source": [
    "### Example: `first()` method\n",
    "\n",
    "Return the first row, or None is no row, and close the result set."
   ]
  },
  {
   "cell_type": "code",
   "execution_count": 1007,
   "metadata": {},
   "outputs": [
    {
     "name": "stdout",
     "output_type": "stream",
     "text": [
      "2024-12-07 18:23:53,680 INFO sqlalchemy.engine.Engine SELECT * from users\n",
      "2024-12-07 18:23:53,681 INFO sqlalchemy.engine.Engine [generated in 0.00106s] ()\n"
     ]
    }
   ],
   "source": [
    "from typing import Any\n",
    "from sqlalchemy import Row\n",
    "\n",
    "result = connection.execute(text(\"SELECT * from users\"))\n",
    "row: Row[Any] | None = result.first()"
   ]
  },
  {
   "cell_type": "markdown",
   "metadata": {},
   "source": [
    "### The Row object\n",
    "\n",
    "- Looks and acts mostly like a named tuple:"
   ]
  },
  {
   "cell_type": "code",
   "execution_count": 1008,
   "metadata": {},
   "outputs": [
    {
     "name": "stdout",
     "output_type": "stream",
     "text": [
      "Alice\n",
      "Alice\n"
     ]
    }
   ],
   "source": [
    "if row:\n",
    "    print(row[1])  # access the \"name\" column with index\n",
    "    print(row.name)  # same thing using named tuple"
   ]
  },
  {
   "cell_type": "markdown",
   "metadata": {},
   "source": [
    "- We can also have a dictionnary interface, available with an accessors called `_mapping`:"
   ]
  },
  {
   "cell_type": "code",
   "execution_count": 1009,
   "metadata": {},
   "outputs": [
    {
     "name": "stdout",
     "output_type": "stream",
     "text": [
      "{'id': 1, 'name': 'Alice'}\n"
     ]
    }
   ],
   "source": [
    "if row:\n",
    "    print(row._mapping)  # type: ignore (access to protected attribute)"
   ]
  },
  {
   "cell_type": "markdown",
   "metadata": {},
   "source": [
    "### What Does \"Closing the Result Set\" Mean?\n",
    "\n",
    "- When a result set is closed, the underlying database cursor and connection resources associated with the query are released. This prevents resource leaks, especially in long-running applications.\n",
    "Inaccessibility of Remaining Results:\n",
    "\n",
    "- Once the result set is closed, you can **no longer fetch additional rows** or iterate over the results. The result set is finalized and discarded.\n",
    "\n",
    "- SQLAlchemy handles this automatically with first() and similar convenience methods, so you don't need to manually manage the lifecycle of the result set."
   ]
  },
  {
   "cell_type": "code",
   "execution_count": 1010,
   "metadata": {},
   "outputs": [
    {
     "name": "stdout",
     "output_type": "stream",
     "text": [
      "Error: This result object is closed.\n"
     ]
    }
   ],
   "source": [
    "# Attempting to fetch more data will fail because the result set is closed\n",
    "try:\n",
    "    for row in result:\n",
    "        print(row)\n",
    "except Exception as e:\n",
    "    print(\"Error:\", e)"
   ]
  },
  {
   "cell_type": "markdown",
   "metadata": {},
   "source": [
    "### Different patterns to iterate over rows\n",
    "\n",
    "#### Iterating on rows"
   ]
  },
  {
   "cell_type": "code",
   "execution_count": 1011,
   "metadata": {},
   "outputs": [
    {
     "name": "stdout",
     "output_type": "stream",
     "text": [
      "2024-12-07 18:23:53,704 INFO sqlalchemy.engine.Engine SELECT * from users\n",
      "2024-12-07 18:23:53,705 INFO sqlalchemy.engine.Engine [cached since 0.02489s ago] ()\n",
      "(1, 'Alice')\n",
      "(2, 'Bob')\n"
     ]
    }
   ],
   "source": [
    "result = connection.execute(text(\"SELECT * from users\"))  # reset the result\n",
    "\n",
    "for row in result:\n",
    "    print(row)"
   ]
  },
  {
   "cell_type": "markdown",
   "metadata": {},
   "source": [
    "#### Iterating with tuple assignment"
   ]
  },
  {
   "cell_type": "code",
   "execution_count": 1012,
   "metadata": {},
   "outputs": [
    {
     "name": "stdout",
     "output_type": "stream",
     "text": [
      "2024-12-07 18:23:53,711 INFO sqlalchemy.engine.Engine SELECT * from users\n",
      "2024-12-07 18:23:53,712 INFO sqlalchemy.engine.Engine [cached since 0.03157s ago] ()\n",
      "The user 1 is named Alice.\n",
      "The user 2 is named Bob.\n"
     ]
    }
   ],
   "source": [
    "result = connection.execute(text(\"SELECT * from users\"))  # reset the result\n",
    "\n",
    "for id, name in result:\n",
    "    print(f\"The user {id} is named {name}.\")"
   ]
  },
  {
   "cell_type": "markdown",
   "metadata": {},
   "source": [
    "#### Iterating through the first column of each row"
   ]
  },
  {
   "cell_type": "code",
   "execution_count": 1013,
   "metadata": {},
   "outputs": [
    {
     "name": "stdout",
     "output_type": "stream",
     "text": [
      "2024-12-07 18:23:53,717 INFO sqlalchemy.engine.Engine SELECT * from users\n",
      "2024-12-07 18:23:53,718 INFO sqlalchemy.engine.Engine [cached since 0.03796s ago] ()\n",
      "1\n",
      "2\n"
     ]
    }
   ],
   "source": [
    "result = connection.execute(text(\"SELECT * from users\"))  # reset the result\n",
    "\n",
    "# the `scalars()`` method extracts the **first** column of each row from the query result\n",
    "# when the query returns multiple columns. Cf. more explications below\n",
    "for id in result.scalars():\n",
    "    print(id)"
   ]
  },
  {
   "cell_type": "markdown",
   "metadata": {},
   "source": [
    "#### Getting all rows in a list"
   ]
  },
  {
   "cell_type": "code",
   "execution_count": 1014,
   "metadata": {},
   "outputs": [
    {
     "name": "stdout",
     "output_type": "stream",
     "text": [
      "2024-12-07 18:23:53,725 INFO sqlalchemy.engine.Engine SELECT * from users\n",
      "2024-12-07 18:23:53,727 INFO sqlalchemy.engine.Engine [cached since 0.04654s ago] ()\n"
     ]
    },
    {
     "data": {
      "text/plain": [
       "[(1, 'Alice'), (2, 'Bob')]"
      ]
     },
     "execution_count": 1014,
     "metadata": {},
     "output_type": "execute_result"
    }
   ],
   "source": [
    "result = connection.execute(text(\"SELECT * from users\"))  # reset the result\n",
    "\n",
    "result.all()"
   ]
  },
  {
   "cell_type": "markdown",
   "metadata": {},
   "source": [
    "#### Getting all first columns in a list"
   ]
  },
  {
   "cell_type": "code",
   "execution_count": 1015,
   "metadata": {},
   "outputs": [
    {
     "name": "stdout",
     "output_type": "stream",
     "text": [
      "2024-12-07 18:23:53,735 INFO sqlalchemy.engine.Engine SELECT * from users\n",
      "2024-12-07 18:23:53,737 INFO sqlalchemy.engine.Engine [cached since 0.05715s ago] ()\n"
     ]
    },
    {
     "data": {
      "text/plain": [
       "[1, 2]"
      ]
     },
     "execution_count": 1015,
     "metadata": {},
     "output_type": "execute_result"
    }
   ],
   "source": [
    "result = connection.execute(text(\"SELECT * from users\"))  # reset the result\n",
    "\n",
    "result.scalars().all()"
   ]
  },
  {
   "cell_type": "markdown",
   "metadata": {},
   "source": [
    "### More about `scalars()` method\n",
    "\n",
    "- The `scalars()` method is a streamlined way to extract individual column values from a result set.\n",
    "- It is commonly used when your query returns rows but you're only interested in the values from a single column.\n",
    "- It returns an iterable, which can be converted to lists, used in loops, or consumed lazily."
   ]
  },
  {
   "cell_type": "code",
   "execution_count": 1016,
   "metadata": {},
   "outputs": [
    {
     "name": "stdout",
     "output_type": "stream",
     "text": [
      "2024-12-07 18:23:53,787 INFO sqlalchemy.engine.Engine SELECT * from users\n",
      "2024-12-07 18:23:53,789 INFO sqlalchemy.engine.Engine [cached since 0.1088s ago] ()\n",
      "<sqlalchemy.engine.cursor.CursorResult object at 0xffff6a83e190>\n",
      "<sqlalchemy.engine.cursor.CursorResult object at 0xffff6a83e190>\n"
     ]
    }
   ],
   "source": [
    "result = connection.execute(text(\"SELECT * from users\"))\n",
    "\n",
    "for item in result:\n",
    "    print(result)  # KO: does not display my items"
   ]
  },
  {
   "cell_type": "code",
   "execution_count": 1017,
   "metadata": {},
   "outputs": [
    {
     "name": "stdout",
     "output_type": "stream",
     "text": [
      "2024-12-07 18:23:53,796 INFO sqlalchemy.engine.Engine SELECT * from users\n",
      "2024-12-07 18:23:53,797 INFO sqlalchemy.engine.Engine [cached since 0.1166s ago] ()\n",
      "1\n",
      "2\n"
     ]
    }
   ],
   "source": [
    "result = connection.execute(text(\"SELECT * from users\"))\n",
    "\n",
    "for item in result.scalars():\n",
    "    print(item)  # OK: prints items"
   ]
  },
  {
   "cell_type": "markdown",
   "metadata": {},
   "source": [
    "### Closing connections\n",
    "\n",
    "- `close()` method **releases** the DBADI connection back to the connection pool.\n",
    "    - \"releases\" means the pool may hold onto the connection, ot close it if it's part of overflow (over the limit)\n",
    "- To avoid unintended behavior or side effects, SQLAlchemy automatically issues a ROLLBACK to discard any uncommitted changes. And After close() is called, the connection is returned to the pool. SQLAlchemy ensures the connection is clean and ready for the next use by rolling back any active transaction."
   ]
  },
  {
   "cell_type": "code",
   "execution_count": 1018,
   "metadata": {},
   "outputs": [
    {
     "name": "stdout",
     "output_type": "stream",
     "text": [
      "2024-12-07 18:23:53,802 INFO sqlalchemy.engine.Engine ROLLBACK\n"
     ]
    }
   ],
   "source": [
    "connection.close()"
   ]
  },
  {
   "cell_type": "markdown",
   "metadata": {},
   "source": [
    "- Modern us should favor **context managers** to manage the connect/release process instead of calling `close()` method:"
   ]
  },
  {
   "cell_type": "code",
   "execution_count": 1019,
   "metadata": {},
   "outputs": [
    {
     "name": "stdout",
     "output_type": "stream",
     "text": [
      "2024-12-07 18:23:53,810 INFO sqlalchemy.engine.Engine BEGIN (implicit)\n",
      "2024-12-07 18:23:53,811 INFO sqlalchemy.engine.Engine select 'toto'\n",
      "2024-12-07 18:23:53,811 INFO sqlalchemy.engine.Engine [generated in 0.00120s] ()\n",
      "[('toto',)]\n",
      "2024-12-07 18:23:53,813 INFO sqlalchemy.engine.Engine ROLLBACK\n"
     ]
    }
   ],
   "source": [
    "with engine.connect() as connection:\n",
    "    result = connection.execute(text(\"select 'toto'\"))\n",
    "    print(result.all())"
   ]
  },
  {
   "cell_type": "markdown",
   "metadata": {},
   "source": [
    "- If you have lots of thing to do with a connection, create a function and pass the connection to it.\n",
    "- When you deal with SQLAlchemy objects, you want to make sure that when opening something, you release it correctly. Lots of problems can come from this.\n",
    "- As we can see in the logs, the context managers handle the whole process with a BEGIN and a ROLLBACK in the end"
   ]
  },
  {
   "cell_type": "markdown",
   "metadata": {},
   "source": [
    "## Transactions, committing\n",
    "\n",
    "- SQLAlchemy always assumes an explicit or implicit \"begin\" of a transaction, at the start of some SQL operations. This behavior ensures **consistency**, as all operations are part of a transaction and subject to rollback or commit.\n",
    "\n",
    "- Transaction Lifecycle: a transaction remains open until:\n",
    "  - You explicitly commit it (`commit()`) or roll it back (`rollback()`).\n",
    "  - SQLAlchemy closes the connection or session, at which point it issues a ROLLBACK to discard uncommitted changes.\n",
    "\n",
    "- SQLAlchemy never COMMIT implicitely. It expects the user to be explicit about this.\n",
    "- Note: I did not `commit()` in previous example but uncommitted transactions are visible within the same connection, in sqlite."
   ]
  },
  {
   "cell_type": "markdown",
   "metadata": {},
   "source": [
    "### Two styles to start a transaction\n",
    "\n",
    "#### Style 1: \"Commit as you go\"\n",
    "\n",
    "You write operations and commit when you are ready."
   ]
  },
  {
   "cell_type": "code",
   "execution_count": 1022,
   "metadata": {},
   "outputs": [],
   "source": [
    "with engine.connect() as connection:\n",
    "    #  .. create table\n",
    "    # .. insert row\n",
    "    connection.commit()"
   ]
  },
  {
   "cell_type": "markdown",
   "metadata": {},
   "source": [
    "#### Style 2: \"begin once\"\n",
    "\n",
    "Here the transaction start as an explicit block that commits when complete. Here you want to run a single transaction."
   ]
  },
  {
   "cell_type": "code",
   "execution_count": 1021,
   "metadata": {},
   "outputs": [
    {
     "name": "stdout",
     "output_type": "stream",
     "text": [
      "2024-12-07 18:23:53,824 INFO sqlalchemy.engine.Engine BEGIN (implicit)\n",
      "2024-12-07 18:23:53,825 INFO sqlalchemy.engine.Engine COMMIT\n"
     ]
    }
   ],
   "source": [
    "with engine.begin() as connection:\n",
    "    # .. create table\n",
    "    # .. insert row\n",
    "    ...\n",
    "\n",
    "# end of block: commits transaction, releases connection back to the connection pool.\n",
    "# rolls back if there is an exception"
   ]
  }
 ],
 "metadata": {
  "kernelspec": {
   "display_name": "Python 3",
   "language": "python",
   "name": "python3"
  },
  "language_info": {
   "codemirror_mode": {
    "name": "ipython",
    "version": 3
   },
   "file_extension": ".py",
   "mimetype": "text/x-python",
   "name": "python",
   "nbconvert_exporter": "python",
   "pygments_lexer": "ipython3",
   "version": "3.12.8"
  }
 },
 "nbformat": 4,
 "nbformat_minor": 2
}
