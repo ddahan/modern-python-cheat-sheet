{
 "cells": [
  {
   "cell_type": "markdown",
   "metadata": {},
   "source": [
    "# Selects"
   ]
  },
  {
   "cell_type": "code",
   "execution_count": 295,
   "metadata": {},
   "outputs": [
    {
     "name": "stdout",
     "output_type": "stream",
     "text": [
      "2024-12-09 11:15:44,511 INFO sqlalchemy.engine.Engine BEGIN (implicit)\n",
      "2024-12-09 11:15:44,512 INFO sqlalchemy.engine.Engine PRAGMA main.table_info(\"user_account\")\n",
      "2024-12-09 11:15:44,512 INFO sqlalchemy.engine.Engine [raw sql] ()\n",
      "2024-12-09 11:15:44,513 INFO sqlalchemy.engine.Engine PRAGMA temp.table_info(\"user_account\")\n",
      "2024-12-09 11:15:44,513 INFO sqlalchemy.engine.Engine [raw sql] ()\n",
      "2024-12-09 11:15:44,513 INFO sqlalchemy.engine.Engine PRAGMA main.table_info(\"address\")\n",
      "2024-12-09 11:15:44,514 INFO sqlalchemy.engine.Engine [raw sql] ()\n",
      "2024-12-09 11:15:44,514 INFO sqlalchemy.engine.Engine PRAGMA temp.table_info(\"address\")\n",
      "2024-12-09 11:15:44,515 INFO sqlalchemy.engine.Engine [raw sql] ()\n",
      "2024-12-09 11:15:44,515 INFO sqlalchemy.engine.Engine \n",
      "CREATE TABLE user_account (\n",
      "\tid INTEGER NOT NULL, \n",
      "\tname VARCHAR NOT NULL, \n",
      "\tfull_name VARCHAR, \n",
      "\tcreated_at DATETIME DEFAULT (CURRENT_TIMESTAMP) NOT NULL, \n",
      "\tPRIMARY KEY (id)\n",
      ")\n",
      "\n",
      "\n",
      "2024-12-09 11:15:44,515 INFO sqlalchemy.engine.Engine [no key 0.00029s] ()\n",
      "2024-12-09 11:15:44,516 INFO sqlalchemy.engine.Engine \n",
      "CREATE TABLE address (\n",
      "\tid INTEGER NOT NULL, \n",
      "\temail_address VARCHAR NOT NULL, \n",
      "\tuser_id INTEGER NOT NULL, \n",
      "\tPRIMARY KEY (id), \n",
      "\tFOREIGN KEY(user_id) REFERENCES user_account (id)\n",
      ")\n",
      "\n",
      "\n",
      "2024-12-09 11:15:44,516 INFO sqlalchemy.engine.Engine [no key 0.00038s] ()\n",
      "2024-12-09 11:15:44,517 INFO sqlalchemy.engine.Engine INSERT INTO user_account (name, full_name) VALUES (?, ?)\n",
      "2024-12-09 11:15:44,517 INFO sqlalchemy.engine.Engine [generated in 0.00024s] [('Sandy', 'Sandy Kilo'), ('Gary', 'Gary Gareau')]\n",
      "2024-12-09 11:15:44,518 INFO sqlalchemy.engine.Engine INSERT INTO address (email_address, user_id) VALUES (?, ?)\n",
      "2024-12-09 11:15:44,518 INFO sqlalchemy.engine.Engine [generated in 0.00037s] [('sandy@example.com', 1), ('gary@example.com', 2), ('gary@other.com', 2)]\n",
      "2024-12-09 11:15:44,519 INFO sqlalchemy.engine.Engine COMMIT\n"
     ]
    }
   ],
   "source": [
    "from datetime import datetime\n",
    "from sqlalchemy import ForeignKey, create_engine, func, insert\n",
    "from sqlalchemy.orm import Mapped, mapped_column, DeclarativeBase, MappedAsDataclass\n",
    "\n",
    "\n",
    "class Base(MappedAsDataclass, DeclarativeBase):\n",
    "    pass\n",
    "\n",
    "\n",
    "class User(Base):  # class can be called whatever we want, no impact on the table name\n",
    "    __tablename__ = \"user_account\"\n",
    "\n",
    "    id: Mapped[int] = mapped_column(primary_key=True, init=False)\n",
    "    name: Mapped[str]\n",
    "    full_name: Mapped[str | None]\n",
    "    created_at: Mapped[datetime] = mapped_column(init=False, server_default=func.now())\n",
    "\n",
    "\n",
    "class Address(Base):\n",
    "    __tablename__ = \"address\"\n",
    "\n",
    "    id: Mapped[int] = mapped_column(primary_key=True)\n",
    "    email_address: Mapped[str]\n",
    "    user_id: Mapped[int] = mapped_column(ForeignKey(\"user_account.id\"))\n",
    "\n",
    "\n",
    "engine = create_engine(\"sqlite://\", echo=True)\n",
    "with engine.begin() as conn:\n",
    "    Base.metadata.create_all(conn)\n",
    "    conn.execute(\n",
    "        insert(User),\n",
    "        [\n",
    "            {\"name\": \"Sandy\", \"full_name\": \"Sandy Kilo\"},\n",
    "            {\"name\": \"Gary\", \"full_name\": \"Gary Gareau\"},\n",
    "        ],\n",
    "    )\n",
    "    conn.execute(\n",
    "        insert(Address),\n",
    "        [\n",
    "            {\"email_address\": \"sandy@example.com\", \"user_id\": 1},  # User ID 1 is Sandy\n",
    "            {\"email_address\": \"gary@example.com\", \"user_id\": 2},  # User ID 2 is Gary\n",
    "            {\"email_address\": \"gary@other.com\", \"user_id\": 2},\n",
    "        ],\n",
    "    )"
   ]
  },
  {
   "cell_type": "markdown",
   "metadata": {},
   "source": [
    "### `SELECT statements`"
   ]
  },
  {
   "cell_type": "code",
   "execution_count": 296,
   "metadata": {},
   "outputs": [
    {
     "name": "stdout",
     "output_type": "stream",
     "text": [
      "2024-12-09 11:15:44,528 INFO sqlalchemy.engine.Engine BEGIN (implicit)\n",
      "2024-12-09 11:15:44,530 INFO sqlalchemy.engine.Engine SELECT name FROM user_account\n",
      "2024-12-09 11:15:44,530 INFO sqlalchemy.engine.Engine [generated in 0.00026s] ()\n",
      "Sandy\n",
      "Gary\n",
      "2024-12-09 11:15:44,530 INFO sqlalchemy.engine.Engine COMMIT\n"
     ]
    }
   ],
   "source": [
    "from sqlalchemy import text\n",
    "\n",
    "stmt = text(\"SELECT name FROM user_account\")\n",
    "with engine.begin() as conn:\n",
    "    for row in conn.execute(stmt):\n",
    "        print(row.name)"
   ]
  },
  {
   "cell_type": "markdown",
   "metadata": {},
   "source": [
    "- Instead of using SQLAlchemy's Core expression language, let use a construct called `select()`\n",
    "- As we are using ORM-Centric table metadata, the class-bound attributes on ORM models represent SQL Columns, such as `User.name` below"
   ]
  },
  {
   "cell_type": "code",
   "execution_count": 297,
   "metadata": {},
   "outputs": [
    {
     "name": "stdout",
     "output_type": "stream",
     "text": [
      "<class '__main__.User'>\n",
      "<class 'sqlalchemy.orm.attributes.InstrumentedAttribute'>\n",
      "2024-12-09 11:15:44,537 INFO sqlalchemy.engine.Engine BEGIN (implicit)\n",
      "SELECT user_account.name \n",
      "FROM user_account\n",
      "2024-12-09 11:15:44,539 INFO sqlalchemy.engine.Engine SELECT user_account.name \n",
      "FROM user_account\n",
      "2024-12-09 11:15:44,539 INFO sqlalchemy.engine.Engine [generated in 0.00037s] ()\n",
      "Sandy\n",
      "Gary\n",
      "2024-12-09 11:15:44,539 INFO sqlalchemy.engine.Engine COMMIT\n"
     ]
    }
   ],
   "source": [
    "from sqlalchemy import select\n",
    "\n",
    "print(User)  # User is class, not an instance\n",
    "print(type(User.name))\n",
    "\n",
    "with engine.begin() as conn:\n",
    "    stmt = select(User.name)  # select the 'name' column from the 'user_account' table\n",
    "    print(stmt)\n",
    "    for row in conn.execute(stmt):\n",
    "        print(row.name)"
   ]
  },
  {
   "cell_type": "markdown",
   "metadata": {},
   "source": [
    "- `User.name` is a Python **descriptor** object (object that have custom `__get__`, `__set__`, `__delete__`). This descriptor object is responsible for managing access, assignment, and deletion of the corresponding attribute for instances of the User class (properties in Python are descriptors).\n",
    "\n",
    "- The arguments we send to `select()` are a series of columns, tables (or a corresponding mapped class), or other so-called \"selectables\" like aliases or subqueries, and SQL expressions.\n",
    "\n",
    "- Examples of `select()`: "
   ]
  },
  {
   "cell_type": "code",
   "execution_count": 298,
   "metadata": {},
   "outputs": [
    {
     "name": "stdout",
     "output_type": "stream",
     "text": [
      "SELECT user_account.id, user_account.name, user_account.full_name, user_account.created_at \n",
      "FROM user_account\n"
     ]
    }
   ],
   "source": [
    "# SELECT from a whole table\n",
    "print(select(User))"
   ]
  },
  {
   "cell_type": "code",
   "execution_count": 299,
   "metadata": {},
   "outputs": [
    {
     "name": "stdout",
     "output_type": "stream",
     "text": [
      "SELECT user_account.id, user_account.name, user_account.created_at \n",
      "FROM user_account\n"
     ]
    }
   ],
   "source": [
    "# SELECT from a series of columns\n",
    "print(select(User.id, User.name, User.created_at))"
   ]
  },
  {
   "cell_type": "code",
   "execution_count": 300,
   "metadata": {},
   "outputs": [
    {
     "name": "stdout",
     "output_type": "stream",
     "text": [
      "SELECT user_account.name, user_account.full_name, address.email_address \n",
      "FROM user_account, address\n",
      "2024-12-09 11:15:44,559 INFO sqlalchemy.engine.Engine BEGIN (implicit)\n",
      "2024-12-09 11:15:44,560 INFO sqlalchemy.engine.Engine SELECT user_account.name, user_account.full_name, address.email_address \n",
      "FROM user_account, address\n",
      "2024-12-09 11:15:44,561 INFO sqlalchemy.engine.Engine [generated in 0.00164s] ()\n",
      "Sandy           Sandy Kilo                sandy@example.com\n",
      "Sandy           Sandy Kilo                gary@example.com\n",
      "Sandy           Sandy Kilo                gary@other.com\n",
      "Gary            Gary Gareau               sandy@example.com\n",
      "Gary            Gary Gareau               gary@example.com\n",
      "Gary            Gary Gareau               gary@other.com\n",
      "2024-12-09 11:15:44,561 INFO sqlalchemy.engine.Engine ROLLBACK\n"
     ]
    },
    {
     "name": "stderr",
     "output_type": "stream",
     "text": [
      "/tmp/ipykernel_86982/3574977805.py:6: SAWarning: SELECT statement has a cartesian product between FROM element(s) \"address\" and FROM element \"user_account\".  Apply join condition(s) between each element to resolve.\n",
      "  for row in conn.execute(stmt):\n"
     ]
    }
   ],
   "source": [
    "# SELECT from a series of tables/columns from more than on table\n",
    "# Note: no JOIN clause => it will build a Cartesian Product (if 3 rows in User and 4 in Adress, it will provide 3*4=12 results). This is typically undesirable because it produces many more rows than intended.\n",
    "stmt = select(User.name, User.full_name, Address.email_address)\n",
    "print(stmt)\n",
    "with engine.connect() as conn:\n",
    "    for row in conn.execute(stmt):\n",
    "        print(f\"{row.name:15} {row.full_name:25} {row.email_address}\")"
   ]
  },
  {
   "cell_type": "markdown",
   "metadata": {},
   "source": [
    "When selecting from multiple tables, we usualy want to `JOIN` them together. A straightforward way to do this is to use the `select().join_from()` method."
   ]
  },
  {
   "cell_type": "code",
   "execution_count": 301,
   "metadata": {},
   "outputs": [
    {
     "name": "stdout",
     "output_type": "stream",
     "text": [
      "SELECT user_account.name, user_account.full_name, address.email_address \n",
      "FROM user_account JOIN address ON user_account.id = address.user_id\n"
     ]
    }
   ],
   "source": [
    "stmt = select(User.name, User.full_name, Address.email_address).join_from(User, Address)\n",
    "print(stmt)"
   ]
  },
  {
   "cell_type": "markdown",
   "metadata": {},
   "source": [
    "- Note that the `join_from()` will normally generate the `ON` criteria based on the presence of `ForeignKey` construct in table metadata.\n",
    "- The `Adress.user_id` which links to `ForeignKey(\"user_account.id\")` gives `join_from()` what it needs to know."
   ]
  },
  {
   "cell_type": "code",
   "execution_count": 302,
   "metadata": {},
   "outputs": [
    {
     "name": "stdout",
     "output_type": "stream",
     "text": [
      "2024-12-09 11:15:44,574 INFO sqlalchemy.engine.Engine BEGIN (implicit)\n",
      "2024-12-09 11:15:44,575 INFO sqlalchemy.engine.Engine SELECT user_account.name, user_account.full_name, address.email_address \n",
      "FROM user_account JOIN address ON user_account.id = address.user_id\n",
      "2024-12-09 11:15:44,576 INFO sqlalchemy.engine.Engine [generated in 0.00167s] ()\n",
      "Sandy           Sandy Kilo                sandy@example.com\n",
      "Gary            Gary Gareau               gary@example.com\n",
      "Gary            Gary Gareau               gary@other.com\n",
      "2024-12-09 11:15:44,577 INFO sqlalchemy.engine.Engine ROLLBACK\n"
     ]
    }
   ],
   "source": [
    "with engine.connect() as conn:\n",
    "    for row in conn.execute(stmt):\n",
    "        print(f\"{row.name:15} {row.full_name:25} {row.email_address}\")"
   ]
  },
  {
   "cell_type": "markdown",
   "metadata": {},
   "source": [
    "- Finally, there's a whole word of more complex `SELECT` statements using aliases, subqueries, etc.\n",
    "- Such as, \"select user names that have more than one email address\"."
   ]
  },
  {
   "cell_type": "code",
   "execution_count": 303,
   "metadata": {},
   "outputs": [
    {
     "name": "stdout",
     "output_type": "stream",
     "text": [
      "2024-12-09 11:15:44,587 INFO sqlalchemy.engine.Engine BEGIN (implicit)\n",
      "2024-12-09 11:15:44,589 INFO sqlalchemy.engine.Engine SELECT user_account.name, anon_1.email_count \n",
      "FROM user_account JOIN (SELECT address.user_id AS user_id, count(address.email_address) AS email_count \n",
      "FROM address GROUP BY address.user_id \n",
      "HAVING count(address.email_address) > ?) AS anon_1 ON user_account.id = anon_1.user_id\n",
      "2024-12-09 11:15:44,589 INFO sqlalchemy.engine.Engine [generated in 0.00215s] (1,)\n",
      "Gary has 2 email addresses.\n",
      "2024-12-09 11:15:44,590 INFO sqlalchemy.engine.Engine ROLLBACK\n"
     ]
    }
   ],
   "source": [
    "# This subquery calculates the number of email addresses associated with each user (user_id)\n",
    "# and filters for users who have more than one email address.\n",
    "email_address_count = (\n",
    "    select(Address.user_id, func.count(Address.email_address).label(\"email_count\"))\n",
    "    # Groups the results by user_id so that the COUNT function operates within each user group.\n",
    "    .group_by(Address.user_id)\n",
    "    # Filters the results to include only users with more than one email address.\n",
    "    .having(func.count(Address.email_address) > 1)\n",
    "    # Converts this query into a subquery that can be used in other queries.\n",
    "    .subquery()\n",
    ")\n",
    "\n",
    "# Result of this subquery is a table with 2 columns: 'user_id' and 'email_count'\n",
    "\n",
    "stmt = select(User.name, email_address_count.c.email_count).join_from(\n",
    "    User, email_address_count\n",
    ")\n",
    "\n",
    "with engine.connect() as conn:\n",
    "    for row in conn.execute(stmt):\n",
    "        print(f\"{row.name} has {row.email_count} email addresses.\")"
   ]
  },
  {
   "cell_type": "markdown",
   "metadata": {},
   "source": [
    "### WHERE clause\n",
    "\n"
   ]
  },
  {
   "cell_type": "code",
   "execution_count": 304,
   "metadata": {},
   "outputs": [
    {
     "name": "stdout",
     "output_type": "stream",
     "text": [
      "user_account.name = :name_1\n"
     ]
    },
    {
     "data": {
      "text/plain": [
       "<sqlalchemy.sql.elements.BinaryExpression object at 0xffff7f833050>"
      ]
     },
     "execution_count": 304,
     "metadata": {},
     "output_type": "execute_result"
    }
   ],
   "source": [
    "print(User.name == \"Dave\")\n",
    "User.name == \"Dave\""
   ]
  },
  {
   "cell_type": "markdown",
   "metadata": {},
   "source": [
    "- Above, the Python `__eq__()` operator was overriden to produce an expression object\n",
    "- Instead of returning a `bool`, it returns a `BinaryExpression` object\n",
    "- The generated expression use bound parameters: SQLAlchemy doesn't immediately insert  `Dave` into the SQL string. Instead, it generates a placeholder (e.g., `:name_1`) and binds the actual value (`Dave`) separately, during `Connection.execute()`.\n",
    "- for demonstration, they can be seen using a utility methd called `.compile()`:"
   ]
  },
  {
   "cell_type": "code",
   "execution_count": 305,
   "metadata": {},
   "outputs": [
    {
     "name": "stdout",
     "output_type": "stream",
     "text": [
      "user_account.name = 'Dave'\n"
     ]
    }
   ],
   "source": [
    "print((User.name == \"Dave\").compile(compile_kwargs={\"literal_binds\": True}))"
   ]
  },
  {
   "cell_type": "markdown",
   "metadata": {},
   "source": [
    "### Limiting rows with WHERE criteria\n",
    "\n",
    "**less than, greater than**"
   ]
  },
  {
   "cell_type": "code",
   "execution_count": 306,
   "metadata": {},
   "outputs": [],
   "source": [
    "from typing import Any\n",
    "\n",
    "\n",
    "def print_compiled(something: Any) -> None:\n",
    "    \"\"\"Helper to see the full expression when priting it\"\"\"\n",
    "    print(something.compile(compile_kwargs={\"literal_binds\": True}))"
   ]
  },
  {
   "cell_type": "code",
   "execution_count": 307,
   "metadata": {},
   "outputs": [
    {
     "name": "stdout",
     "output_type": "stream",
     "text": [
      "user_account.id <= 1\n"
     ]
    }
   ],
   "source": [
    "print_compiled((User.id <= 1))"
   ]
  },
  {
   "cell_type": "markdown",
   "metadata": {},
   "source": [
    "**fancy string operators**"
   ]
  },
  {
   "cell_type": "code",
   "execution_count": 308,
   "metadata": {},
   "outputs": [
    {
     "name": "stdout",
     "output_type": "stream",
     "text": [
      "lower(user_account.name) LIKE '%' || lower('av') || '%'\n"
     ]
    }
   ],
   "source": [
    "print_compiled(User.name.icontains(\"av\"))"
   ]
  },
  {
   "cell_type": "markdown",
   "metadata": {},
   "source": [
    "**`IN` expressions**"
   ]
  },
  {
   "cell_type": "code",
   "execution_count": 309,
   "metadata": {},
   "outputs": [
    {
     "name": "stdout",
     "output_type": "stream",
     "text": [
      "user_account.name IN ('Rob', 'Tim, Walt')\n"
     ]
    }
   ],
   "source": [
    "print_compiled(User.name.in_([\"Rob\", \"Tim, Walt\"]))  # 'in' is a reserved word"
   ]
  },
  {
   "cell_type": "markdown",
   "metadata": {},
   "source": [
    "- We can add these expressions as `WHERE` criteria using the `.where()` method:"
   ]
  },
  {
   "cell_type": "code",
   "execution_count": 310,
   "metadata": {},
   "outputs": [
    {
     "name": "stdout",
     "output_type": "stream",
     "text": [
      "SELECT user_account.name \n",
      "FROM user_account \n",
      "WHERE user_account.name IN ('Sandy', 'Dave', 'Rob')\n"
     ]
    }
   ],
   "source": [
    "stmt = select(User.name).where(User.name.in_([\"Sandy\", \"Dave\", \"Rob\"]))\n",
    "print_compiled(stmt)"
   ]
  },
  {
   "cell_type": "markdown",
   "metadata": {},
   "source": [
    "- `where()` can be called multiple times in chaining; criteria is joined by `AND`:"
   ]
  },
  {
   "cell_type": "code",
   "execution_count": 311,
   "metadata": {},
   "outputs": [
    {
     "name": "stdout",
     "output_type": "stream",
     "text": [
      "SELECT user_account.name \n",
      "FROM user_account \n",
      "WHERE user_account.name IN ('Sandy', 'Dave', 'Rob') AND user_account.id > 1\n"
     ]
    }
   ],
   "source": [
    "stmt = stmt.where(User.id > 1)\n",
    "print_compiled(stmt)"
   ]
  },
  {
   "cell_type": "markdown",
   "metadata": {},
   "source": [
    "- expressions also go into other methods like `ORDER BY` via the `.order_by()` method, still with chaining."
   ]
  },
  {
   "cell_type": "code",
   "execution_count": 312,
   "metadata": {},
   "outputs": [
    {
     "name": "stdout",
     "output_type": "stream",
     "text": [
      "SELECT user_account.name \n",
      "FROM user_account \n",
      "WHERE user_account.name IN ('Sandy', 'Dave', 'Rob') AND user_account.id > 1 ORDER BY user_account.id\n"
     ]
    }
   ],
   "source": [
    "stmt = stmt.order_by(User.id)\n",
    "print_compiled(stmt)"
   ]
  },
  {
   "cell_type": "markdown",
   "metadata": {},
   "source": [
    "- expressions can also be selected; below we add a column expression:"
   ]
  },
  {
   "cell_type": "code",
   "execution_count": 317,
   "metadata": {},
   "outputs": [
    {
     "name": "stdout",
     "output_type": "stream",
     "text": [
      "2024-12-09 11:16:59,009 INFO sqlalchemy.engine.Engine BEGIN (implicit)\n",
      "2024-12-09 11:16:59,010 INFO sqlalchemy.engine.Engine SELECT user_account.name, ? || user_account.full_name AS anon_1 \n",
      "FROM user_account\n",
      "2024-12-09 11:16:59,011 INFO sqlalchemy.engine.Engine [cached since 40.28s ago] ('full name: ',)\n",
      "Sandy          , full name: Sandy Kilo\n",
      "Gary           , full name: Gary Gareau\n",
      "2024-12-09 11:16:59,011 INFO sqlalchemy.engine.Engine ROLLBACK\n"
     ]
    }
   ],
   "source": [
    "from sqlalchemy import literal\n",
    "\n",
    "# Combines a literal value (a constant string) with a column value from the database using SQLAlchemy,\n",
    "# creating a new column in the query result\n",
    "stmt = select(User.name).add_columns(literal(\"full name: \") + User.full_name)\n",
    "\n",
    "with engine.connect() as conn:\n",
    "    for name, generated_full_name in conn.execute(stmt):\n",
    "        print(f\"{name:15}, {generated_full_name}\")"
   ]
  },
  {
   "cell_type": "markdown",
   "metadata": {},
   "source": [
    "### Sum up\n",
    "\n",
    "- The SQL expression language intends to allow **any SQL structure** to be modeled as a Python expression\n",
    "- SQLAlchemy goes vey far with this concept; topics not covered here include `UPDATE`, `DELETE`, `UNIONs`, `CTEs`, window functions, set-retuning functions, JSON functions, SQL datatypes\n",
    "- When writing SQLAlchemy SQL expressions, the hope is that one can be thinking in terms of sQL statements, not \"translation\".\n",
    "- Using Python objects for SQL expressions allow fluid composability, database agnosticism to a greater or lesser degree."
   ]
  }
 ],
 "metadata": {
  "kernelspec": {
   "display_name": "Python 3",
   "language": "python",
   "name": "python3"
  },
  "language_info": {
   "codemirror_mode": {
    "name": "ipython",
    "version": 3
   },
   "file_extension": ".py",
   "mimetype": "text/x-python",
   "name": "python",
   "nbconvert_exporter": "python",
   "pygments_lexer": "ipython3",
   "version": "3.12.8"
  }
 },
 "nbformat": 4,
 "nbformat_minor": 2
}
