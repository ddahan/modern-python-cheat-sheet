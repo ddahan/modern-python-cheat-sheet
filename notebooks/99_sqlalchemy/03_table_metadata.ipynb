{
 "cells": [
  {
   "cell_type": "markdown",
   "metadata": {},
   "source": [
    "# Table Metadata\n",
    "\n",
    "- SQLAlchemy represents the structure of a relational schema using the concept of **table metadata**.\n",
    "- SQLAlchemy Core provides this, using a well-known object called `Table` (along with lots of supporting objects). Here is an example:"
   ]
  },
  {
   "cell_type": "code",
   "execution_count": 68,
   "metadata": {},
   "outputs": [
    {
     "data": {
      "text/plain": [
       "sqlalchemy.sql.schema.Table"
      ]
     },
     "execution_count": 68,
     "metadata": {},
     "output_type": "execute_result"
    }
   ],
   "source": [
    "from sqlalchemy import DateTime, Integer, String, Table, Column, MetaData\n",
    "\n",
    "metadata = MetaData()\n",
    "\n",
    "user_account_table = Table(\n",
    "    \"user_account\",\n",
    "    metadata,\n",
    "    Column(\"id\", Integer, primary_key=True),\n",
    "    Column(\"name\", String),\n",
    "    Column(\"created_at\", DateTime),\n",
    ")\n",
    "\n",
    "type(user_account_table)"
   ]
  },
  {
   "cell_type": "markdown",
   "metadata": {},
   "source": [
    "## ORM-Centric Table Metadata\n",
    "\n",
    "- In real world use, most applications are using the ORM to a greater or lesser degree\n",
    "- Table are constructed **indirectly** using a style known as **Declarative ORM**\n",
    "- ORM-Centric table metadata integrates very well with typing tools\n",
    "- Integrates with Python dataclasses too"
   ]
  },
  {
   "cell_type": "markdown",
   "metadata": {},
   "source": [
    "## ORM-Centric Table Metadata - Declaration"
   ]
  },
  {
   "cell_type": "markdown",
   "metadata": {},
   "source": [
    "- `DeclarativeBase` is a foundational class in SQLAlchemy 2.0+ that simplifies ORM model definition by providing a declarative style for mapping Python classes to database tables, automatically handling table metadata, and integrating with SQLAlchemy's ORM features.\n",
    "\n",
    "- `MappedAsDataclass` is a **mixin** that turns SQLAlchemy ORM models into Python dataclasses. It allows you to work with ORM objects more like plain Python dataclasses while retaining SQLAlchemy's ORM capabilities.\n",
    "\n",
    "We could use both together this way:"
   ]
  },
  {
   "cell_type": "code",
   "execution_count": 69,
   "metadata": {},
   "outputs": [],
   "source": [
    "from sqlalchemy.orm import DeclarativeBase, MappedAsDataclass\n",
    "\n",
    "\n",
    "class Base(MappedAsDataclass, DeclarativeBase):\n",
    "    pass"
   ]
  },
  {
   "cell_type": "markdown",
   "metadata": {},
   "source": [
    "- When we make subclasses of `Base`, it generates an **ORM mapped class** that will refer to a database table.\n",
    "- The `MappedAsDataclass` is optional (here more as an example) and indicated that the classes should also be Python dataclasses."
   ]
  },
  {
   "cell_type": "code",
   "execution_count": 70,
   "metadata": {},
   "outputs": [],
   "source": [
    "from datetime import datetime\n",
    "from sqlalchemy.orm import Mapped, mapped_column\n",
    "\n",
    "\n",
    "class User(Base):  # class can be called whatever we want, no impact on the table name\n",
    "    __tablename__ = \"user_account\"\n",
    "\n",
    "    id: Mapped[int] = mapped_column(\n",
    "        primary_key=True, init=False\n",
    "    )  # id field will not be included as a parameter in the __init__ method of the dataclass\n",
    "    name: Mapped[str]\n",
    "    full_name: Mapped[str | None]  # this will be nullable at database level\n",
    "    created_at: Mapped[datetime] = mapped_column(default_factory=datetime.now)"
   ]
  },
  {
   "cell_type": "markdown",
   "metadata": {},
   "source": [
    "- The `Mapped[]` type indicated to SQLAlchemy that an attribute is matted to a database column. Even if the syntax seems ugly at first, it makes sense because it as a different meaning than the type itself. The class could contain an `int` too which would not nbe mapped to a column at all!\n",
    "- The `mapped_column()` construct is optional and allow addition details about the database column to be indicated.\n",
    "- If type of column (e.g. `sqlalchemy.String`) is ommited, type inference is used with type hint to determines the appropriate SQL column type.\n",
    "- `mapped_column()` not only defines database column mappings but also integrates with Python's dataclass features, allowing you to use arguments that are typically associated with dataclasses.field(), like `default`, `default_factory`, `init`."
   ]
  },
  {
   "cell_type": "markdown",
   "metadata": {},
   "source": [
    "## ORM-Centric Table Metadata - The `Mapped` Class"
   ]
  },
  {
   "cell_type": "markdown",
   "metadata": {},
   "source": [
    "- The `User` class is called a **Declarative Mapped Class**.\n",
    "- Sice it's also a dataclass, it has methods like default `__init__()` and `__repr__()` based on the directives passed to `mapped_column()`"
   ]
  },
  {
   "cell_type": "code",
   "execution_count": 71,
   "metadata": {},
   "outputs": [
    {
     "data": {
      "text/plain": [
       "User(id=None, name='Walt', full_name='Walther White', created_at=datetime.datetime(2024, 12, 8, 18, 34, 19, 123213))"
      ]
     },
     "execution_count": 71,
     "metadata": {},
     "output_type": "execute_result"
    }
   ],
   "source": [
    "User(\"Walt\", \"Walther White\")"
   ]
  },
  {
   "cell_type": "markdown",
   "metadata": {},
   "source": [
    "## ORM-Centric Table Metadata - The Table\n",
    "\n",
    "- The Declarative Mapped Class set the `Table` object for us, when the class is created. Here is what it looks like:"
   ]
  },
  {
   "cell_type": "code",
   "execution_count": 72,
   "metadata": {},
   "outputs": [
    {
     "data": {
      "text/plain": [
       "Table('user_account', MetaData(), Column('id', Integer(), table=<user_account>, primary_key=True, nullable=False), Column('name', String(), table=<user_account>, nullable=False), Column('full_name', String(), table=<user_account>), Column('created_at', DateTime(), table=<user_account>, nullable=False), schema=None)"
      ]
     },
     "execution_count": 72,
     "metadata": {},
     "output_type": "execute_result"
    }
   ],
   "source": [
    "User.__table__"
   ]
  },
  {
   "cell_type": "markdown",
   "metadata": {},
   "source": [
    "## ORM-Centric Table Metadata - Emitting DDL\n",
    "\n",
    "_Note: DDL (Data Definition Language) refers to SQL commands and operations that define or modify the structure of a database. These include commands for creating, altering, and dropping database objects such as tables, indexes, schemas, and constraints._\n",
    "\n",
    "- Whether we made our table directly or by using ORM Declarative, we can run a `CREATE TABLE` statement using a method `.create_all()`"
   ]
  },
  {
   "cell_type": "code",
   "execution_count": 73,
   "metadata": {},
   "outputs": [
    {
     "name": "stdout",
     "output_type": "stream",
     "text": [
      "{'tables': FacadeDict({'user_account': Table('user_account', MetaData(), Column('id', Integer(), table=<user_account>, primary_key=True, nullable=False), Column('name', String(), table=<user_account>, nullable=False), Column('full_name', String(), table=<user_account>), Column('created_at', DateTime(), table=<user_account>, nullable=False), schema=None)}), 'schema': None, 'naming_convention': immutabledict({'ix': 'ix_%(column_0_label)s'}), '_schemas': set(), '_sequences': {}, '_fk_memos': defaultdict(<class 'list'>, {})}\n",
      "2024-12-08 18:34:19,133 INFO sqlalchemy.engine.Engine BEGIN (implicit)\n",
      "2024-12-08 18:34:19,134 INFO sqlalchemy.engine.Engine PRAGMA main.table_info(\"user_account\")\n",
      "2024-12-08 18:34:19,134 INFO sqlalchemy.engine.Engine [raw sql] ()\n",
      "2024-12-08 18:34:19,134 INFO sqlalchemy.engine.Engine PRAGMA temp.table_info(\"user_account\")\n",
      "2024-12-08 18:34:19,135 INFO sqlalchemy.engine.Engine [raw sql] ()\n",
      "2024-12-08 18:34:19,135 INFO sqlalchemy.engine.Engine \n",
      "CREATE TABLE user_account (\n",
      "\tid INTEGER NOT NULL, \n",
      "\tname VARCHAR NOT NULL, \n",
      "\tfull_name VARCHAR, \n",
      "\tcreated_at DATETIME NOT NULL, \n",
      "\tPRIMARY KEY (id)\n",
      ")\n",
      "\n",
      "\n",
      "2024-12-08 18:34:19,136 INFO sqlalchemy.engine.Engine [no key 0.00033s] ()\n",
      "2024-12-08 18:34:19,136 INFO sqlalchemy.engine.Engine COMMIT\n"
     ]
    }
   ],
   "source": [
    "from sqlalchemy import create_engine\n",
    "\n",
    "print(Base.metadata.__dict__)\n",
    "\n",
    "engine = create_engine(\"sqlite://\", echo=True)\n",
    "with engine.begin() as conn:\n",
    "    Base.metadata.create_all(conn)  # Create all tables stored in this metadata."
   ]
  },
  {
   "cell_type": "markdown",
   "metadata": {},
   "source": [
    "## ORM-Centric Table Metadata - Foreign Keys\n"
   ]
  },
  {
   "cell_type": "code",
   "execution_count": null,
   "metadata": {},
   "outputs": [
    {
     "name": "stdout",
     "output_type": "stream",
     "text": [
      "2024-12-08 18:34:19,143 INFO sqlalchemy.engine.Engine BEGIN (implicit)\n",
      "2024-12-08 18:34:19,144 INFO sqlalchemy.engine.Engine PRAGMA main.table_info(\"user_account\")\n",
      "2024-12-08 18:34:19,145 INFO sqlalchemy.engine.Engine [raw sql] ()\n",
      "2024-12-08 18:34:19,145 INFO sqlalchemy.engine.Engine PRAGMA main.table_info(\"address\")\n",
      "2024-12-08 18:34:19,146 INFO sqlalchemy.engine.Engine [raw sql] ()\n",
      "2024-12-08 18:34:19,147 INFO sqlalchemy.engine.Engine PRAGMA temp.table_info(\"address\")\n",
      "2024-12-08 18:34:19,147 INFO sqlalchemy.engine.Engine [raw sql] ()\n",
      "2024-12-08 18:34:19,148 INFO sqlalchemy.engine.Engine \n",
      "CREATE TABLE address (\n",
      "\tid INTEGER NOT NULL, \n",
      "\temail_address VARCHAR NOT NULL, \n",
      "\tuser_id INTEGER NOT NULL, \n",
      "\tPRIMARY KEY (id), \n",
      "\tFOREIGN KEY(user_id) REFERENCES user_account (id)\n",
      ")\n",
      "\n",
      "\n",
      "2024-12-08 18:34:19,148 INFO sqlalchemy.engine.Engine [no key 0.00040s] ()\n",
      "2024-12-08 18:34:19,149 INFO sqlalchemy.engine.Engine COMMIT\n"
     ]
    }
   ],
   "source": [
    "from sqlalchemy import ForeignKey\n",
    "\n",
    "\n",
    "class Address(Base):\n",
    "    __tablename__ = \"address\"\n",
    "\n",
    "    id: Mapped[int] = mapped_column(primary_key=True)\n",
    "    email_address: Mapped[str]\n",
    "    user_id: Mapped[int] = mapped_column(ForeignKey(\"user_account.id\"))\n",
    "\n",
    "\n",
    "with engine.begin() as conn:\n",
    "    Base.metadata.create_all(conn)"
   ]
  }
 ],
 "metadata": {
  "kernelspec": {
   "display_name": "Python 3",
   "language": "python",
   "name": "python3"
  },
  "language_info": {
   "codemirror_mode": {
    "name": "ipython",
    "version": 3
   },
   "file_extension": ".py",
   "mimetype": "text/x-python",
   "name": "python",
   "nbconvert_exporter": "python",
   "pygments_lexer": "ipython3",
   "version": "3.12.8"
  }
 },
 "nbformat": 4,
 "nbformat_minor": 2
}
