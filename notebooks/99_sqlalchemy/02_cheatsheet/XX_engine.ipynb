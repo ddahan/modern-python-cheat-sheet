{
 "cells": [
  {
   "cell_type": "markdown",
   "metadata": {},
   "source": [
    "## `create_engine()` options\n",
    "\n",
    "| Option          | Description                                                                                     |\n",
    "|------------------|-------------------------------------------------------------------------------------------------|\n",
    "| `echo=True`      | Logs every SQL statement issued to the database, useful for debugging.                         |\n",
    "| `pool_size=<N>`  | Specifies a custom size for the connection pool (default is 5 simultaneous connections).        |\n",
    "| `max_overflow=<N>` | Maximum number of connections above the pool size during usage spikes (default is 10).         |                         |\n"
   ]
  }
 ],
 "metadata": {
  "language_info": {
   "name": "python"
  }
 },
 "nbformat": 4,
 "nbformat_minor": 2
}
