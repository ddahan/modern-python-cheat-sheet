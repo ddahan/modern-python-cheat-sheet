{
 "cells": [
  {
   "cell_type": "markdown",
   "metadata": {},
   "source": [
    "# Queries\n",
    "\n",
    "## Query Execution\n",
    "\n",
    "- `r = session.execute(q)` returns an `Result` object (`Iterator`) **in a tuple**, because queries can return multiple values per row.\n",
    "- `r = session.scalars(q)` returns an `Result` object (`Iterator`), but **not in a tuple**. Use it if you known you will be receveiving a single value per row.\n",
    "\n",
    "In an application, we would normally iterate over the results using this object (to avoid useless memory usage)"
   ]
  },
  {
   "cell_type": "markdown",
   "metadata": {},
   "source": [
    "### What can be done with `Result` objects\n",
    "\n",
    "- `r.all()` achieve the same effect that converting the result to a list with `list()`\n",
    "- `r.first()` returns the first result row, or `None` is there are no results.\n",
    "- `r.one()` returns the first and only result. If there is zero or many results, an exception is raised.\n",
    "- `r.one_or_none()` returns the first and only result, `None` if there is zero result, and raise an exception if there are many results"
   ]
  },
  {
   "cell_type": "markdown",
   "metadata": {},
   "source": [
    "### Shortcuts\n",
    "\n",
    "- `session.scalars(q).first()` = `session.scalar(q)`\n",
    "- `session.scalars(q).one()` = `session.scalar_one(q)`\n",
    "- `session.scalars(q).one_or_none()` = `session.scalar_one_or_none(q)`"
   ]
  }
 ],
 "metadata": {
  "kernelspec": {
   "display_name": "Python 3",
   "language": "python",
   "name": "python3"
  },
  "language_info": {
   "name": "python",
   "version": "3.13.1"
  }
 },
 "nbformat": 4,
 "nbformat_minor": 2
}
