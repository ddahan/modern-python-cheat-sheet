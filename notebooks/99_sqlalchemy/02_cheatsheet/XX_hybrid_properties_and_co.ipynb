{
 "cells": [
  {
   "cell_type": "markdown",
   "metadata": {},
   "source": [
    "## Hybrid properties & Computed columns\n",
    "\n",
    "In SQLAlchemy, you can achieve the equivalent of Django's GeneratedField (which computes values using other columns) using hybrid properties or SQL expressions with computed columns. Both approaches are flexible and allow you to define computed fields that can operate at the Python or database level."
   ]
  },
  {
   "cell_type": "markdown",
   "metadata": {},
   "source": [
    "**Hybrid properties**\n",
    "\n",
    "Produce SQL expressions at the class level and Python expression evaulation at the instance level"
   ]
  },
  {
   "cell_type": "code",
   "execution_count": null,
   "metadata": {},
   "outputs": [],
   "source": [
    "from sqlalchemy import Computed, func\n",
    "from sqlalchemy.orm import declarative_base, Mapped, mapped_column\n",
    "from sqlalchemy.ext.hybrid import hybrid_property\n",
    "\n",
    "Base = declarative_base()\n",
    "\n",
    "\n",
    "class User(Base):\n",
    "    __tablename__ = \"users\"\n",
    "\n",
    "    id: Mapped[int] = mapped_column(primary_key=True)\n",
    "    first_name: Mapped[str]\n",
    "    last_name: Mapped[str]\n",
    "\n",
    "    # Define a computed field\n",
    "    @hybrid_property\n",
    "    def full_name(self) -> str:  # type: ignore\n",
    "        return f\"{self.first_name} {self.last_name}\"\n",
    "\n",
    "    # Optional: Allow it to be used in queries too - SQL-level computed property for queries\n",
    "    @full_name.expression\n",
    "    def full_name(cls):\n",
    "        return func.concat(cls.first_name, \" \", cls.last_name)"
   ]
  },
  {
   "cell_type": "markdown",
   "metadata": {},
   "source": [
    "**Computed Columns**"
   ]
  },
  {
   "cell_type": "code",
   "execution_count": 24,
   "metadata": {},
   "outputs": [],
   "source": [
    "class User2(Base):\n",
    "    __tablename__ = \"users_2\"\n",
    "\n",
    "    id: Mapped[int] = mapped_column(primary_key=True)\n",
    "    first_name: Mapped[str]\n",
    "    last_name: Mapped[str]\n",
    "\n",
    "    # Computed column at the database level\n",
    "    full_name: Mapped[str] = mapped_column(Computed(\"first_name || ' ' || last_name\"))"
   ]
  },
  {
   "cell_type": "markdown",
   "metadata": {},
   "source": [
    "### Comparison Table: Hybrid Properties vs. Computed Columns vs. Column Properties\n",
    "\n",
    "| Feature                      | **Hybrid Properties**                                                                                  | **Computed Columns**                                                                                  | **Column Properties**                                                                               |\n",
    "|------------------------------|-------------------------------------------------------------------------------------------------------|-------------------------------------------------------------------------------------------------------|----------------------------------------------------------------------------------------------------|\n",
    "| **Definition**               | Defined at the Python level using `@hybrid_property`.                                                 | Defined at the database level using `Computed`.                                                      | Defined at the Python level using `column_property`.                                              |\n",
    "| **Computation Location**     | Computed dynamically in Python or within SQL queries (with `.expression`).                           | Computed by the database engine during query execution.                                              | Computed as part of the SQL query, executed by the database.                                      |\n",
    "| **Queryable**                | Yes, when combined with `.expression`, they can be used in SQLAlchemy queries.                       | Yes, directly queryable as part of the table schema.                                                 | Yes, directly queryable and treated like a standard column in SQLAlchemy queries.                |\n",
    "| **Performance**              | Computation happens in Python (runtime) or SQL (if `.expression` is used).                          | Computation is handled entirely by the database, offloading processing from the application.         | Computation is handled entirely by the database at query time.                                   |\n",
    "| **Flexibility**              | Supports complex Python logic (e.g., conditional computations, custom Python methods).              | Limited to SQL expressions supported by the database.                                                | Limited to SQL expressions but more efficient than hybrid properties for purely SQL-based logic. |\n",
    "| **Persistence**              | Computed dynamically; values are not stored in the database.                                         | The column exists in the database schema but is read-only in SQLAlchemy.                             | Not persisted; values are computed dynamically during query execution.                           |\n",
    "| **Database Dependency**      | Independent of the database. Computation logic resides in the application.                           | Database-dependent; SQL expressions must be compatible with the target database (e.g., SQLite vs. PostgreSQL). | Database-dependent; uses SQLAlchemy expressions that are translated to SQL.                      |\n",
    "| **Read/Write Capability**    | Can be made writable by defining a custom setter in Python.                                          | Read-only; the database manages the value based on the defined SQL expression.                       | Read-only; derived values cannot be modified directly.                                            |\n",
    "| **Type Checking**            | Fully integrated with Python typing, enhancing IDE support and type hints.                          | Requires the SQL expression to return a compatible type for the database column.                     | Inherits type from the SQLAlchemy expression or column used in the computation.                  |\n",
    "| **Use Case**                 | Ideal for complex logic, application-layer computations, or scenarios where the database schema cannot be altered. | Ideal for simple computations, ensuring consistency at the database level (e.g., concatenation or arithmetic). | Ideal for lightweight, query-time computations that don’t require Python-side logic.             |\n"
   ]
  },
  {
   "cell_type": "markdown",
   "metadata": {},
   "source": [
    "Object states\n",
    "\n",
    "https://docs.sqlalchemy.org/en/20/orm/session_state_management.html"
   ]
  }
 ],
 "metadata": {
  "kernelspec": {
   "display_name": "Python 3",
   "language": "python",
   "name": "python3"
  },
  "language_info": {
   "codemirror_mode": {
    "name": "ipython",
    "version": 3
   },
   "file_extension": ".py",
   "mimetype": "text/x-python",
   "name": "python",
   "nbconvert_exporter": "python",
   "pygments_lexer": "ipython3",
   "version": "2.7.undefined"
  }
 },
 "nbformat": 4,
 "nbformat_minor": 2
}
