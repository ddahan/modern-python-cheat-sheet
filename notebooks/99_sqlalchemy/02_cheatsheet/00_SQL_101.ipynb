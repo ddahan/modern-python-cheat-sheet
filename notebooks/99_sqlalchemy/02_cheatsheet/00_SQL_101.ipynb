{
 "cells": [
  {
   "cell_type": "markdown",
   "metadata": {},
   "source": [
    "### Resources\n",
    "\n",
    "- [Roadmap for Learning SQL](https://www.youtube.com/watch?v=yMqldbY2AAg)\n",
    "- [Secret To Optimizing SQL Queries - Understand The SQL Execution Order](https://www.youtube.com/watch?v=BHwzDmr6d7s)\n",
    "- [6 SQL Joins you MUST know! (Animated + Practice)](https://www.youtube.com/watch?v=Yh4CrPHVBdE)"
   ]
  },
  {
   "cell_type": "markdown",
   "metadata": {},
   "source": [
    "### Overview of SQL Sublanguages\n",
    "\n",
    "| **Category**    | **Full Form**                    | **Purpose**                                                                                         | **Common Commands**                 | **Examples**                                                                                                                                  |\n",
    "|------------------|----------------------------------|-----------------------------------------------------------------------------------------------------|-------------------------------------|----------------------------------------------------------------------------------------------------------------------------------------------|\n",
    "| **DDL**          | **Data Definition Language**    | Used to define, create, and modify the structure of database objects like tables, indexes, schemas, and constraints. | `CREATE`, `ALTER`, `DROP`, `TRUNCATE` | - `CREATE TABLE users (id INT PRIMARY KEY, name VARCHAR(100));` <br> - `ALTER TABLE users ADD COLUMN email VARCHAR(100);`                     |\n",
    "| **DQL**          | **Data Query Language**         | Focused on querying and retrieving data from one or more tables. It does not modify the data but only reads and presents it. | `SELECT`                             | - `SELECT * FROM users;` <br> - `SELECT name FROM users WHERE id = 1;`                                                                        |\n",
    "| **DML**          | **Data Manipulation Language**  | Deals with manipulating the actual data stored in database tables, such as adding, updating, or deleting rows.       | `INSERT`, `UPDATE`, `DELETE`         | - `INSERT INTO users (id, name) VALUES (1, 'Alice');` <br> - `UPDATE users SET name = 'Bob' WHERE id = 1;`                                    |\n",
    "| **DCL**          | **Data Control Language**       | Manages access control by granting or revoking permissions to users or roles for database operations.                | `GRANT`, `REVOKE`                    | - `GRANT SELECT ON users TO read_only_user;` <br> - `REVOKE SELECT ON users FROM read_only_user;`                                             |\n",
    "| **TCL**          | **Transaction Control Language** | Handles transactions to ensure data integrity and consistency, allowing commits, rollbacks, or saving intermediate states. | `COMMIT`, `ROLLBACK`, `SAVEPOINT`    | - `BEGIN TRANSACTION; INSERT INTO orders (id, amount) VALUES (1, 100); COMMIT;` <br> - `ROLLBACK;`                                            |\n"
   ]
  },
  {
   "cell_type": "markdown",
   "metadata": {},
   "source": [
    "### Overview of JOINs\n",
    "\n",
    "\n",
    "#### `Students`\n",
    "| ID  | Name    |\n",
    "|-----|---------|\n",
    "| 1   | Alice   |\n",
    "| 2   | Bob     |\n",
    "| 3   | Charlie |\n",
    "\n",
    "#### `Courses`\n",
    "| StudentID | Course   |\n",
    "|-----------|----------|\n",
    "| 1         | Math     |\n",
    "| 2         | Science  |\n",
    "| 4         | History  |\n",
    "\n",
    "### JOIN types with example results\n",
    "\n",
    "| **Join Type**      | **Description**                                                                 | **Example Result**                                                                                                 |\n",
    "|---------------------|---------------------------------------------------------------------------------|-------------------------------------------------------------------------------------------------------------------|\n",
    "| **INNER JOIN**      | Matches rows in both tables. Only rows with matching keys appear in the result. | Students with enrolled courses: <br> **Name: Alice, Course: Math** <br> **Name: Bob, Course: Science**            |\n",
    "| **LEFT JOIN**       | Keeps all rows from the left table, even if there’s no match in the right table.| All students, even those not enrolled: <br> **Name: Alice, Course: Math** <br> **Name: Bob, Course: Science** <br> **Name: Charlie, Course: NULL** |\n",
    "| **RIGHT JOIN**      | Keeps all rows from the right table, even if there’s no match in the left table.| All courses, even those without students: <br> **Name: Alice, Course: Math** <br> **Name: Bob, Course: Science** <br> **Name: NULL, Course: History** |\n",
    "| **FULL OUTER JOIN** | Keeps all rows from both tables, even if there’s no match.                     | All students and all courses: <br> **Name: Alice, Course: Math** <br> **Name: Bob, Course: Science** <br> **Name: Charlie, Course: NULL** <br> **Name: NULL, Course: History** |\n",
    "| **CROSS JOIN**      | Combines every row from the first table with every row from the second table.   | Cartesian product of students and courses: <br> **Name: Alice, Course: Math** <br> **Name: Alice, Course: Science** <br> **Name: Alice, Course: History** (and so on for all students and courses) |\n"
   ]
  }
 ],
 "metadata": {
  "language_info": {
   "name": "python"
  }
 },
 "nbformat": 4,
 "nbformat_minor": 2
}
