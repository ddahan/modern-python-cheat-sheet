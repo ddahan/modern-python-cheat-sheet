{
 "cells": [
  {
   "cell_type": "markdown",
   "metadata": {},
   "source": [
    "- In ORM mode, declarative mapping defines **at once both** a Python object model, as well as database metadata that describes real SQL tables that exist, or will exist.\n",
    "- The association between Python types and SQL types can be customized using the [type annotation map](https://docs.sqlalchemy.org/en/20/orm/declarative_tables.html#customizing-the-type-map).\n",
    "    - Enums or Litteral can be used as SQL `Enums`"
   ]
  },
  {
   "cell_type": "markdown",
   "metadata": {},
   "source": [
    "## Attributes of Mapped Classes\n",
    "\n",
    "In SQLAlchemy, a \"column\" in the context of a mapped class can be one of the following:\n",
    "- `mapped_column`: a database column that is mapped to an attribute of the class, typically used for storing raw data types (e.g., integers, strings, dates).\n",
    "- `relationship`:  a relationship between tables. Used to establish one-to-many, many-to-one, or many-to-many associations between models.\n",
    "- `hybrid_property`: a computed attribute that behaves like a column, which can be used in both Python code and SQL queries.\n",
    "- Computed Columns (`Computed`):  a read-only column whose value is derived from a SQL expression, defined at the database level and computed during query execution.\n",
    "- `association_proxy`: an attribute that **proxies** a relationship, allowing access to related objects in a simplified way. Commonly used in many-to-many relationships or when you want to access attributes of related objects directly.\n",
    "- `synonym`: maps a class property to an existing column or relationship under a different name.\n",
    "-  Association Tables: While not technically a column, association tables are used in many-to-many relationships and often act like intermediary columns. Usually defined with the `Table` object.\n",
    "\n",
    "### `mapped_column` main arguments\n",
    "\n",
    "| Argument          | Description                                                                  | Usage                                                                                     | Default Value             | Dataclass Mode Only       |\n",
    "|-------------------|------------------------------------------------------------------------------|-------------------------------------------------------------------------------------------|---------------------------|---------------------------|\n",
    "| `primary_key`     | Indicates if the column is part of the primary key for the table.           | `primary_key=True`. Note that you don't need to explicitly set `nullable=False` or `index=True` for primary keys. | `False`                  | ❌                       |\n",
    "| `index`           | Adds an index to the column for faster lookups.                             | `index=True`                                                                             | `False`                  | ❌                       |\n",
    "| `insert_default`  | Specifies a value or callable to be used as a default when inserting rows.   | `insert_default=datetime.utcnow`                                                        | `None`                   | ❌                       |\n",
    "| `server_default`  | Defines a default value generated or provided by the database server.       | `server_default=func.now()`                                                             | `None`                   | ❌                       |\n",
    "| `server_onupdate` | Specifies a server-side value to be applied when a row is updated.          | `server_onupdate=func.now()` to update the column to the current time on update.         | `None`                   | ❌                       |\n",
    "| `unique`          | Specifies whether the column value must be unique across all rows.          | `unique=True`                                                                            | `False`                  | ❌                       |\n",
    "| `nullable`        | Indicates whether the column can store `NULL` values.                       | `nullable=False` to disallow `NULL` values.                                             | `True`                   | ❌                       |\n",
    "| `onupdate`        | Specifies a value or callable to apply when the row is updated.             | `onupdate=datetime.utcnow`                                                              | `None`                   | ❌                       |\n",
    "| `info`            | Provides a place to store custom metadata about the column.                 | `info={\"description\": \"User's email address\"}`                                          | `None`                   | ❌                       |\n",
    "| `autoincrement`   | Controls whether the column's value auto-increments for new rows.           | `autoincrement=True`                                                                     | Database-Dependent        | ❌                       |\n",
    "| `deferred`        | Normally, when you query a mapped object, SQLAlchemy retrieves all the columns for that object immediately. By marking a column as deferred, the data for that column is excluded from the initial SQL query, and only fetched when you access the attribute for the first time, triggering a separate query to the database. | `deferred=True` to make the column lazily loaded. | `False`                  | ❌                       |\n",
    "| `comment`         | Adds a database-level comment to the column. This is included in the generated database schema and can be viewed using database tools or SQL queries. | `comment=\"The user's email address\"` | `None`                   | ❌                       |\n",
    "| `doc`             | Adds a Python-side documentation string to the column. This is purely for the benefit of developers working with the Python code. | `doc=\"This column stores user email addresses.\"` | `None`                   | ❌                       |\n",
    "| `init`            | Determines whether this column is included as a parameter in `__init__`.    | `init=False` to exclude the column from the constructor (usual with pks).                | `True`                   | ✅                       |\n",
    "| `default`         | Specifies a default value for the column (in Python).                       | `default=\"active\"`                                                                       | `None`                   | ✅                       |\n",
    "| `default_factory` | Similar to `default`, but uses a callable to generate default values.       | `default_factory=datetime.utcnow`                                                       | `None`                   | ✅                       |\n"
   ]
  },
  {
   "cell_type": "markdown",
   "metadata": {},
   "source": [
    "### `relationship` main arguments\n",
    "\n",
    "| Argument             | Description                                                                                      | Usage                                                                                     | Default Value             |\n",
    "|----------------------|--------------------------------------------------------------------------------------------------|-------------------------------------------------------------------------------------------|---------------------------|\n",
    "| `back_populates`     | Specifies the name of the complementary property on the related class for bidirectional relationships. Use it when you want explicit control over both sides of the relationship. Use `backref` otherwise. | `back_populates=\"user\"`                                                                   | `None`                   |\n",
    "| `backref`            | Automatically creates a complementary relationship on the related class. Use it when both sides of the relationship can share the same configuration. Use `back_populates` otherwise.                       | `backref=\"user\"`                                                                          | `None`                   |\n",
    "| `cascade`            | Defines how operations on a parent object (e.g., delete) cascade to its related objects.         | `cascade=\"all, delete-orphan\"`                                                            | `None`                   |\n",
    "| `lazy`               | Controls when and how the related objects are loaded.                                            | `lazy=\"select\"` (default), `lazy=\"joined\"`, `lazy=\"subquery\"`, etc.                       | `\"select\"`               |\n",
    "| `secondary`          | Defines the intermediary table for many-to-many relationships.                                    | `secondary=association_table`                                                            | `None`                   |\n",
    "| `order_by`           | Specifies the order in which related objects are loaded.                                         | `order_by=Address.id`                                                                    | `None`                   |\n",
    "| `viewonly`           | Marks the relationship as read-only, meaning it doesn’t participate in persistence operations (e.g., insert, update, or delete). This is typically used for computed or derived relationships that are not managed by SQLAlchemy. | `viewonly=True`                                                                          | `False`                  |\n",
    "| `post_update`        | Resolves circular dependencies by issuing a second update statement for related objects.         | `post_update=True`                                                                       | `False`                  |\n",
    "| `innerjoin`          | Forces the use of an inner join instead of an outer join when loading related objects.           | `innerjoin=True`                                                                         | `False`                  |\n",
    "| `sync_backref`       | Synchronizes the in-memory state of backrefs automatically.                                      | `sync_backref=False` to disable synchronization.                                         | `True`                   |\n",
    "| `info`               | Provides a place to store custom metadata about the relationship.                                | `info={\"description\": \"User's addresses\"}`                                               | `None`                   |\n",
    "| `uselist`            | Determines if the relationship should be treated as a collection or a scalar.                    | `uselist=False` for a one-to-one relationship.                                           | `True`                   |\n",
    "| `passive_deletes`    | Controls whether SQLAlchemy will issue DELETE statements on related objects or rely on database-level ON DELETE behavior. | `passive_deletes=True`                                                                   | `False`                  |\n",
    "| `foreign_keys`       | Specifies the foreign key(s) used in the relationship, useful in cases of self-referential relationships or multiple foreign keys. | `foreign_keys=[Address.user_id]`                                                         | `Inferred automatically` |\n",
    "\n"
   ]
  },
  {
   "cell_type": "markdown",
   "metadata": {},
   "source": [
    "## Class-Level Attributes for SQLAlchemy Models\n",
    "\n",
    "- `__tablename__`: Defines the name of the table in the database. Must be unique within the schema.\n",
    "- `__table_args__`: Used to define table-level constraints (e.g., composite keys, indexes) or database-specific options.\n",
    "- `__mapper_args__`: Configures ORM-specific options like polymorphism, default ordering, and inheritance settings.\n",
    "- `__abstract__`: Marks a class as abstract, meaning it is not directly mapped to a table but serves as a base class for other models.\n",
    "- `__init__`: Customizes how instances of the model are initialized."
   ]
  },
  {
   "cell_type": "markdown",
   "metadata": {},
   "source": [
    "### `__mapper_args__` Options\n",
    "\n",
    "| **Option**               | **Description and Usage**                                                                                   | **Example**                                                                                                                |\n",
    "|--------------------------|------------------------------------------------------------------------------------------------------------|----------------------------------------------------------------------------------------------------------------------------|\n",
    "| **`order_by`**           | Specifies the default ordering of rows for queries on this model. Use this to define a default `ORDER BY` clause. | `__mapper_args__ = {\"order_by\": name}`                                                                                     |\n",
    "| **`polymorphic_on`**      | Defines the column used to differentiate between subclasses in a polymorphic inheritance hierarchy.         | `__mapper_args__ = {\"polymorphic_on\": type}`                                                                               |\n",
    "| **`polymorphic_identity`**| Assigns a unique identifier to a class in a polymorphic inheritance hierarchy. Use this to map specific subclasses. | `__mapper_args__ = {\"polymorphic_identity\": \"dog\"}`                                                                        |\n",
    "| **`version_id_col`**      | Specifies a column used for optimistic concurrency control. Use this to track and handle version conflicts during updates. | `__mapper_args__ = {\"version_id_col\": version_id}`                                                                         |\n",
    "| **`eager_defaults`**      | Forces default values for columns to be loaded from the database after an insert. Use this for server-side default values. | `__mapper_args__ = {\"eager_defaults\": True}`                                                                               |\n",
    "| **`confirm_deleted_rows`**| Ensures rows targeted for deletion are checked for existence before being removed. Use this for cases where database constraints are unreliable. | `__mapper_args__ = {\"confirm_deleted_rows\": False}`                                                                        |\n",
    "| **`inherit_condition`**   | Defines the condition for joining a subclass table with its parent in a joined-table inheritance setup. Use this to customize inheritance behavior. | `__mapper_args__ = {\"inherit_condition\": id == Parent.id}`                                                                 |\n",
    "| **`with_polymorphic`**    | Controls how polymorphic loading is performed. Use this to specify which subclasses should be included in queries. | `__mapper_args__ = {\"with_polymorphic\": \"*\"}  # Includes all subclasses`                                                   |\n"
   ]
  },
  {
   "cell_type": "markdown",
   "metadata": {},
   "source": [
    "### `__table_args__` Options\n",
    "\n",
    "| **Option**               | **Description and Usage**                                                                                   | **Example**                                                                                                                |\n",
    "|--------------------------|------------------------------------------------------------------------------------------------------------|----------------------------------------------------------------------------------------------------------------------------|\n",
    "| **`PrimaryKeyConstraint`** | Defines a composite primary key involving multiple columns. Use this when more than one column forms the primary key. | `PrimaryKeyConstraint(\"col1\", \"col2\")`                                                                                     |\n",
    "| **`UniqueConstraint`**    | Ensures uniqueness across one or more columns. Use for multi-column uniqueness constraints.               | `UniqueConstraint(\"email\", \"company_id\", name=\"uq_email_company\")`                                                         |\n",
    "| **`Index`**               | Defines a table-level index, which can span multiple columns or use advanced properties. Use for composite indexes or custom options. | `Index(\"ix_name_age\", \"name\", \"age\")`                                                                                      |\n",
    "| **`CheckConstraint`**     | Adds a SQL-level check constraint to enforce conditions on column values. Use for validations like ensuring positive numbers or custom conditions. | `CheckConstraint(\"price > 0 AND quantity >= 0\", name=\"check_positive_price_quantity\")`                                      |\n",
    "| **`ForeignKeyConstraint`**| Defines multi-column foreign key constraints between tables. Use for relationships involving composite foreign keys. | `ForeignKeyConstraint([\"col1\", \"col2\"], [\"other_table.col1\", \"other_table.col2\"])`                                          |\n",
    "| **`schema`**              | Specifies the schema under which the table should be created. Use this when working with multiple schemas in your database. | `{\"schema\": \"my_schema\"}`                                                                                                   |                                                            |"
   ]
  }
 ],
 "metadata": {
  "kernelspec": {
   "display_name": "Python 3",
   "language": "python",
   "name": "python3"
  },
  "language_info": {
   "codemirror_mode": {
    "name": "ipython",
    "version": 3
   },
   "file_extension": ".py",
   "mimetype": "text/x-python",
   "name": "python",
   "nbconvert_exporter": "python",
   "pygments_lexer": "ipython3",
   "version": "2.7.undefined"
  }
 },
 "nbformat": 4,
 "nbformat_minor": 2
}
