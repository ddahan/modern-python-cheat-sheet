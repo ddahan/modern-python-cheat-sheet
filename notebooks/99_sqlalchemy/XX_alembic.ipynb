{
 "cells": [
  {
   "cell_type": "markdown",
   "metadata": {},
   "source": [
    "# Bases"
   ]
  },
  {
   "cell_type": "markdown",
   "metadata": {},
   "source": [
    "### Main links\n",
    "\n",
    "- [README Github](https://github.com/sqlalchemy/alembic)\n",
    "- [Official Tutorial](https://alembic.sqlalchemy.org/en/latest/tutorial.html)"
   ]
  },
  {
   "cell_type": "markdown",
   "metadata": {},
   "source": []
  },
  {
   "cell_type": "markdown",
   "metadata": {},
   "source": [
    "### Main commands\n",
    "\n",
    "#### `alembic init`\n",
    "\n",
    "Create the entire (customizable) migration environment folder tree. It looks liks this:\n",
    "\n",
    "```sh\n",
    "yourproject/ -> The root of your application’s source code\n",
    "    alembic/ -> The home of the migration environment (can be named anything)\n",
    "        env.py -> A Python script that is run whenever the alembic migration tool is invoked\n",
    "        script.py.mako -> Template file used to generate new migration scripts (all files in versons/)\n",
    "        versions/ ->  Holds the individual version scripts. The ordering of version script is within the scripts themselves.\n",
    "            3512b954651e_add_account.py\n",
    "            2b1ae634e5cd_add_order_id.py\n",
    "            3adcc9a56557_rename_username_field.py\n",
    "```"
   ]
  },
  {
   "cell_type": "markdown",
   "metadata": {},
   "source": [
    "### Create a Migration Script\n",
    "\n",
    "`alembic revision -m \"create account table\"`"
   ]
  },
  {
   "cell_type": "markdown",
   "metadata": {},
   "source": [
    "### Running (applying) Migration\n",
    "\n",
    "`alembic upgrade <revision>`\n",
    "\n",
    "We can specify the migration id we'd like to upgrade to, but it’s easier in most cases just to tell it “the most recent”, in this case `head`:\n",
    "\n",
    "`alembic upgrade head`"
   ]
  },
  {
   "cell_type": "markdown",
   "metadata": {},
   "source": [
    "### Downgrading\n",
    "\n",
    "`alembic downgrade <revision>`\n",
    "\n",
    "Note that `base` is the opposite of `head`. We could `alembic downgrade base` if we want to."
   ]
  },
  {
   "cell_type": "markdown",
   "metadata": {},
   "source": [
    "### See the history\n",
    "\n",
    "`alembic history`"
   ]
  },
  {
   "cell_type": "markdown",
   "metadata": {},
   "source": [
    "# Auto generating migrations"
   ]
  },
  {
   "cell_type": "markdown",
   "metadata": {},
   "source": [
    "`alembic revision --autogenerate`"
   ]
  },
  {
   "cell_type": "markdown",
   "metadata": {},
   "source": [
    "### Check if migration would be created\n",
    "\n",
    "`alembic check` (uses same process as `alembic revision --autogenerate`)\n",
    "\n",
    "- As it returns an error if there are ongoing ungenerated migrations, it can be used in CI / precommit hook."
   ]
  },
  {
   "cell_type": "markdown",
   "metadata": {},
   "source": [
    "# Generating SQL Scripts (a.k.a. “Offline Mode”)\n",
    "\n",
    "Example: `alembic upgrade ae1027a6acf --sql` generates raw SQL instead of running it against the database"
   ]
  },
  {
   "cell_type": "markdown",
   "metadata": {},
   "source": [
    "# List of operations\n",
    "\n",
    "\n",
    "Here's a summary of Alembic's operation directives, which are methods provided by the `Operations` class for use within migration scripts:\n",
    "\n",
    "| **Operation**                   | **Description**                                                                                                                                                                                                                   |\n",
    "|---------------------------------|-----------------------------------------------------------------------------------------------------------------------------------------------------------------------------------------------------------------------------------|\n",
    "| `add_column()`                  | Adds a new column to an existing table. Requires a `Column` object and the target table name.                                                                                                                                    |\n",
    "| `alter_column()`                | Modifies the attributes of an existing column, such as type, nullable status, or default value.                                                                                                                                   |\n",
    "| `bulk_insert()`                 | Inserts multiple rows into a table efficiently.                                                                                                                                                                                   |\n",
    "| `create_check_constraint()`     | Creates a new check constraint on a table to enforce a condition on the data.                                                                                                                                                     |\n",
    "| `create_exclude_constraint()`   | Creates an exclusion constraint (specific to PostgreSQL) to enforce that if any two rows are compared on the specified columns or expressions, at least one of these comparisons will return false or null.                        |\n",
    "| `create_foreign_key()`          | Adds a foreign key constraint between two tables.                                                                                                                                                                                 |\n",
    "| `create_index()`                | Creates a new index on specified columns of a table to improve query performance.                                                                                                                                                  |\n",
    "| `create_primary_key()`          | Adds a primary key constraint to a table.                                                                                                                                                                                         |\n",
    "| `create_table()`                | Creates a new table with the specified columns and constraints.                                                                                                                                                                   |\n",
    "| `create_table_comment()`        | Adds a comment to a table for documentation purposes.                                                                                                                                                                             |\n",
    "| `create_unique_constraint()`    | Adds a unique constraint to a table to ensure all values in specified columns are unique.                                                                                                                                          |\n",
    "| `drop_column()`                 | Removes a column from an existing table.                                                                                                                                                                                          |\n",
    "| `drop_constraint()`             | Drops an existing constraint (e.g., primary key, foreign key, unique, check) from a table.                                                                                                                                        |\n",
    "| `drop_index()`                  | Removes an index from a table.                                                                                                                                                                                                    |\n",
    "| `drop_table()`                  | Deletes a table entirely.                                                                                                                                                                                                         |\n",
    "| `rename_table()`                | Renames an existing table to a new name.                                                                                                                                                                                           |\n",
    "| `rename_column()`               | Renames a column within a table.                                                                                                                                                                                                  |\n",
    "| `execute()`                     | Executes a raw SQL statement.                                                                                                                                                                                                     |\n",
    "| `batch_alter_table()`           | Allows for multiple operations on a table in a transactional batch. Useful for databases that don’t support in-place schema changes.                                                                                              |\n",
    "\n",
    "\n",
    "These operations are typically used within the upgrade() and downgrade() functions of Alembic migration scripts to apply and revert schema changes, respectively."
   ]
  },
  {
   "cell_type": "markdown",
   "metadata": {},
   "source": [
    "# Misc\n",
    "\n",
    "- Alembic commands can be run directly from Python. For example:\n",
    "\n",
    "```python\n",
    "from alembic import command\n",
    "command.revision(alembic_cfg, message=\"initial\", autogenerate=True)\n",
    "command.upgrade(alembic_cfg, \"head\")\n",
    "```"
   ]
  }
 ],
 "metadata": {
  "kernelspec": {
   "display_name": "Python 3",
   "language": "python",
   "name": "python3"
  },
  "language_info": {
   "name": "python",
   "version": "3.12.8"
  }
 },
 "nbformat": 4,
 "nbformat_minor": 2
}
