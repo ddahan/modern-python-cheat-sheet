{
 "cells": [
  {
   "cell_type": "markdown",
   "metadata": {},
   "source": [
    "This course is based on [this video](https://www.youtube.com/watch?v=Uym2DHnUEno) from Mike Bayer (+ [related repo](https://github.com/zzzeek/python_web_conf_2023))\n",
    "\n",
    "\n",
    "## What is SQLAlchemy? \n",
    "- It's a Database toolkit, with lots of tools\n",
    "- ORM is one of these tools, but some features don't use the ORM\n",
    "- These non-ORM features are called **SQLAlchemy Core** and contains for example:\n",
    "\t- a facade around Python [DBAPI](https://chatgpt.com/share/67542b5b-54e8-8005-84f5-ba53e896452b) (embellishment)  (see [PEP 249](https://peps.python.org/pep-0249/) too)\n",
    "\t- database schema management functions (create tables, databases, schemas)\n",
    "\t- a SQL query builder (python expressions to build objects that become SQL statements)\n",
    "\t- schema inspection utilities (e.g. pointing SQLAlchemy to a db and getting tje list of tables and constraints)\n",
    "- The second part is **SQLAlchemy ORM**, built on top of the core.\n",
    "\n",
    "\n",
    "## Pre-requesites\n",
    "\n",
    "- Python\n",
    "- Database concepts\n",
    "- SQL\n",
    "\n",
    "## Important links\n",
    "- [ORM Quick Start — SQLAlchemy 2.0 Documentation](https://docs.sqlalchemy.org/en/20/orm/quickstart.html)\n",
    "- [SQLAlchemy Unified Tutorial — SQLAlchemy 2.0 Documentation](https://docs.sqlalchemy.org/en/20/tutorial/index.html)\n",
    "- [ORM Querying Guide — SQLAlchemy 2.0 Documentation](https://docs.sqlalchemy.org/en/20/orm/queryguide/index.html)\n",
    "\n",
    "# Misc\n",
    "- [Github README with philosophy](https://github.com/sqlalchemy/sqlalchemy?tab=readme-ov-file#introduction)"
   ]
  }
 ],
 "metadata": {
  "language_info": {
   "name": "python"
  }
 },
 "nbformat": 4,
 "nbformat_minor": 2
}
