{
 "cells": [
  {
   "cell_type": "markdown",
   "metadata": {},
   "source": [
    "**Using unnecessary bool() or len()**\n",
    "\n",
    "Don't do this:"
   ]
  },
  {
   "cell_type": "code",
   "execution_count": 1,
   "metadata": {},
   "outputs": [],
   "source": [
    "is_active = True\n",
    "if bool(is_active):\n",
    "    ...\n",
    "\n",
    "active_users = [\"John\", \"Tim\"]\n",
    "if len(active_users) > 0:\n",
    "    ..."
   ]
  },
  {
   "cell_type": "markdown",
   "metadata": {},
   "source": [
    "Do this instead:"
   ]
  },
  {
   "cell_type": "code",
   "execution_count": null,
   "metadata": {},
   "outputs": [],
   "source": [
    "is_active = True\n",
    "if is_active:\n",
    "    ...\n",
    "\n",
    "active_users = [\"John\", \"Tim\"]\n",
    "if active_users:\n",
    "    ..."
   ]
  },
  {
   "cell_type": "markdown",
   "metadata": {},
   "source": [
    "However be very careful! In some case you'll want to be explicit, because the value can be both empty or None.\n",
    "\n",
    "Don't do this:"
   ]
  },
  {
   "cell_type": "code",
   "execution_count": null,
   "metadata": {},
   "outputs": [],
   "source": [
    "active_users: list[str] | None\n",
    "if active_users:\n",
    "    ...\n",
    "else:\n",
    "    ...  # Here we don't know if the list is empty or None!"
   ]
  }
 ],
 "metadata": {
  "kernelspec": {
   "display_name": "Python 3",
   "language": "python",
   "name": "python3"
  },
  "language_info": {
   "codemirror_mode": {
    "name": "ipython",
    "version": 3
   },
   "file_extension": ".py",
   "mimetype": "text/x-python",
   "name": "python",
   "nbconvert_exporter": "python",
   "pygments_lexer": "ipython3",
   "version": "3.11.5"
  },
  "orig_nbformat": 4
 },
 "nbformat": 4,
 "nbformat_minor": 2
}
