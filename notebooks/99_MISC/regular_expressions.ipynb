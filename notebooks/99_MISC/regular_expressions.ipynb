{
 "cells": [
  {
   "cell_type": "markdown",
   "metadata": {},
   "source": [
    "### Regular Expressions\n",
    "\n",
    "#### Functions"
   ]
  },
  {
   "cell_type": "code",
   "execution_count": 26,
   "metadata": {},
   "outputs": [],
   "source": [
    "import re\n",
    "\n",
    "txt = \"The rain in Spain\""
   ]
  },
  {
   "cell_type": "markdown",
   "metadata": {},
   "source": [
    "`search()` searches the string for a match, and returns a Match object if there is a match, None otherwise. If there is more than one match, only the first occurrence of the match will be returned."
   ]
  },
  {
   "cell_type": "code",
   "execution_count": 27,
   "metadata": {},
   "outputs": [
    {
     "name": "stdout",
     "output_type": "stream",
     "text": [
      "<re.Match object; span=(0, 17), match='The rain in Spain'>\n"
     ]
    }
   ],
   "source": [
    "x = re.search(\"^The.*Spain$\", txt)\n",
    "print(x)"
   ]
  },
  {
   "cell_type": "markdown",
   "metadata": {},
   "source": [
    "`findall()` returns a list containing all matches"
   ]
  },
  {
   "cell_type": "code",
   "execution_count": 28,
   "metadata": {},
   "outputs": [
    {
     "name": "stdout",
     "output_type": "stream",
     "text": [
      "['ain', 'ain']\n"
     ]
    }
   ],
   "source": [
    "x = re.findall(\"ain\", txt)\n",
    "print(x)"
   ]
  },
  {
   "cell_type": "markdown",
   "metadata": {},
   "source": [
    "`split()` returns a list where the string has been split at each match"
   ]
  },
  {
   "cell_type": "code",
   "execution_count": 29,
   "metadata": {},
   "outputs": [
    {
     "name": "stdout",
     "output_type": "stream",
     "text": [
      "['The', 'rain', 'in', 'Spain']\n"
     ]
    }
   ],
   "source": [
    "x = re.split(\n",
    "    r\"\\s\", txt\n",
    ")  # r tells Python to treat backslashes as literal characters and not as the beginning of escape sequences\n",
    "print(x)"
   ]
  },
  {
   "cell_type": "markdown",
   "metadata": {},
   "source": [
    "`sub()` replaces the matches with the text of your choice"
   ]
  },
  {
   "cell_type": "code",
   "execution_count": 30,
   "metadata": {},
   "outputs": [
    {
     "name": "stdout",
     "output_type": "stream",
     "text": [
      "The_rain_in_Spain\n"
     ]
    }
   ],
   "source": [
    "x = re.sub(r\"\\s\", \"_\", txt)\n",
    "print(x)"
   ]
  },
  {
   "cell_type": "markdown",
   "metadata": {},
   "source": [
    "#### Pattern syntax\n",
    "\n",
    "| Symbol | Description |\n",
    "|--------|-------------|\n",
    "| `.`    | Matches any character except a newline. |\n",
    "| `^`    | Matches the start of the string. |\n",
    "| `$`    | Matches the end of the string. |\n",
    "| `*`    | Matches 0 or more repetitions of the preceding element. |\n",
    "| `+`    | Matches 1 or more repetitions of the preceding element. |\n",
    "| `?`    | Matches 0 or 1 repetition of the preceding element. |\n",
    "| `\\s`   | Matches whitespace characters. |\n",
    "| `\\d`   | Matches digits. Equivalent to `[0-9]`. |\n",
    "| `\\w`   | Matches word characters (letters, digits, and underscore). |\n",
    "| `\\b`   | Matches the boundary between word and non-word characters. |\n",
    "| `[abc]`| Matches any of the characters a, b, or c. |\n",
    "| `[a-z]`| Matches any lowercase letter. |\n",
    "| `[A-Z]`| Matches any uppercase letter. |\n",
    "| `[^abc]`| Matches any character except a, b, or c. |"
   ]
  },
  {
   "cell_type": "markdown",
   "metadata": {},
   "source": [
    "### Examples"
   ]
  },
  {
   "cell_type": "code",
   "execution_count": 33,
   "metadata": {},
   "outputs": [],
   "source": [
    "# Email Validation\n",
    "email_pattern = re.compile(r\"^[\\w\\.-]+@[\\w\\.-]+\\.\\w+$\")\n",
    "\n",
    "# URL Validation\n",
    "url_pattern = re.compile(r\"https?://(?:www\\.)?\\w+\\.\\w+(?:\\.\\w+)*\")\n",
    "\n",
    "# IP Address Validation\n",
    "ip_pattern = re.compile(r\"^(\\d{1,3}\\.){3}\\d{1,3}$\")"
   ]
  }
 ],
 "metadata": {
  "kernelspec": {
   "display_name": "Python 3",
   "language": "python",
   "name": "python3"
  },
  "language_info": {
   "codemirror_mode": {
    "name": "ipython",
    "version": 3
   },
   "file_extension": ".py",
   "mimetype": "text/x-python",
   "name": "python",
   "nbconvert_exporter": "python",
   "pygments_lexer": "ipython3",
   "version": "3.12.3"
  }
 },
 "nbformat": 4,
 "nbformat_minor": 2
}
