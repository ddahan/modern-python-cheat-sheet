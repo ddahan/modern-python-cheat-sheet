{
 "cells": [
  {
   "cell_type": "markdown",
   "metadata": {},
   "source": [
    "### Mutable VS Immutable types\n",
    "\n"
   ]
  },
  {
   "cell_type": "markdown",
   "metadata": {},
   "source": [
    "|  | Mutable  | Immutable |\n",
    "|---|---|---|\n",
    "| **Examples**  | `list`, `dict`, `set`  | `int`, `float`, `str`, `tuple`  |\n",
    "| **Modification**  | You can change their content without changing their identity (i.e., the object itself is altered)  | Once created, the state or content can't be changed.  |\n",
    "| **Size** | The size can be changed dynamically; elements can be added or removed  | The size is fixed when created.  |\n",
    "| **Memory**  | Because they are dynamic, they often consume more memory to store the metadata required for dynamic resizing  |  Generally, consumes less memory compared to mutable types. |\n",
    "| **Performance**  | Can lead to performance issues when used incorrectly  | Usually faster for read operations. |\n",
    "| **Safety**  | They are generally not safe to use in concurrent code without proper locks.  | They are inherently thread-safe.  |\n",
    "| **Use Case**  |  When you need collections that are modified during the course of your program. | When you want data to be constant and safe from accidental modification.  |\n",
    "| **Copying**  | Shallow copies reference the same inner objects.  | Every operation on an immutable type results in a new object. |\n",
    "|  **Function Arguments** | Mutable types can be changed inside functions and the changes will be reflected outside the function.  | Immutable types won't exhibit this behavior.  |"
   ]
  },
  {
   "cell_type": "markdown",
   "metadata": {},
   "source": [
    "**Basic Examples**"
   ]
  },
  {
   "cell_type": "code",
   "execution_count": 10,
   "metadata": {},
   "outputs": [
    {
     "name": "stdout",
     "output_type": "stream",
     "text": [
      "True\n"
     ]
    }
   ],
   "source": [
    "my_list = [1, 2, 3]\n",
    "first_id = id(my_list)\n",
    "my_list.append(4)  # Alter the same object in memory\n",
    "second_id = id(my_list)\n",
    "\n",
    "print(first_id == second_id)"
   ]
  },
  {
   "cell_type": "code",
   "execution_count": 11,
   "metadata": {},
   "outputs": [
    {
     "name": "stdout",
     "output_type": "stream",
     "text": [
      "False\n",
      "hello hallo\n"
     ]
    }
   ],
   "source": [
    "my_string = \"hello\"\n",
    "new_string = my_string.replace(\"e\", \"a\")  # Creates a new object in memory\n",
    "print(id(my_string) == id(new_string))\n",
    "print(my_string, new_string)  # Note that my_string is not modified in-place."
   ]
  },
  {
   "cell_type": "markdown",
   "metadata": {},
   "source": [
    "**Unexpected Example #1** (list affectation)"
   ]
  },
  {
   "cell_type": "code",
   "execution_count": 12,
   "metadata": {},
   "outputs": [
    {
     "name": "stdout",
     "output_type": "stream",
     "text": [
      "['banana', 'pear']\n"
     ]
    }
   ],
   "source": [
    "fruits = [\"banana\"]\n",
    "loved_fruits = fruits\n",
    "loved_fruits.append(\"pear\")\n",
    "print(fruits)  # Why is banana a loved fruit too?!"
   ]
  },
  {
   "cell_type": "markdown",
   "metadata": {},
   "source": [
    "It’s not a bug. It’s mutability in action. Whenever you assign a variable to another variable of mutable datatype, any changes to the data are reflected by both variables. The new variable is just an alias for the old variable. This is only true for mutable datatypes. It can be checked this way:"
   ]
  },
  {
   "cell_type": "code",
   "execution_count": 13,
   "metadata": {},
   "outputs": [
    {
     "name": "stdout",
     "output_type": "stream",
     "text": [
      "True\n"
     ]
    }
   ],
   "source": [
    "print(id(fruits) == id(loved_fruits))"
   ]
  },
  {
   "cell_type": "markdown",
   "metadata": {},
   "source": [
    "**Unexpected Example #2** (default mutable argument)"
   ]
  },
  {
   "cell_type": "code",
   "execution_count": 14,
   "metadata": {},
   "outputs": [
    {
     "name": "stdout",
     "output_type": "stream",
     "text": [
      "[1, 2]\n"
     ]
    }
   ],
   "source": [
    "def my_append(n: int, l: list[int] = []) -> list[int]:\n",
    "    l.append(n)\n",
    "    return l\n",
    "\n",
    "\n",
    "l1 = my_append(1)\n",
    "l2 = my_append(2)\n",
    "print(l2)  # should only contain 2, right?"
   ]
  },
  {
   "cell_type": "markdown",
   "metadata": {},
   "source": [
    "In the above example, every call to the function is sharing the **same** list.. Well again it is the mutability of lists which causes this pain.\n",
    "\n",
    "In Python the **default arguments are evaluated once when the function is defined**, not each time the function is called. You should never define default arguments of mutable type unless you know what you are doing."
   ]
  },
  {
   "cell_type": "markdown",
   "metadata": {},
   "source": [
    "Do this instead:"
   ]
  },
  {
   "cell_type": "code",
   "execution_count": 15,
   "metadata": {},
   "outputs": [
    {
     "name": "stdout",
     "output_type": "stream",
     "text": [
      "[2]\n"
     ]
    }
   ],
   "source": [
    "def my_append(n: int, l: list[int] | None = None) -> list[int]:\n",
    "    if l is None:\n",
    "        l = []\n",
    "    l.append(n)\n",
    "    return l\n",
    "\n",
    "\n",
    "l1 = my_append(1)\n",
    "l2 = my_append(2)\n",
    "print(l2)"
   ]
  }
 ],
 "metadata": {
  "kernelspec": {
   "display_name": "Python 3",
   "language": "python",
   "name": "python3"
  },
  "language_info": {
   "codemirror_mode": {
    "name": "ipython",
    "version": 3
   },
   "file_extension": ".py",
   "mimetype": "text/x-python",
   "name": "python",
   "nbconvert_exporter": "python",
   "pygments_lexer": "ipython3",
   "version": "3.11.5"
  },
  "orig_nbformat": 4
 },
 "nbformat": 4,
 "nbformat_minor": 2
}
