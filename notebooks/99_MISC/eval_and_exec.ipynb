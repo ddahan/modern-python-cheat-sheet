{
 "cells": [
  {
   "cell_type": "markdown",
   "metadata": {},
   "source": [
    "### eval\n",
    "\n",
    "The `eval()` function evaluates a string as a Python expression and returns the result. It is used to evaluate a single expression and returns the result of that expression. It's suitable for scenarios where you need the result of an expression that's stored as a string."
   ]
  },
  {
   "cell_type": "code",
   "execution_count": 1,
   "metadata": {},
   "outputs": [
    {
     "name": "stdout",
     "output_type": "stream",
     "text": [
      "50\n"
     ]
    }
   ],
   "source": [
    "x = 10\n",
    "result = eval(\"x * 5\")\n",
    "print(result)"
   ]
  },
  {
   "cell_type": "markdown",
   "metadata": {},
   "source": []
  },
  {
   "cell_type": "markdown",
   "metadata": {},
   "source": [
    "### exec\n",
    "\n",
    "The `exec()` function is used to execute dynamically generated Python code which can include multiple expressions or statements. It does not return anything; its purpose is to execute statements."
   ]
  },
  {
   "cell_type": "code",
   "execution_count": 2,
   "metadata": {},
   "outputs": [
    {
     "name": "stdout",
     "output_type": "stream",
     "text": [
      "0\n",
      "1\n",
      "2\n",
      "3\n",
      "4\n"
     ]
    }
   ],
   "source": [
    "code = \"\"\"\n",
    "for i in range(5):\n",
    "    print(i)\n",
    "\"\"\"\n",
    "exec(code)"
   ]
  },
  {
   "cell_type": "markdown",
   "metadata": {},
   "source": [
    "### About security\n",
    "\n",
    "Both functions can be risky if used with untrusted input because they execute arbitrary code. However, the potential impact of exec() is typically considered greater because it can run a wider range of Python constructs, thereby posing a larger security risk.\n",
    "- eval() can be slightly safer in very controlled environments with highly restricted input, but it's still risky if the inputs aren't properly sanitized.\n",
    "- exec() should be used with extreme caution, especially when executing code that could be influenced by external inputs."
   ]
  }
 ],
 "metadata": {
  "kernelspec": {
   "display_name": "Python 3",
   "language": "python",
   "name": "python3"
  },
  "language_info": {
   "codemirror_mode": {
    "name": "ipython",
    "version": 3
   },
   "file_extension": ".py",
   "mimetype": "text/x-python",
   "name": "python",
   "nbconvert_exporter": "python",
   "pygments_lexer": "ipython3",
   "version": "3.12.3"
  }
 },
 "nbformat": 4,
 "nbformat_minor": 2
}
