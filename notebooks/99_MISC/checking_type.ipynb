{
 "cells": [
  {
   "cell_type": "markdown",
   "metadata": {},
   "source": [
    "### Checking type"
   ]
  },
  {
   "cell_type": "markdown",
   "metadata": {},
   "source": [
    "**type**\n",
    "\n",
    "`type()` checks the exact type of an object."
   ]
  },
  {
   "cell_type": "code",
   "execution_count": 2,
   "metadata": {},
   "outputs": [
    {
     "name": "stdout",
     "output_type": "stream",
     "text": [
      "True\n"
     ]
    }
   ],
   "source": [
    "a = [1, 2, 3]\n",
    "print(type(a) is list)  # `is` is better suited than `==` here"
   ]
  },
  {
   "cell_type": "markdown",
   "metadata": {},
   "source": [
    "**isinstance**\n",
    "\n",
    "`isinstance()` checks if an object is an instance of a specified class or a subclass thereof."
   ]
  },
  {
   "cell_type": "code",
   "execution_count": 9,
   "metadata": {},
   "outputs": [
    {
     "name": "stdout",
     "output_type": "stream",
     "text": [
      "True\n",
      "True\n",
      "True\n",
      "False\n"
     ]
    }
   ],
   "source": [
    "zero_error = ZeroDivisionError()\n",
    "\n",
    "# first arg is an instance while second arg is a class\n",
    "print(isinstance(zero_error, ZeroDivisionError))  # type: ignore\n",
    "print(isinstance(zero_error, ArithmeticError))  # type: ignore\n",
    "print(isinstance(zero_error, Exception))  # type: ignore\n",
    "print(isinstance(zero_error, OSError))"
   ]
  },
  {
   "cell_type": "markdown",
   "metadata": {},
   "source": [
    "**issubclass**\n",
    "\n",
    "`issubclass()` checks if a class is a subclass of a specified class."
   ]
  },
  {
   "cell_type": "code",
   "execution_count": 15,
   "metadata": {},
   "outputs": [
    {
     "name": "stdout",
     "output_type": "stream",
     "text": [
      "False\n",
      "True\n",
      "True\n"
     ]
    }
   ],
   "source": [
    "class A:\n",
    "    ...\n",
    "\n",
    "\n",
    "class B(A):\n",
    "    ...\n",
    "\n",
    "\n",
    "# both args are classes\n",
    "print(issubclass(A, B))  # type: ignore\n",
    "print(issubclass(B, A))  # type: ignore\n",
    "print(issubclass(B, object))  # type: ignore"
   ]
  }
 ],
 "metadata": {
  "kernelspec": {
   "display_name": "Python 3",
   "language": "python",
   "name": "python3"
  },
  "language_info": {
   "codemirror_mode": {
    "name": "ipython",
    "version": 3
   },
   "file_extension": ".py",
   "mimetype": "text/x-python",
   "name": "python",
   "nbconvert_exporter": "python",
   "pygments_lexer": "ipython3",
   "version": "3.11.5"
  },
  "orig_nbformat": 4
 },
 "nbformat": 4,
 "nbformat_minor": 2
}
