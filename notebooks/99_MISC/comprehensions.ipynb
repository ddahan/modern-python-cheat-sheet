{
 "cells": [
  {
   "cell_type": "markdown",
   "metadata": {},
   "source": [
    "### Comprehensions\n",
    "\n",
    "Comprehensions are constructs that allow sequences to be built from other sequences"
   ]
  },
  {
   "cell_type": "markdown",
   "metadata": {},
   "source": [
    "**`list` comprehensions**"
   ]
  },
  {
   "cell_type": "code",
   "execution_count": 4,
   "metadata": {},
   "outputs": [
    {
     "name": "stdout",
     "output_type": "stream",
     "text": [
      "[1, 4, 3, 8]\n"
     ]
    }
   ],
   "source": [
    "from typing import Sequence\n",
    "\n",
    "\n",
    "def double_even_values(vals: Sequence[int]):\n",
    "    \"\"\"Return the list with even values multiplied by 2\"\"\"\n",
    "    print([x * 2 if x % 2 == 0 else x for x in vals])\n",
    "\n",
    "\n",
    "double_even_values([1, 2, 3, 4])"
   ]
  },
  {
   "cell_type": "markdown",
   "metadata": {},
   "source": [
    "**`dict` comprehensions**"
   ]
  },
  {
   "cell_type": "code",
   "execution_count": 7,
   "metadata": {},
   "outputs": [
    {
     "name": "stdout",
     "output_type": "stream",
     "text": [
      "{'a': 1, 'b': 2, 'c': 3}\n"
     ]
    }
   ],
   "source": [
    "dirty_dict = {\n",
    "    \"a\": \"1\",\n",
    "    \"B\": \"2\",\n",
    "    \"c\": \"  3 \",\n",
    "}  # inconsistent case, whitespaces, and bad type\n",
    "cleaned_dict = {k.lower(): int(v.strip()) for k, v in dirty_dict.items()}\n",
    "print(cleaned_dict)"
   ]
  },
  {
   "cell_type": "markdown",
   "metadata": {},
   "source": [
    "**`set` comprehensions**"
   ]
  },
  {
   "cell_type": "code",
   "execution_count": 8,
   "metadata": {},
   "outputs": [
    {
     "name": "stdout",
     "output_type": "stream",
     "text": [
      "{1, 4}\n"
     ]
    }
   ],
   "source": [
    "squared = {x**2 for x in [1, 1, 2]}\n",
    "print(squared)"
   ]
  },
  {
   "cell_type": "markdown",
   "metadata": {},
   "source": [
    "**`generators` comprehensions**\n",
    "\n",
    "They are similar to list comprehensions. The only difference is that they don’t allocate memory for the whole list but generate one item at a time, thus more memory efficient."
   ]
  },
  {
   "cell_type": "code",
   "execution_count": null,
   "metadata": {},
   "outputs": [],
   "source": [
    "multiples_gen = (i for i in range(30) if i % 3 == 0)\n",
    "print(multiples_gen)\n",
    "\n",
    "for x in multiples_gen:\n",
    "    print(x)  # Outputs numbers"
   ]
  }
 ],
 "metadata": {
  "kernelspec": {
   "display_name": "Python 3",
   "language": "python",
   "name": "python3"
  },
  "language_info": {
   "codemirror_mode": {
    "name": "ipython",
    "version": 3
   },
   "file_extension": ".py",
   "mimetype": "text/x-python",
   "name": "python",
   "nbconvert_exporter": "python",
   "pygments_lexer": "ipython3",
   "version": "3.11.5"
  },
  "orig_nbformat": 4
 },
 "nbformat": 4,
 "nbformat_minor": 2
}
