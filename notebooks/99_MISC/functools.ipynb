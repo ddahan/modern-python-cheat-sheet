{
 "cells": [
  {
   "cell_type": "markdown",
   "metadata": {},
   "source": [
    "### Functools\n",
    "\n",
    "Provide higher-order functions and operations on callable objects. This means it includes tools that act on or return other functions, enhancing functionality and optimizing code. "
   ]
  },
  {
   "cell_type": "code",
   "execution_count": 1,
   "metadata": {},
   "outputs": [],
   "source": [
    "import functools"
   ]
  },
  {
   "cell_type": "markdown",
   "metadata": {},
   "source": [
    "#### cached_property\n",
    "\n",
    "Similar to `property()`, with the addition of caching. Useful for expensive computed properties of instances that are otherwise effectively immutable."
   ]
  },
  {
   "cell_type": "markdown",
   "metadata": {},
   "source": [
    "### cache\n",
    "\n",
    "This decorator automatically saves the results of your function calls. Once a function is decorated with cache, if you call it with the same arguments, it won't compute the result again."
   ]
  },
  {
   "cell_type": "code",
   "execution_count": 2,
   "metadata": {},
   "outputs": [],
   "source": [
    "@functools.cache  # Cache unlimited Fibonacci results\n",
    "def fibonacci(n: int) -> int:\n",
    "    \"\"\"The fibonacci function is defined recursively, which is typically inefficient without\n",
    "    caching because it involves many repeated calculations.\n",
    "    \"\"\"\n",
    "    if n < 2:\n",
    "        return n\n",
    "    return fibonacci(n - 1) + fibonacci(n - 2)"
   ]
  },
  {
   "cell_type": "markdown",
   "metadata": {},
   "source": [
    "### lru_cache\n",
    "\n",
    "Works like the `cache` but with a twist: it has a limit on how many results it can store. \"LRU\" stands for \"Least Recently Used,\" which means that when its storage limit is reached, it throws out the result that hasn't been used for the longest time to make room for a new one. This is useful when you also need to manage memory usage carefully."
   ]
  },
  {
   "cell_type": "code",
   "execution_count": 3,
   "metadata": {},
   "outputs": [],
   "source": [
    "@functools.lru_cache(maxsize=128)  # Cache up to 128 most recent Fibonacci results\n",
    "def fibonacci(n: int) -> int:\n",
    "    if n < 2:\n",
    "        return n\n",
    "    return fibonacci(n - 1) + fibonacci(n - 2)"
   ]
  }
 ],
 "metadata": {
  "kernelspec": {
   "display_name": "Python 3",
   "language": "python",
   "name": "python3"
  },
  "language_info": {
   "codemirror_mode": {
    "name": "ipython",
    "version": 3
   },
   "file_extension": ".py",
   "mimetype": "text/x-python",
   "name": "python",
   "nbconvert_exporter": "python",
   "pygments_lexer": "ipython3",
   "version": "3.12.0"
  }
 },
 "nbformat": 4,
 "nbformat_minor": 2
}
