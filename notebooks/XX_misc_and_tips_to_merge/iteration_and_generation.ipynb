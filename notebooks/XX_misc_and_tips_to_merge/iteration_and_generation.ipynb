{
 "cells": [
  {
   "cell_type": "markdown",
   "metadata": {},
   "source": [
    "# Iteration / Generation"
   ]
  },
  {
   "cell_type": "markdown",
   "metadata": {},
   "source": [
    "### Iterables VS Iterators\n",
    "\n",
    "|                    | Iterables  | Iterators \n",
    "| -----------------: | ----------- | ---------\n",
    "| **Overlap**        | Every iterable is not necessarily an iterator | All iterators are iterable\n",
    "| **State**          | Don't have a state | Yes. Once an iterator is exhausted, you can't reuse it\n",
    "| **Methods**        | Must implement `__iter__` (or `__getitem__`) | Must implement both `__iter__` and `__next__`\n",
    "| **Usability**      | Generally used in constructs that implicitly create an iterator (a for loop) | Used to traverse elements of a collection, one at a time, without exposing its underlying representation."
   ]
  },
  {
   "cell_type": "code",
   "execution_count": 10,
   "metadata": {},
   "outputs": [
    {
     "name": "stdout",
     "output_type": "stream",
     "text": [
      "[1, 2, 3]\n",
      "<list_iterator object at 0xffff8d285f90>\n",
      "1\n",
      "2\n"
     ]
    }
   ],
   "source": [
    "some_iterable = [1, 2, 3]\n",
    "print(some_iterable)\n",
    "# print(next(some_itetable)) -> would produce an Error!\n",
    "\n",
    "some_iterator = iter(some_iterable)  # build an iterator from an iterable\n",
    "print(some_iterator)\n",
    "print(next(some_iterator))\n",
    "print(next(some_iterator))"
   ]
  },
  {
   "cell_type": "markdown",
   "metadata": {},
   "source": [
    "### Generators"
   ]
  },
  {
   "cell_type": "markdown",
   "metadata": {},
   "source": [
    "Generators are iterators, but you can only iterate over them once. It’s because they do not store all the values in memory, they generate the values on the fly. You use them by iterating over them, either with a ‘for’ loop or by passing them to any function or construct that iterates. Most of the time generators are implemented as functions. However, they do not `return` a value, they `yield` it."
   ]
  },
  {
   "cell_type": "code",
   "execution_count": 4,
   "metadata": {},
   "outputs": [
    {
     "name": "stdout",
     "output_type": "stream",
     "text": [
      "0\n",
      "1\n",
      "2\n",
      "3\n",
      "4\n"
     ]
    }
   ],
   "source": [
    "def generator_function():\n",
    "    for i in range(5):\n",
    "        yield i\n",
    "\n",
    "\n",
    "for item in generator_function():\n",
    "    print(item)"
   ]
  },
  {
   "cell_type": "markdown",
   "metadata": {},
   "source": [
    "**Why use them?**\n",
    "\n",
    "Generators are best for calculating large sets of results (particularly calculations involving loops themselves) where you don’t want to allocate the memory for all results at the same time."
   ]
  },
  {
   "cell_type": "code",
   "execution_count": 5,
   "metadata": {},
   "outputs": [],
   "source": [
    "# generator version\n",
    "def good_fibon(n: int):\n",
    "    a = b = 1\n",
    "    for _ in range(n):\n",
    "        yield a\n",
    "        a, b = b, a + b\n",
    "\n",
    "\n",
    "# ✅ dont' use lots of memory\n",
    "for x in good_fibon(100000):  #\n",
    "    ..."
   ]
  },
  {
   "cell_type": "code",
   "execution_count": 6,
   "metadata": {},
   "outputs": [],
   "source": [
    "# iterable version\n",
    "def bad_fibon(n: int):\n",
    "    a = b = 1\n",
    "    result: list[int] = []\n",
    "    for _ in range(n):\n",
    "        result.append(a)\n",
    "        a, b = b, a + b\n",
    "    return result\n",
    "\n",
    "\n",
    "# ❌ uses lots of memory and can make the program crash\n",
    "for x in bad_fibon(100000):\n",
    "    ..."
   ]
  },
  {
   "cell_type": "markdown",
   "metadata": {},
   "source": [
    "**About `yield` keyword**\n",
    "\n",
    "The `yield` keyword controls the flow of a generator function. Instead of exiting the function as seen when `return` is used, the yield keyword returns the function but remembers the state of its local variables."
   ]
  },
  {
   "cell_type": "code",
   "execution_count": 15,
   "metadata": {},
   "outputs": [
    {
     "name": "stdout",
     "output_type": "stream",
     "text": [
      "<class 'generator'>\n",
      "This is the first statment\n",
      "This is the second statement\n",
      "This is the last statement. Don't call next again!\n"
     ]
    }
   ],
   "source": [
    "def yield_multiple_statments():\n",
    "    yield \"This is the first statment\"\n",
    "    yield \"This is the second statement\"\n",
    "    yield \"This is the last statement. Don't call next again!\"\n",
    "\n",
    "\n",
    "example = yield_multiple_statments()\n",
    "print(type(example))\n",
    "print(next(example))\n",
    "print(next(example))\n",
    "print(next(example))"
   ]
  },
  {
   "cell_type": "markdown",
   "metadata": {},
   "source": [
    "### Iterators VS Generators\n",
    "\n",
    "|                    | Iterators  | Generators \n",
    "| -----------------: | ----------- | -------\n",
    "| **Overlap** | Every iterator is not necessarly a generator | All generators are iterators | \n",
    "| **How to create?**  | created by defining a class that implements an `__iter__` and `__next__` method | Created using either a function with the `yield` keyword or using generator expressions `(x for x in iterable)`\n",
    "| **State** | Maintains state between calls. Once exhausted, it can't be reused.  | Maintains state between calls. Once exhausted, it can't be reused.\n",
    "| **Memory Usage** | Stores all elements in memory when initialized | More memory-efficient as it generates values on-the-fly and doesn't store them in memory.\n",
    "| **When to use?**   | when you require an object with complex iteration logic or if you wish to expose other methods beyond `__next__`, `__iter__`, and `__init__` | Suitable for iterating over large data streams or files line-by-line, where memory efficiency is required.\n",
    "| **Code complexity** | Generally, more lines of code are needed to set up an iterator | Generators usually result in cleaner and more maintainable code for simple iterations."
   ]
  },
  {
   "cell_type": "markdown",
   "metadata": {},
   "source": [
    "**Custom Iterator Example**"
   ]
  },
  {
   "cell_type": "code",
   "execution_count": 19,
   "metadata": {},
   "outputs": [
    {
     "name": "stdout",
     "output_type": "stream",
     "text": [
      "1\n",
      "2\n"
     ]
    }
   ],
   "source": [
    "class MyIterator:\n",
    "    def __init__(self, start: int, end: int):\n",
    "        self.start = start\n",
    "        self.end = end\n",
    "        self.current = start\n",
    "\n",
    "    def __iter__(self):\n",
    "        return self\n",
    "\n",
    "    def __next__(self):\n",
    "        if self.current >= self.end:\n",
    "            raise StopIteration\n",
    "        else:\n",
    "            self.current += 1\n",
    "            return self.current - 1\n",
    "\n",
    "\n",
    "my_iterator = MyIterator(1, 10)\n",
    "print(next(my_iterator))\n",
    "print(next(my_iterator))"
   ]
  },
  {
   "cell_type": "markdown",
   "metadata": {},
   "source": [
    "**Custom Generator example**"
   ]
  },
  {
   "cell_type": "code",
   "execution_count": 20,
   "metadata": {},
   "outputs": [
    {
     "name": "stdout",
     "output_type": "stream",
     "text": [
      "1\n",
      "2\n"
     ]
    }
   ],
   "source": [
    "def my_generator_func(start: int, end: int):\n",
    "    current = start\n",
    "    while current < end:\n",
    "        yield current\n",
    "        current += 1\n",
    "\n",
    "\n",
    "my_generator = my_generator_func(1, 10)\n",
    "print(next(my_generator))\n",
    "print(next(my_generator))"
   ]
  }
 ],
 "metadata": {
  "kernelspec": {
   "display_name": "Python 3",
   "language": "python",
   "name": "python3"
  },
  "language_info": {
   "codemirror_mode": {
    "name": "ipython",
    "version": 3
   },
   "file_extension": ".py",
   "mimetype": "text/x-python",
   "name": "python",
   "nbconvert_exporter": "python",
   "pygments_lexer": "ipython3",
   "version": "3.11.5"
  },
  "orig_nbformat": 4
 },
 "nbformat": 4,
 "nbformat_minor": 2
}
