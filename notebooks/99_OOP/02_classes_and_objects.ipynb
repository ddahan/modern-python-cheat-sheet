{
 "cells": [
  {
   "cell_type": "markdown",
   "metadata": {},
   "source": [
    "### Classes and Objects"
   ]
  },
  {
   "cell_type": "markdown",
   "metadata": {},
   "source": [
    "#### Initializing objects\n",
    "\n",
    "When an object is created, the `__init__` method is automatically called to initialize the object's attributes."
   ]
  },
  {
   "cell_type": "code",
   "execution_count": null,
   "metadata": {},
   "outputs": [],
   "source": [
    "class Person:\n",
    "    def __init__(self, name: str, age: int):\n",
    "        self.name = name\n",
    "        self.age = age"
   ]
  },
  {
   "cell_type": "markdown",
   "metadata": {},
   "source": [
    "#### Instance methods, class methods, static methods"
   ]
  },
  {
   "cell_type": "markdown",
   "metadata": {},
   "source": [
    "**Instance Methods**\n",
    "\n",
    "These methods take the instance as their first argument, typically named `self`.\n",
    "\n",
    "Use them for tasks that require access to instance attributes and other instance methods."
   ]
  },
  {
   "cell_type": "code",
   "execution_count": 1,
   "metadata": {},
   "outputs": [],
   "source": [
    "def instance_method(self, arg1, arg2):  # type: ignore\n",
    "    ..."
   ]
  },
  {
   "cell_type": "markdown",
   "metadata": {},
   "source": [
    "**Class Methods**\n",
    "\n",
    "These methods take the class itself as their first argument, typically named `cls`.\n",
    "\n",
    "They operate on the class itself, rather than instances of the class."
   ]
  },
  {
   "cell_type": "code",
   "execution_count": 3,
   "metadata": {},
   "outputs": [],
   "source": [
    "@classmethod\n",
    "def class_method(cls, arg1, arg2):  # type: ignore\n",
    "    ..."
   ]
  },
  {
   "cell_type": "markdown",
   "metadata": {},
   "source": [
    "**Static Methods**\n",
    "\n",
    "Static methods don't need any specific first argument and behave like plain functions, except that they belong to the class's namespace.\n",
    "\n",
    "Use them when you need to perform an action that is related to the class but doesn't need to access or modify class or instance attributes."
   ]
  },
  {
   "cell_type": "code",
   "execution_count": null,
   "metadata": {},
   "outputs": [],
   "source": [
    "@staticmethod\n",
    "def static_method(arg1, arg2):  # type: ignore\n",
    "    ..."
   ]
  },
  {
   "cell_type": "markdown",
   "metadata": {},
   "source": [
    "#### Object representation"
   ]
  },
  {
   "cell_type": "markdown",
   "metadata": {},
   "source": [
    "**`__str__` method**\n",
    "\n",
    "This method returns the string representation of the object, primarily for end-users."
   ]
  },
  {
   "cell_type": "code",
   "execution_count": 2,
   "metadata": {},
   "outputs": [],
   "source": [
    "def __str__(self):  # type: ignore\n",
    "    return f\"Person named {self.name} aged {self.age}\"  # type: ignore"
   ]
  },
  {
   "cell_type": "markdown",
   "metadata": {},
   "source": [
    "**`__repr__` method**\n",
    "\n",
    "This method returns the unambiguous representation of the object, and is intended for development and debugging."
   ]
  },
  {
   "cell_type": "code",
   "execution_count": null,
   "metadata": {},
   "outputs": [],
   "source": [
    "def __repr__(self):  # type: ignore\n",
    "    return f\"Person(name={self.name}, age={self.age})\"  # type: ignore"
   ]
  }
 ],
 "metadata": {
  "kernelspec": {
   "display_name": "Python 3",
   "language": "python",
   "name": "python3"
  },
  "language_info": {
   "codemirror_mode": {
    "name": "ipython",
    "version": 3
   },
   "file_extension": ".py",
   "mimetype": "text/x-python",
   "name": "python",
   "nbconvert_exporter": "python",
   "pygments_lexer": "ipython3",
   "version": "3.11.5"
  },
  "orig_nbformat": 4
 },
 "nbformat": 4,
 "nbformat_minor": 2
}
