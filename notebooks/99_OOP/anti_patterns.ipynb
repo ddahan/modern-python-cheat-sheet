{
 "cells": [
  {
   "cell_type": "markdown",
   "metadata": {},
   "source": [
    "**Write java-like getters/setters**"
   ]
  },
  {
   "cell_type": "markdown",
   "metadata": {},
   "source": [
    "You don't need to write getter and setter for every variable (usual from people comming from Java).\n",
    "\n",
    "❌ Don't do this:"
   ]
  },
  {
   "cell_type": "code",
   "execution_count": 2,
   "metadata": {},
   "outputs": [
    {
     "name": "stdout",
     "output_type": "stream",
     "text": [
      "42\n"
     ]
    }
   ],
   "source": [
    "class JavaLike:\n",
    "    def __init__(self, x: int):\n",
    "        self._x: int = x\n",
    "\n",
    "    def get_x(self) -> int:\n",
    "        return self._x\n",
    "\n",
    "    def set_x(self, x: int):\n",
    "        # ...\n",
    "        self._x = x\n",
    "\n",
    "\n",
    "# Doing so, you would need to call a specific function to access or modify the function :(\n",
    "my_obj = JavaLike(1)\n",
    "my_obj.set_x(42)\n",
    "print(my_obj.get_x())"
   ]
  },
  {
   "cell_type": "markdown",
   "metadata": {},
   "source": [
    " The most Pythonic thing is just letting the variables as part of the public interface:"
   ]
  },
  {
   "cell_type": "code",
   "execution_count": 3,
   "metadata": {},
   "outputs": [
    {
     "name": "stdout",
     "output_type": "stream",
     "text": [
      "42\n"
     ]
    }
   ],
   "source": [
    "class JavaLike:\n",
    "    def __init__(self, x: int):\n",
    "        self.x = x\n",
    "\n",
    "\n",
    "my_obj = JavaLike(1)\n",
    "my_obj.x = 42\n",
    "print(my_obj.x)"
   ]
  },
  {
   "cell_type": "markdown",
   "metadata": {},
   "source": [
    "However, sometimes we do want to use getters and setters, because we want to do specific things in them. In this case, do this:\n"
   ]
  },
  {
   "cell_type": "code",
   "execution_count": 4,
   "metadata": {},
   "outputs": [
    {
     "name": "stdout",
     "output_type": "stream",
     "text": [
      "42\n"
     ]
    }
   ],
   "source": [
    "class JavaLike:\n",
    "    def __init__(self, x: int):\n",
    "        self._x: int = x\n",
    "\n",
    "    @property\n",
    "    def x(self) -> int:\n",
    "        # ... anything can be done here\n",
    "        return self._x\n",
    "\n",
    "    @x.setter\n",
    "    def x(self, val: int):\n",
    "        # ... anything can be done here\n",
    "        self._x = val\n",
    "\n",
    "\n",
    "my_obj = JavaLike(1)\n",
    "my_obj.x = 42\n",
    "print(my_obj.x)"
   ]
  }
 ],
 "metadata": {
  "kernelspec": {
   "display_name": "Python 3",
   "language": "python",
   "name": "python3"
  },
  "language_info": {
   "codemirror_mode": {
    "name": "ipython",
    "version": 3
   },
   "file_extension": ".py",
   "mimetype": "text/x-python",
   "name": "python",
   "nbconvert_exporter": "python",
   "pygments_lexer": "ipython3",
   "version": "3.11.5"
  },
  "orig_nbformat": 4
 },
 "nbformat": 4,
 "nbformat_minor": 2
}
