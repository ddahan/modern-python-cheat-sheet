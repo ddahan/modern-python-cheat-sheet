{
 "cells": [
  {
   "cell_type": "markdown",
   "metadata": {},
   "source": [
    "### Key concepts\n",
    "\n",
    "*This is a reminder of OOP key concepts.*"
   ]
  },
  {
   "cell_type": "markdown",
   "metadata": {},
   "source": [
    "\n",
    "**Classes**\n",
    "\n",
    "A class is like a blueprint for creating objects. It defines a set of attributes and methods that will characterize any object that is instantiated from this class."
   ]
  },
  {
   "cell_type": "code",
   "execution_count": 17,
   "metadata": {},
   "outputs": [],
   "source": [
    "class Dog:\n",
    "    def __init__(self, name: str):\n",
    "        self.name = name\n",
    "\n",
    "    def bark(self):\n",
    "        return \"Woof!\""
   ]
  },
  {
   "cell_type": "markdown",
   "metadata": {},
   "source": [
    "**Objects**\n",
    "\n",
    "Objects are instances of classes. When you create an object, you're essentially creating an instance that contains the data attributes and behaviors defined in the class."
   ]
  },
  {
   "cell_type": "code",
   "execution_count": 18,
   "metadata": {},
   "outputs": [
    {
     "name": "stdout",
     "output_type": "stream",
     "text": [
      "Woof!\n"
     ]
    }
   ],
   "source": [
    "# Create an object of the Dog class\n",
    "my_dog = Dog(\"Fido\")\n",
    "print(my_dog.bark())"
   ]
  },
  {
   "cell_type": "markdown",
   "metadata": {},
   "source": [
    "**Inheritance**\n",
    "\n",
    "Inheritance is the mechanism where a new class inherits attributes and behaviors from an existing class. The new class is known as the subclass, and the existing class is known as the superclass."
   ]
  },
  {
   "cell_type": "code",
   "execution_count": 19,
   "metadata": {},
   "outputs": [
    {
     "name": "stdout",
     "output_type": "stream",
     "text": [
      "Meow\n"
     ]
    }
   ],
   "source": [
    "# Parent class\n",
    "class Animal:\n",
    "    def make_sound(self) -> str:\n",
    "        return \"Some generic sound\"\n",
    "\n",
    "\n",
    "# Child classes\n",
    "class Cat(Animal):\n",
    "    def make_sound(self) -> str:\n",
    "        return \"Meow\"\n",
    "\n",
    "\n",
    "class Dog(Animal):\n",
    "    def make_sound(self):\n",
    "        return \"Woof!\"\n",
    "\n",
    "\n",
    "# Create an object of the Cat class\n",
    "my_cat = Cat()\n",
    "print(my_cat.make_sound())"
   ]
  },
  {
   "cell_type": "markdown",
   "metadata": {},
   "source": [
    "**Encapsulation**\n",
    "\n",
    "Encapsulation refers to the bundling of data with methods that operate on that data. It restricts direct access to some of an object's components, making it easier to prevent unintended interference and misuse of the data."
   ]
  },
  {
   "cell_type": "code",
   "execution_count": 20,
   "metadata": {},
   "outputs": [
    {
     "name": "stdout",
     "output_type": "stream",
     "text": [
      "1000\n"
     ]
    }
   ],
   "source": [
    "class Account:\n",
    "    def __init__(self, balance: int):\n",
    "        self._balance = balance  # private attribute\n",
    "\n",
    "    def get_balance(self) -> int:  # getter method\n",
    "        return self._balance\n",
    "\n",
    "\n",
    "# Create an object of the Account class\n",
    "my_account = Account(1000)\n",
    "print(my_account.get_balance())"
   ]
  },
  {
   "cell_type": "markdown",
   "metadata": {},
   "source": [
    "**Abstraction**\n",
    "\n",
    "Abstraction means hiding the complex reality while exposing only the necessary parts. In Python, you can create abstract classes and methods to establish a level of abstraction."
   ]
  },
  {
   "cell_type": "code",
   "execution_count": 21,
   "metadata": {},
   "outputs": [
    {
     "name": "stdout",
     "output_type": "stream",
     "text": [
      "200\n"
     ]
    }
   ],
   "source": [
    "from abc import ABC, abstractmethod\n",
    "\n",
    "\n",
    "class Shape(ABC):\n",
    "    @abstractmethod\n",
    "    def area(self) -> float:\n",
    "        raise NotImplementedError\n",
    "\n",
    "\n",
    "class Rectangle(Shape):\n",
    "    def __init__(self, x: float, y: float):\n",
    "        self.x = x\n",
    "        self.y = y\n",
    "\n",
    "    def area(self) -> float:\n",
    "        return self.x * self.y\n",
    "\n",
    "\n",
    "# Create an object of the Rectangle class\n",
    "rectangle = Rectangle(10, 20)\n",
    "print(rectangle.area())"
   ]
  },
  {
   "cell_type": "markdown",
   "metadata": {},
   "source": [
    "**Polymorphism**\n",
    "\n",
    "Polymorphism allows you to treat instances of different classes in the same way, as long as they share the same method names or attributes. It allows for a level of abstraction, enabling more generic code."
   ]
  },
  {
   "cell_type": "code",
   "execution_count": 22,
   "metadata": {},
   "outputs": [
    {
     "name": "stdout",
     "output_type": "stream",
     "text": [
      "Meow\n",
      "Woof!\n"
     ]
    }
   ],
   "source": [
    "def animal_sound(animal: Animal):\n",
    "    print(animal.make_sound())\n",
    "\n",
    "\n",
    "# Create objects\n",
    "cat = Cat()\n",
    "dog = Dog()\n",
    "\n",
    "# Polymorphic function\n",
    "animal_sound(cat)\n",
    "animal_sound(dog)"
   ]
  }
 ],
 "metadata": {
  "kernelspec": {
   "display_name": "Python 3",
   "language": "python",
   "name": "python3"
  },
  "language_info": {
   "codemirror_mode": {
    "name": "ipython",
    "version": 3
   },
   "file_extension": ".py",
   "mimetype": "text/x-python",
   "name": "python",
   "nbconvert_exporter": "python",
   "pygments_lexer": "ipython3",
   "version": "3.11.5"
  },
  "orig_nbformat": 4
 },
 "nbformat": 4,
 "nbformat_minor": 2
}
