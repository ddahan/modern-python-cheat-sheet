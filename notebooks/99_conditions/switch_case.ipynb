{
 "cells": [
  {
   "cell_type": "markdown",
   "metadata": {},
   "source": [
    "### Structural Pattern Matching (Switch/Case)\n",
    "\n",
    "It's a more concise and more redable alternative to a serie of \"if-elif-else\" statements."
   ]
  },
  {
   "cell_type": "code",
   "execution_count": 2,
   "metadata": {},
   "outputs": [
    {
     "name": "stdout",
     "output_type": "stream",
     "text": [
      "The language doesn't matter, what matters is solving problems.\n"
     ]
    }
   ],
   "source": [
    "lang = input(\"What's the programming language you want to learn? \")\n",
    "\n",
    "match lang:\n",
    "    case \"JavaScript\":\n",
    "        print(\"You can become a web developer.\")\n",
    "\n",
    "    case \"Python\":\n",
    "        print(\"You can become a Data Scientist\")\n",
    "\n",
    "    case \"PHP\":\n",
    "        print(\"You can become a backend developer\")\n",
    "\n",
    "    case \"Solidity\":\n",
    "        print(\"You can become a Blockchain developer\")\n",
    "\n",
    "    case _:\n",
    "        print(\"The language doesn't matter, what matters is solving problems.\")"
   ]
  },
  {
   "cell_type": "markdown",
   "metadata": {},
   "source": [
    "- Note that there is no need to add a `break` statement, it's done behind the scene."
   ]
  }
 ],
 "metadata": {
  "kernelspec": {
   "display_name": "Python 3",
   "language": "python",
   "name": "python3"
  },
  "language_info": {
   "codemirror_mode": {
    "name": "ipython",
    "version": 3
   },
   "file_extension": ".py",
   "mimetype": "text/x-python",
   "name": "python",
   "nbconvert_exporter": "python",
   "pygments_lexer": "ipython3",
   "version": "3.11.5"
  },
  "orig_nbformat": 4
 },
 "nbformat": 4,
 "nbformat_minor": 2
}
